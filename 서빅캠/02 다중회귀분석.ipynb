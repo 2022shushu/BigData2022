{
 "cells": [
  {
   "cell_type": "code",
   "execution_count": 58,
   "id": "a6db8340-180a-4dea-a280-3a263ec157d2",
   "metadata": {},
   "outputs": [],
   "source": [
    "# 필요한 기능들\n",
    "import matplotlib.pyplot as plt\n",
    "import seaborn as sns\n",
    "%matplotlib inline\n",
    "from scipy import stats\n",
    "import pandas as pd\n",
    "import numpy as np\n",
    "from matplotlib import rc\n",
    "\n",
    "# 경고 메세지 무시\n",
    "import os\n",
    "import warnings\n",
    "warnings.simplefilter(action='ignore', category = FutureWarning)\n",
    "\n",
    "# 한글 안 깨지게 하기\n",
    "if os.name == 'nt' :\n",
    "    font_family = \"Malgun Gothic\"\n",
    "else :\n",
    "    font_family = \"AppleGothic\"\n",
    "\n",
    "sns.set(font = font_family, rc = {\"axes.unicode_minus\" : False})\n",
    "\n",
    "\n",
    "# csv 파일 가져오기\n",
    "df = pd.read_csv('C:/Users/user/Desktop/머신러닝 학습소/1102contest/eunpyeong.csv', encoding='cp949')"
   ]
  },
  {
   "cell_type": "code",
   "execution_count": 59,
   "id": "ee27cc06-a594-4b95-a890-69c354ccaf6f",
   "metadata": {},
   "outputs": [
    {
     "name": "stdout",
     "output_type": "stream",
     "text": [
      "<class 'pandas.core.frame.DataFrame'>\n",
      "RangeIndex: 11 entries, 0 to 10\n",
      "Data columns (total 20 columns):\n",
      " #   Column                      Non-Null Count  Dtype  \n",
      "---  ------                      --------------  -----  \n",
      " 0   시군구                         11 non-null     object \n",
      " 1   읍면동                         11 non-null     object \n",
      " 2   거주등록인구수                     11 non-null     int64  \n",
      " 3   공원개수                        11 non-null     int64  \n",
      " 4   공원면적                        11 non-null     int64  \n",
      " 5   1인당공원면적                     11 non-null     float64\n",
      " 6   녹지개수                        11 non-null     int64  \n",
      " 7   녹지면적                        11 non-null     int64  \n",
      " 8   1인당녹지면적                     11 non-null     float64\n",
      " 9   녹지공원총합                      11 non-null     int64  \n",
      " 10  녹지공원면적총합                    11 non-null     int64  \n",
      " 11  1인당녹지공원면적총합                 11 non-null     float64\n",
      " 12  도시재생사업개수                    11 non-null     int64  \n",
      " 13  버스정류장개수                     11 non-null     int64  \n",
      " 14  지하철역개수                      11 non-null     int64  \n",
      " 15  토지공시지가평균                    11 non-null     float64\n",
      " 16  기초수급자인구밀도 (인원 수 / 면적 (k㎡))  11 non-null     float64\n",
      " 17  주간평균생활인구수                   11 non-null     float64\n",
      " 18  저소득층가구비율                    11 non-null     float64\n",
      " 19  미세먼지농도                      11 non-null     int64  \n",
      "dtypes: float64(7), int64(11), object(2)\n",
      "memory usage: 1.8+ KB\n"
     ]
    }
   ],
   "source": [
    "df.info()"
   ]
  },
  {
   "cell_type": "code",
   "execution_count": 60,
   "id": "092e5105-5617-4887-8c24-b562e9bc8f5f",
   "metadata": {},
   "outputs": [],
   "source": [
    "# 버리기\n",
    "df_new = df.drop(['시군구', '거주등록인구수', '공원면적', '1인당공원면적', '녹지개수', '녹지면적', \n",
    "                  '1인당녹지면적', '녹지공원총합', '녹지공원면적총합', '1인당녹지공원면적총합', '도시재생사업개수', '지하철역개수',\n",
    "                  '기초수급자인구밀도 (인원 수 / 면적 (k㎡))', '저소득층가구비율', '미세먼지농도'], axis=1)"
   ]
  },
  {
   "cell_type": "code",
   "execution_count": 61,
   "id": "6af8373c-cdfc-43d0-b381-ee49453819a8",
   "metadata": {},
   "outputs": [
    {
     "name": "stdout",
     "output_type": "stream",
     "text": [
      "<class 'pandas.core.frame.DataFrame'>\n",
      "RangeIndex: 11 entries, 0 to 10\n",
      "Data columns (total 5 columns):\n",
      " #   Column     Non-Null Count  Dtype  \n",
      "---  ------     --------------  -----  \n",
      " 0   읍면동        11 non-null     object \n",
      " 1   공원개수       11 non-null     int64  \n",
      " 2   버스정류장개수    11 non-null     int64  \n",
      " 3   토지공시지가평균   11 non-null     float64\n",
      " 4   주간평균생활인구수  11 non-null     float64\n",
      "dtypes: float64(2), int64(2), object(1)\n",
      "memory usage: 568.0+ bytes\n"
     ]
    }
   ],
   "source": [
    "df_new.info()"
   ]
  },
  {
   "cell_type": "code",
   "execution_count": 62,
   "id": "f17be3d1-da40-49bd-a699-f36570820f47",
   "metadata": {},
   "outputs": [
    {
     "data": {
      "text/html": [
       "<div>\n",
       "<style scoped>\n",
       "    .dataframe tbody tr th:only-of-type {\n",
       "        vertical-align: middle;\n",
       "    }\n",
       "\n",
       "    .dataframe tbody tr th {\n",
       "        vertical-align: top;\n",
       "    }\n",
       "\n",
       "    .dataframe thead th {\n",
       "        text-align: right;\n",
       "    }\n",
       "</style>\n",
       "<table border=\"1\" class=\"dataframe\">\n",
       "  <thead>\n",
       "    <tr style=\"text-align: right;\">\n",
       "      <th></th>\n",
       "      <th>공원개수</th>\n",
       "      <th>버스정류장개수</th>\n",
       "      <th>토지공시지가평균</th>\n",
       "      <th>주간평균생활인구수</th>\n",
       "    </tr>\n",
       "  </thead>\n",
       "  <tbody>\n",
       "    <tr>\n",
       "      <th>count</th>\n",
       "      <td>11.000000</td>\n",
       "      <td>11.000000</td>\n",
       "      <td>1.100000e+01</td>\n",
       "      <td>11.000000</td>\n",
       "    </tr>\n",
       "    <tr>\n",
       "      <th>mean</th>\n",
       "      <td>7.636364</td>\n",
       "      <td>46.909091</td>\n",
       "      <td>3.369254e+06</td>\n",
       "      <td>34586.829394</td>\n",
       "    </tr>\n",
       "    <tr>\n",
       "      <th>std</th>\n",
       "      <td>4.863594</td>\n",
       "      <td>24.043521</td>\n",
       "      <td>7.429448e+05</td>\n",
       "      <td>15452.876627</td>\n",
       "    </tr>\n",
       "    <tr>\n",
       "      <th>min</th>\n",
       "      <td>2.000000</td>\n",
       "      <td>16.000000</td>\n",
       "      <td>1.444670e+06</td>\n",
       "      <td>10207.003330</td>\n",
       "    </tr>\n",
       "    <tr>\n",
       "      <th>25%</th>\n",
       "      <td>4.000000</td>\n",
       "      <td>25.500000</td>\n",
       "      <td>3.240431e+06</td>\n",
       "      <td>25960.891670</td>\n",
       "    </tr>\n",
       "    <tr>\n",
       "      <th>50%</th>\n",
       "      <td>7.000000</td>\n",
       "      <td>52.000000</td>\n",
       "      <td>3.511362e+06</td>\n",
       "      <td>36938.633330</td>\n",
       "    </tr>\n",
       "    <tr>\n",
       "      <th>75%</th>\n",
       "      <td>10.000000</td>\n",
       "      <td>68.000000</td>\n",
       "      <td>3.623019e+06</td>\n",
       "      <td>43413.041660</td>\n",
       "    </tr>\n",
       "    <tr>\n",
       "      <th>max</th>\n",
       "      <td>18.000000</td>\n",
       "      <td>80.000000</td>\n",
       "      <td>4.467928e+06</td>\n",
       "      <td>57383.116670</td>\n",
       "    </tr>\n",
       "  </tbody>\n",
       "</table>\n",
       "</div>"
      ],
      "text/plain": [
       "            공원개수    버스정류장개수      토지공시지가평균     주간평균생활인구수\n",
       "count  11.000000  11.000000  1.100000e+01     11.000000\n",
       "mean    7.636364  46.909091  3.369254e+06  34586.829394\n",
       "std     4.863594  24.043521  7.429448e+05  15452.876627\n",
       "min     2.000000  16.000000  1.444670e+06  10207.003330\n",
       "25%     4.000000  25.500000  3.240431e+06  25960.891670\n",
       "50%     7.000000  52.000000  3.511362e+06  36938.633330\n",
       "75%    10.000000  68.000000  3.623019e+06  43413.041660\n",
       "max    18.000000  80.000000  4.467928e+06  57383.116670"
      ]
     },
     "execution_count": 62,
     "metadata": {},
     "output_type": "execute_result"
    }
   ],
   "source": [
    "df_new.describe()"
   ]
  },
  {
   "cell_type": "code",
   "execution_count": 63,
   "id": "e47f5aef-8b43-426c-a049-82969037bbe1",
   "metadata": {},
   "outputs": [
    {
     "data": {
      "text/plain": [
       "<AxesSubplot:xlabel='주간평균생활인구수', ylabel='공원개수'>"
      ]
     },
     "execution_count": 63,
     "metadata": {},
     "output_type": "execute_result"
    },
    {
     "data": {
      "image/png": "[encoded data removed]",
      "text/plain": [
       "<Figure size 720x360 with 1 Axes>"
      ]
     },
     "metadata": {},
     "output_type": "display_data"
    },
    {
     "data": {
      "image/png": "[encoded data removed]",
      "text/plain": [
       "<Figure size 720x360 with 1 Axes>"
      ]
     },
     "metadata": {},
     "output_type": "display_data"
    },
    {
     "data": {
      "image/png": "[encoded data removed]",
      "text/plain": [
       "<Figure size 720x360 with 1 Axes>"
      ]
     },
     "metadata": {},
     "output_type": "display_data"
    }
   ],
   "source": [
    "# 산점도\n",
    "df_new.plot(kind = 'scatter', x = '버스정류장개수', y = '공원개수', c = 'green', s = 10, figsize = (10, 5))\n",
    "df_new.plot(kind = 'scatter', x = '토지공시지가평균', y = '공원개수', c = 'red', s = 10, figsize = (10, 5))\n",
    "df_new.plot(kind = 'scatter', x = '주간평균생활인구수', y = '공원개수', c = 'green', s = 10, figsize = (10, 5))"
   ]
  },
  {
   "cell_type": "code",
   "execution_count": 64,
   "id": "1731d875-b411-4cd3-b82f-3d9a15b66437",
   "metadata": {},
   "outputs": [
    {
     "data": {
      "text/html": [
       "<div>\n",
       "<style scoped>\n",
       "    .dataframe tbody tr th:only-of-type {\n",
       "        vertical-align: middle;\n",
       "    }\n",
       "\n",
       "    .dataframe tbody tr th {\n",
       "        vertical-align: top;\n",
       "    }\n",
       "\n",
       "    .dataframe thead th {\n",
       "        text-align: right;\n",
       "    }\n",
       "</style>\n",
       "<table border=\"1\" class=\"dataframe\">\n",
       "  <thead>\n",
       "    <tr style=\"text-align: right;\">\n",
       "      <th></th>\n",
       "      <th>읍면동</th>\n",
       "      <th>공원개수</th>\n",
       "      <th>버스정류장개수</th>\n",
       "      <th>토지공시지가평균</th>\n",
       "      <th>주간평균생활인구수</th>\n",
       "    </tr>\n",
       "  </thead>\n",
       "  <tbody>\n",
       "    <tr>\n",
       "      <th>0</th>\n",
       "      <td>갈현동</td>\n",
       "      <td>8</td>\n",
       "      <td>74</td>\n",
       "      <td>3511361.699</td>\n",
       "      <td>42426.64666</td>\n",
       "    </tr>\n",
       "    <tr>\n",
       "      <th>1</th>\n",
       "      <td>구산동</td>\n",
       "      <td>3</td>\n",
       "      <td>34</td>\n",
       "      <td>3049121.216</td>\n",
       "      <td>21918.81667</td>\n",
       "    </tr>\n",
       "    <tr>\n",
       "      <th>2</th>\n",
       "      <td>녹번동</td>\n",
       "      <td>9</td>\n",
       "      <td>23</td>\n",
       "      <td>3399515.343</td>\n",
       "      <td>30002.96667</td>\n",
       "    </tr>\n",
       "    <tr>\n",
       "      <th>3</th>\n",
       "      <td>대조동</td>\n",
       "      <td>2</td>\n",
       "      <td>28</td>\n",
       "      <td>4467927.803</td>\n",
       "      <td>37022.56667</td>\n",
       "    </tr>\n",
       "    <tr>\n",
       "      <th>4</th>\n",
       "      <td>불광동</td>\n",
       "      <td>11</td>\n",
       "      <td>66</td>\n",
       "      <td>3459226.901</td>\n",
       "      <td>44399.43666</td>\n",
       "    </tr>\n",
       "  </tbody>\n",
       "</table>\n",
       "</div>"
      ],
      "text/plain": [
       "   읍면동  공원개수  버스정류장개수     토지공시지가평균    주간평균생활인구수\n",
       "0  갈현동     8       74  3511361.699  42426.64666\n",
       "1  구산동     3       34  3049121.216  21918.81667\n",
       "2  녹번동     9       23  3399515.343  30002.96667\n",
       "3  대조동     2       28  4467927.803  37022.56667\n",
       "4  불광동    11       66  3459226.901  44399.43666"
      ]
     },
     "execution_count": 64,
     "metadata": {},
     "output_type": "execute_result"
    }
   ],
   "source": [
    "df_new.head()"
   ]
  },
  {
   "cell_type": "code",
   "execution_count": 42,
   "id": "e3dfe693-53c7-440c-83fc-0215ebd42c5a",
   "metadata": {},
   "outputs": [],
   "source": [
    "df_real = df_new.drop(['읍면동'], axis = 1)"
   ]
  },
  {
   "cell_type": "code",
   "execution_count": 57,
   "id": "7fb8efab-c8b2-47c0-b37c-d367cfccc83e",
   "metadata": {},
   "outputs": [
    {
     "name": "stdout",
     "output_type": "stream",
     "text": [
      "<class 'pandas.core.frame.DataFrame'>\n",
      "RangeIndex: 11 entries, 0 to 10\n",
      "Data columns (total 4 columns):\n",
      " #   Column     Non-Null Count  Dtype  \n",
      "---  ------     --------------  -----  \n",
      " 0   공원개수       11 non-null     float64\n",
      " 1   버스정류장개수    11 non-null     float64\n",
      " 2   토지공시지가평균   11 non-null     float64\n",
      " 3   주간평균생활인구수  11 non-null     float64\n",
      "dtypes: float64(4)\n",
      "memory usage: 480.0 bytes\n"
     ]
    }
   ],
   "source": [
    "df_real.info()"
   ]
  },
  {
   "cell_type": "code",
   "execution_count": 71,
   "id": "a986d29f-e7de-40a3-9ea2-5b0411019072",
   "metadata": {},
   "outputs": [],
   "source": [
    "X = df_real[['버스정류장개수', '토지공시지가평균', '주간평균생활인구수']]\n",
    "y = df_real['공원개수']"
   ]
  },
  {
   "cell_type": "code",
   "execution_count": 75,
   "id": "f1732955-8e59-4b1d-94a9-52c32b457f96",
   "metadata": {},
   "outputs": [
    {
     "name": "stdout",
     "output_type": "stream",
     "text": [
      "a value =  13.342729075811075\n",
      "b value =  [ 6.06722517e-02 -3.36295500e-06  7.09147890e+02]\n"
     ]
    }
   ],
   "source": [
    "linear_regression = linear_model.LinearRegression()\n",
    "linear_regression.fit(X = pd.DataFrame(X), y = y)\n",
    "prediction = linear_regression.predict(X = pd.DataFrame(X))\n",
    "print('a value = ', linear_regression.intercept_)\n",
    "print('b value = ', linear_regression.coef_) # 독립변수 개수만큼 생성된다."
   ]
  },
  {
   "cell_type": "code",
   "execution_count": 76,
   "id": "f8f8bcc0-4d9a-42e8-8699-37a2d9786f8b",
   "metadata": {},
   "outputs": [
    {
     "data": {
      "text/plain": [
       "count    1.100000e+01\n",
       "mean    -8.074349e-16\n",
       "std      2.618702e+00\n",
       "min     -4.863858e+00\n",
       "25%     -5.624767e-01\n",
       "50%      3.024308e-01\n",
       "75%      1.442554e+00\n",
       "max      3.948142e+00\n",
       "Name: 공원개수, dtype: float64"
      ]
     },
     "execution_count": 76,
     "metadata": {},
     "output_type": "execute_result"
    }
   ],
   "source": [
    "# 적합도 검증 - 잔차\n",
    "residuals = y-prediction\n",
    "residuals.describe()"
   ]
  },
  {
   "cell_type": "code",
   "execution_count": 77,
   "id": "5b03a680-9078-4416-bd23-9100b284d332",
   "metadata": {},
   "outputs": [
    {
     "name": "stdout",
     "output_type": "stream",
     "text": [
      "R_squared =  0.7100938172632372\n"
     ]
    }
   ],
   "source": [
    "# 적합도 검증 - 결정계수\n",
    "SSE = (residuals**2).sum()\n",
    "SST = ((y-y.mean())**2).sum()\n",
    "R_squared = 1 - (SSE/SST)\n",
    "print('R_squared = ', R_squared)"
   ]
  },
  {
   "cell_type": "code",
   "execution_count": 79,
   "id": "966ef6d6-ae73-4ff7-a044-2986c62e64c5",
   "metadata": {},
   "outputs": [
    {
     "name": "stdout",
     "output_type": "stream",
     "text": [
      "score =  0.7100938172632372\n",
      "Mean_Squared_Error =  6.234180888273198\n",
      "RMSE =  2.496834173162727\n"
     ]
    }
   ],
   "source": [
    "# 결정계수 71%는 독립변수들이 종속변수에 상당한 영향을 주는 것을 확인 가능하다.\n",
    "# 생성된 회귀분석모델에 대한 결정계수 MSE, RMSE를 구해보자. \n",
    "from sklearn.metrics import mean_squared_error\n",
    "print('score = ', linear_regression.score(X =pd.DataFrame(X), y=y))\n",
    "print('Mean_Squared_Error = ', mean_squared_error(prediction, y))\n",
    "print('RMSE = ', mean_squared_error(prediction, y)**0.5)"
   ]
  },
  {
   "cell_type": "code",
   "execution_count": 95,
   "id": "7a983655-2f9b-4b81-859b-ae6488732109",
   "metadata": {},
   "outputs": [
    {
     "name": "stderr",
     "output_type": "stream",
     "text": [
      "C:\\Users\\user\\anaconda3\\lib\\site-packages\\scipy\\stats\\stats.py:1541: UserWarning: kurtosistest only valid for n>=20 ... continuing anyway, n=11\n",
      "  warnings.warn(\"kurtosistest only valid for n>=20 ... continuing \"\n"
     ]
    },
    {
     "data": {
      "text/html": [
       "<table class=\"simpletable\">\n",
       "<caption>OLS Regression Results</caption>\n",
       "<tr>\n",
       "  <th>Dep. Variable:</th>          <td>공원개수</td>       <th>  R-squared:         </th> <td>   0.710</td>\n",
       "</tr>\n",
       "<tr>\n",
       "  <th>Model:</th>                   <td>OLS</td>       <th>  Adj. R-squared:    </th> <td>   0.586</td>\n",
       "</tr>\n",
       "<tr>\n",
       "  <th>Method:</th>             <td>Least Squares</td>  <th>  F-statistic:       </th> <td>   5.715</td>\n",
       "</tr>\n",
       "<tr>\n",
       "  <th>Date:</th>             <td>Wed, 26 Oct 2022</td> <th>  Prob (F-statistic):</th>  <td>0.0269</td> \n",
       "</tr>\n",
       "<tr>\n",
       "  <th>Time:</th>                 <td>13:46:59</td>     <th>  Log-Likelihood:    </th> <td> -25.674</td>\n",
       "</tr>\n",
       "<tr>\n",
       "  <th>No. Observations:</th>      <td>    11</td>      <th>  AIC:               </th> <td>   59.35</td>\n",
       "</tr>\n",
       "<tr>\n",
       "  <th>Df Residuals:</th>          <td>     7</td>      <th>  BIC:               </th> <td>   60.94</td>\n",
       "</tr>\n",
       "<tr>\n",
       "  <th>Df Model:</th>              <td>     3</td>      <th>                     </th>     <td> </td>   \n",
       "</tr>\n",
       "<tr>\n",
       "  <th>Covariance Type:</th>      <td>nonrobust</td>    <th>                     </th>     <td> </td>   \n",
       "</tr>\n",
       "</table>\n",
       "<table class=\"simpletable\">\n",
       "<tr>\n",
       "      <td></td>         <th>coef</th>     <th>std err</th>      <th>t</th>      <th>P>|t|</th>  <th>[0.025</th>    <th>0.975]</th>  \n",
       "</tr>\n",
       "<tr>\n",
       "  <th>const</th>     <td>   13.3427</td> <td>    6.164</td> <td>    2.165</td> <td> 0.067</td> <td>   -1.233</td> <td>   27.919</td>\n",
       "</tr>\n",
       "<tr>\n",
       "  <th>버스정류장개수</th>   <td>    0.0607</td> <td>    0.074</td> <td>    0.823</td> <td> 0.438</td> <td>   -0.114</td> <td>    0.235</td>\n",
       "</tr>\n",
       "<tr>\n",
       "  <th>토지공시지가평균</th>  <td>-3.363e-06</td> <td> 1.48e-06</td> <td>   -2.279</td> <td> 0.057</td> <td>-6.85e-06</td> <td> 1.26e-07</td>\n",
       "</tr>\n",
       "<tr>\n",
       "  <th>주간평균생활인구수</th> <td>  709.1479</td> <td> 1009.807</td> <td>    0.702</td> <td> 0.505</td> <td>-1678.666</td> <td> 3096.962</td>\n",
       "</tr>\n",
       "</table>\n",
       "<table class=\"simpletable\">\n",
       "<tr>\n",
       "  <th>Omnibus:</th>       <td> 1.564</td> <th>  Durbin-Watson:     </th> <td>   2.245</td>\n",
       "</tr>\n",
       "<tr>\n",
       "  <th>Prob(Omnibus):</th> <td> 0.457</td> <th>  Jarque-Bera (JB):  </th> <td>   0.765</td>\n",
       "</tr>\n",
       "<tr>\n",
       "  <th>Skew:</th>          <td>-0.632</td> <th>  Prob(JB):          </th> <td>   0.682</td>\n",
       "</tr>\n",
       "<tr>\n",
       "  <th>Kurtosis:</th>      <td> 2.731</td> <th>  Cond. No.          </th> <td>3.68e+09</td>\n",
       "</tr>\n",
       "</table><br/><br/>Notes:<br/>[1] Standard Errors assume that the covariance matrix of the errors is correctly specified.<br/>[2] The condition number is large, 3.68e+09. This might indicate that there are<br/>strong multicollinearity or other numerical problems."
      ],
      "text/plain": [
       "<class 'statsmodels.iolib.summary.Summary'>\n",
       "\"\"\"\n",
       "                            OLS Regression Results                            \n",
       "==============================================================================\n",
       "Dep. Variable:                   공원개수   R-squared:                       0.710\n",
       "Model:                            OLS   Adj. R-squared:                  0.586\n",
       "Method:                 Least Squares   F-statistic:                     5.715\n",
       "Date:                Wed, 26 Oct 2022   Prob (F-statistic):             0.0269\n",
       "Time:                        13:46:59   Log-Likelihood:                -25.674\n",
       "No. Observations:                  11   AIC:                             59.35\n",
       "Df Residuals:                       7   BIC:                             60.94\n",
       "Df Model:                           3                                         \n",
       "Covariance Type:            nonrobust                                         \n",
       "==============================================================================\n",
       "                 coef    std err          t      P>|t|      [0.025      0.975]\n",
       "------------------------------------------------------------------------------\n",
       "const         13.3427      6.164      2.165      0.067      -1.233      27.919\n",
       "버스정류장개수        0.0607      0.074      0.823      0.438      -0.114       0.235\n",
       "토지공시지가평균   -3.363e-06   1.48e-06     -2.279      0.057   -6.85e-06    1.26e-07\n",
       "주간평균생활인구수    709.1479   1009.807      0.702      0.505   -1678.666    3096.962\n",
       "==============================================================================\n",
       "Omnibus:                        1.564   Durbin-Watson:                   2.245\n",
       "Prob(Omnibus):                  0.457   Jarque-Bera (JB):                0.765\n",
       "Skew:                          -0.632   Prob(JB):                        0.682\n",
       "Kurtosis:                       2.731   Cond. No.                     3.68e+09\n",
       "==============================================================================\n",
       "\n",
       "Notes:\n",
       "[1] Standard Errors assume that the covariance matrix of the errors is correctly specified.\n",
       "[2] The condition number is large, 3.68e+09. This might indicate that there are\n",
       "strong multicollinearity or other numerical problems.\n",
       "\"\"\""
      ]
     },
     "execution_count": 95,
     "metadata": {},
     "output_type": "execute_result"
    }
   ],
   "source": [
    "import statsmodels.api as sm\n",
    "\n",
    "# 상수항 추가\n",
    "X1 = sm.add_constant(X, has_constant = \"add\")\n",
    "\n",
    "# OLS 검정\n",
    "multi_model = sm.OLS(y, X1)\n",
    "fitted_multi_model = multi_model.fit()\n",
    "fitted_multi_model.summary()"
   ]
  },
  {
   "cell_type": "code",
   "execution_count": 97,
   "id": "b93676fb-f629-4598-8e23-ff4c4aa85cf5",
   "metadata": {},
   "outputs": [
    {
     "data": {
      "text/plain": [
       "const         13.342729\n",
       "버스정류장개수        0.060672\n",
       "토지공시지가평균      -0.000003\n",
       "주간평균생활인구수    709.147890\n",
       "dtype: float64"
      ]
     },
     "execution_count": 97,
     "metadata": {},
     "output_type": "execute_result"
    }
   ],
   "source": [
    "fitted_multi_model.params # 다중회귀모델 계수"
   ]
  },
  {
   "cell_type": "code",
   "execution_count": 101,
   "id": "30f3d426-5136-44f8-b4f0-96aa60955d75",
   "metadata": {},
   "outputs": [
    {
     "data": {
      "image/png": "[encoded data removed]",
      "text/plain": [
       "<Figure size 720x720 with 20 Axes>"
      ]
     },
     "metadata": {},
     "output_type": "display_data"
    }
   ],
   "source": [
    "sns.pairplot(X1)\n",
    "plt.show() # 변수끼리 산점도 시각화"
   ]
  },
  {
   "cell_type": "code",
   "execution_count": 111,
   "id": "cc3ed820-9bc8-4518-b5b8-6934de8525a1",
   "metadata": {},
   "outputs": [
    {
     "data": {
      "text/html": [
       "<div>\n",
       "<style scoped>\n",
       "    .dataframe tbody tr th:only-of-type {\n",
       "        vertical-align: middle;\n",
       "    }\n",
       "\n",
       "    .dataframe tbody tr th {\n",
       "        vertical-align: top;\n",
       "    }\n",
       "\n",
       "    .dataframe thead th {\n",
       "        text-align: right;\n",
       "    }\n",
       "</style>\n",
       "<table border=\"1\" class=\"dataframe\">\n",
       "  <thead>\n",
       "    <tr style=\"text-align: right;\">\n",
       "      <th></th>\n",
       "      <th>VIF Fctor</th>\n",
       "      <th>features</th>\n",
       "    </tr>\n",
       "  </thead>\n",
       "  <tbody>\n",
       "    <tr>\n",
       "      <th>0</th>\n",
       "      <td>14.575327</td>\n",
       "      <td>버스정류장개수</td>\n",
       "    </tr>\n",
       "    <tr>\n",
       "      <th>1</th>\n",
       "      <td>4.890775</td>\n",
       "      <td>토지공시지가평균</td>\n",
       "    </tr>\n",
       "    <tr>\n",
       "      <th>2</th>\n",
       "      <td>20.314133</td>\n",
       "      <td>주간평균생활인구수</td>\n",
       "    </tr>\n",
       "  </tbody>\n",
       "</table>\n",
       "</div>"
      ],
      "text/plain": [
       "   VIF Fctor   features\n",
       "0  14.575327    버스정류장개수\n",
       "1   4.890775   토지공시지가평균\n",
       "2  20.314133  주간평균생활인구수"
      ]
     },
     "execution_count": 111,
     "metadata": {},
     "output_type": "execute_result"
    }
   ],
   "source": [
    "# vif를 통한 다중공선성 확인\n",
    "from statsmodels.stats.outliers_influence import variance_inflation_factor\n",
    "vif = pd.DataFrame()\n",
    "\n",
    "# VIF사용을 위한 라이브러리, statsmodels안에 존재한다.\n",
    "# 사실 모든 통계기법이 statsmodels 모듈에 존재하여 \n",
    "# 이 중에 필요한 통계기법을 찾아 import를 진행하면 된다.\n",
    "\n",
    "vif[\"VIF Fctor\"] = [variance_inflation_factor(X.values, i) for i in range (X.shape[1])]\n",
    "vif[\"features\"] = X.columns\n",
    "vif"
   ]
  }
 ],
 "metadata": {
  "kernelspec": {
   "display_name": "Python 3 (ipykernel)",
   "language": "python",
   "name": "python3"
  },
  "language_info": {
   "codemirror_mode": {
    "name": "ipython",
    "version": 3
   },
   "file_extension": ".py",
   "mimetype": "text/x-python",
   "name": "python",
   "nbconvert_exporter": "python",
   "pygments_lexer": "ipython3",
   "version": "3.9.12"
  }
 },
 "nbformat": 4,
 "nbformat_minor": 5
}
