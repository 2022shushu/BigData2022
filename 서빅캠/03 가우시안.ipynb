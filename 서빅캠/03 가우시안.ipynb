{
 "cells": [
  {
   "cell_type": "code",
   "execution_count": 2,
   "id": "5b5aeccf-0e5d-4c74-bb94-e38dea567155",
   "metadata": {},
   "outputs": [],
   "source": [
    "# 필요한 기능들\n",
    "import matplotlib.pyplot as plt\n",
    "import seaborn as sns\n",
    "%matplotlib inline\n",
    "from scipy import stats\n",
    "import pandas as pd\n",
    "import numpy as np\n",
    "from matplotlib import rc\n",
    "\n",
    "# 경고 메세지 무시\n",
    "import os\n",
    "import warnings\n",
    "warnings.simplefilter(action='ignore', category = FutureWarning)\n",
    "\n",
    "# 한글 안 깨지게 하기\n",
    "if os.name == 'nt' :\n",
    "    font_family = \"Malgun Gothic\"\n",
    "else :\n",
    "    font_family = \"AppleGothic\"\n",
    "\n",
    "sns.set(font = font_family, rc = {\"axes.unicode_minus\" : False})\n",
    "\n",
    "\n",
    "# csv 파일 가져오기\n",
    "df = pd.read_csv('C:/Users/user/Desktop/머신러닝 학습소/1102contest/eunpyeong.csv', encoding='cp949')"
   ]
  },
  {
   "cell_type": "code",
   "execution_count": 12,
   "id": "a7c03206-661d-48bd-87ea-4e17907c8748",
   "metadata": {},
   "outputs": [],
   "source": [
    "from sklearn.datasets import load_iris\n",
    "from sklearn.cluster import KMeans\n",
    "from sklearn.mixture import GaussianMixture\n",
    "\n",
    "df_new = df.drop(['시군구', '읍면동', '거주등록인구수', '공원면적', '1인당공원면적', '녹지개수', '녹지면적', \n",
    "                  '1인당녹지면적', '녹지공원총합', '녹지공원면적총합', '1인당녹지공원면적총합', '도시재생사업개수', '지하철역개수',\n",
    "                  '기초수급자인구밀도 (인원 수 / 면적 (k㎡))', '저소득층가구비율', '미세먼지농도'], axis=1)"
   ]
  },
  {
   "cell_type": "code",
   "execution_count": 20,
   "id": "35cd09b7-727b-463f-a41a-c15fd464b1e7",
   "metadata": {},
   "outputs": [
    {
     "data": {
      "text/html": [
       "<div>\n",
       "<style scoped>\n",
       "    .dataframe tbody tr th:only-of-type {\n",
       "        vertical-align: middle;\n",
       "    }\n",
       "\n",
       "    .dataframe tbody tr th {\n",
       "        vertical-align: top;\n",
       "    }\n",
       "\n",
       "    .dataframe thead th {\n",
       "        text-align: right;\n",
       "    }\n",
       "</style>\n",
       "<table border=\"1\" class=\"dataframe\">\n",
       "  <thead>\n",
       "    <tr style=\"text-align: right;\">\n",
       "      <th></th>\n",
       "      <th>공원개수</th>\n",
       "      <th>버스정류장개수</th>\n",
       "      <th>토지공시지가평균</th>\n",
       "      <th>주간평균생활인구수</th>\n",
       "      <th>gmm_label</th>\n",
       "    </tr>\n",
       "  </thead>\n",
       "  <tbody>\n",
       "    <tr>\n",
       "      <th>0</th>\n",
       "      <td>8</td>\n",
       "      <td>74</td>\n",
       "      <td>3511361.699</td>\n",
       "      <td>42426.64666</td>\n",
       "      <td>2</td>\n",
       "    </tr>\n",
       "    <tr>\n",
       "      <th>1</th>\n",
       "      <td>3</td>\n",
       "      <td>34</td>\n",
       "      <td>3049121.216</td>\n",
       "      <td>21918.81667</td>\n",
       "      <td>2</td>\n",
       "    </tr>\n",
       "    <tr>\n",
       "      <th>2</th>\n",
       "      <td>9</td>\n",
       "      <td>23</td>\n",
       "      <td>3399515.343</td>\n",
       "      <td>30002.96667</td>\n",
       "      <td>2</td>\n",
       "    </tr>\n",
       "    <tr>\n",
       "      <th>3</th>\n",
       "      <td>2</td>\n",
       "      <td>28</td>\n",
       "      <td>4467927.803</td>\n",
       "      <td>37022.56667</td>\n",
       "      <td>0</td>\n",
       "    </tr>\n",
       "    <tr>\n",
       "      <th>4</th>\n",
       "      <td>11</td>\n",
       "      <td>66</td>\n",
       "      <td>3459226.901</td>\n",
       "      <td>44399.43666</td>\n",
       "      <td>2</td>\n",
       "    </tr>\n",
       "  </tbody>\n",
       "</table>\n",
       "</div>"
      ],
      "text/plain": [
       "   공원개수  버스정류장개수     토지공시지가평균    주간평균생활인구수  gmm_label\n",
       "0     8       74  3511361.699  42426.64666          2\n",
       "1     3       34  3049121.216  21918.81667          2\n",
       "2     9       23  3399515.343  30002.96667          2\n",
       "3     2       28  4467927.803  37022.56667          0\n",
       "4    11       66  3459226.901  44399.43666          2"
      ]
     },
     "execution_count": 20,
     "metadata": {},
     "output_type": "execute_result"
    }
   ],
   "source": [
    "df_new.head()"
   ]
  },
  {
   "cell_type": "code",
   "execution_count": 33,
   "id": "86ae0463-cb76-45b6-aeee-a9d2d32613fe",
   "metadata": {},
   "outputs": [
    {
     "name": "stderr",
     "output_type": "stream",
     "text": [
      "C:\\Users\\user\\anaconda3\\lib\\site-packages\\sklearn\\cluster\\_kmeans.py:1332: UserWarning: KMeans is known to have a memory leak on Windows with MKL, when there are less chunks than available threads. You can avoid it by setting the environment variable OMP_NUM_THREADS=1.\n",
      "  warnings.warn(\n"
     ]
    }
   ],
   "source": [
    "from sklearn.datasets import make_blobs\n",
    "from sklearn.mixture import GaussianMixture\n",
    "gmm = GaussianMixture(n_components = 3, random_state = 0)\n",
    "gmm_label = gmm.fit_predict(df_new)\n",
    "df_new[\"gmm_label\"] = gmm_label"
   ]
  },
  {
   "cell_type": "code",
   "execution_count": 32,
   "id": "24deaf77-4a16-464b-8af1-2a60101ec4f4",
   "metadata": {},
   "outputs": [
    {
     "ename": "NameError",
     "evalue": "name 'visualize_cluster_plot' is not defined",
     "output_type": "error",
     "traceback": [
      "\u001b[1;31m---------------------------------------------------------------------------\u001b[0m",
      "\u001b[1;31mNameError\u001b[0m                                 Traceback (most recent call last)",
      "Input \u001b[1;32mIn [32]\u001b[0m, in \u001b[0;36m<cell line: 4>\u001b[1;34m()\u001b[0m\n\u001b[0;32m      1\u001b[0m \u001b[38;5;28;01mfrom\u001b[39;00m \u001b[38;5;21;01msklearn\u001b[39;00m\u001b[38;5;21;01m.\u001b[39;00m\u001b[38;5;21;01mdatasets\u001b[39;00m \u001b[38;5;28;01mimport\u001b[39;00m make_blobs\n\u001b[0;32m      2\u001b[0m \u001b[38;5;28;01mfrom\u001b[39;00m \u001b[38;5;21;01msklearn\u001b[39;00m\u001b[38;5;21;01m.\u001b[39;00m\u001b[38;5;21;01mmixture\u001b[39;00m \u001b[38;5;28;01mimport\u001b[39;00m GaussianMixture\n\u001b[1;32m----> 4\u001b[0m \u001b[43mvisualize_cluster_plot\u001b[49m(gmm, df_new, \u001b[38;5;124m'\u001b[39m\u001b[38;5;124mgmm_label\u001b[39m\u001b[38;5;124m'\u001b[39m, iscenter\u001b[38;5;241m=\u001b[39m\u001b[38;5;28;01mFalse\u001b[39;00m)\n",
      "\u001b[1;31mNameError\u001b[0m: name 'visualize_cluster_plot' is not defined"
     ]
    }
   ],
   "source": [
    "\n",
    "\n",
    "visualize_cluster_plot(gmm, df_new, 'gmm_label', iscenter=False)"
   ]
  },
  {
   "cell_type": "code",
   "execution_count": 29,
   "id": "4475b4be-fa9a-47d3-bbde-bde4b9efeefc",
   "metadata": {},
   "outputs": [
    {
     "name": "stdout",
     "output_type": "stream",
     "text": [
      "\n",
      "### Gaussian Mixture Clustering ###\n",
      "gmm_label  gmm_label\n",
      "0          0            2\n",
      "1          1            1\n",
      "2          2            8\n",
      "Name: gmm_label, dtype: int64\n"
     ]
    }
   ],
   "source": [
    "print('\\n### Gaussian Mixture Clustering ###')\n",
    "print(df_new.groupby('gmm_label')['gmm_label'].value_counts())\n"
   ]
  },
  {
   "cell_type": "code",
   "execution_count": null,
   "id": "7f1f42b6-1ea9-4270-b400-8db05f879314",
   "metadata": {},
   "outputs": [],
   "source": []
  },
  {
   "cell_type": "code",
   "execution_count": null,
   "id": "2874d4f8-ce52-4cf1-a39c-d4802df3c39e",
   "metadata": {},
   "outputs": [],
   "source": []
  }
 ],
 "metadata": {
  "kernelspec": {
   "display_name": "Python 3 (ipykernel)",
   "language": "python",
   "name": "python3"
  },
  "language_info": {
   "codemirror_mode": {
    "name": "ipython",
    "version": 3
   },
   "file_extension": ".py",
   "mimetype": "text/x-python",
   "name": "python",
   "nbconvert_exporter": "python",
   "pygments_lexer": "ipython3",
   "version": "3.9.12"
  }
 },
 "nbformat": 4,
 "nbformat_minor": 5
}
