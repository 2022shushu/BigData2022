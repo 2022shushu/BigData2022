{
 "cells": [
  {
   "cell_type": "code",
   "execution_count": 33,
   "id": "bd3eb5eb-c073-43d1-8598-cff366060984",
   "metadata": {},
   "outputs": [],
   "source": [
    "#패키지 임포트\n",
    "import os\n",
    "import warnings\n",
    "\n",
    "#FutureWarning 제거\n",
    "warnings.simplefilter(action='ignore', category = FutureWarning)"
   ]
  },
  {
   "cell_type": "code",
   "execution_count": 34,
   "id": "b0118d99-f71b-45bb-aa70-5eca8fc405c7",
   "metadata": {},
   "outputs": [],
   "source": [
    "import pandas as pd\n",
    "import numpy as np\n",
    "from scipy import stats"
   ]
  },
  {
   "cell_type": "code",
   "execution_count": 35,
   "id": "f6c37ab2-7be4-4fc2-8465-c128f107183b",
   "metadata": {},
   "outputs": [],
   "source": [
    "#시각화 패키지\n",
    "import matplotlib.pyplot as plt\n",
    "import seaborn as sns\n",
    "%matplotlib inline"
   ]
  },
  {
   "cell_type": "code",
   "execution_count": 36,
   "id": "7db423ea-8745-413c-bf84-ece72f678b7a",
   "metadata": {},
   "outputs": [],
   "source": [
    "import os\n",
    "if os.name == 'nt' :\n",
    "    font_family = \"Malgun Gothic\"\n",
    "else :\n",
    "    font_family = \"AppleGothic\"\n",
    "\n",
    "#값이 깨지는 문제 해결을 위한 파라미터값 설정\n",
    "sns.set(font=font_family, rc ={\"axes.unicode_minus\" : False})"
   ]
  },
  {
   "cell_type": "code",
   "execution_count": 37,
   "id": "3b26587a-1db0-4c1c-ab18-88ea6914fa6c",
   "metadata": {},
   "outputs": [],
   "source": [
    "#베르누이분포 정의\n",
    "mu = 0.7\n",
    "bern = stats.bernoulli(mu)"
   ]
  },
  {
   "cell_type": "code",
   "execution_count": 38,
   "id": "451d782f-c0ff-47a1-b1ad-8b496161ab45",
   "metadata": {},
   "outputs": [
    {
     "data": {
      "image/png": "[encoded data removed]",
      "text/plain": [
       "<Figure size 432x288 with 1 Axes>"
      ]
     },
     "metadata": {},
     "output_type": "display_data"
    }
   ],
   "source": [
    "#확률질량함수 계산 및 시각화\n",
    "b_x = [0, 1]\n",
    "bern_pmf = bern.pmf(b_x)\n",
    "\n",
    "#시각화\n",
    "plt.bar(b_x, bern_pmf)\n",
    "plt.xlim(-1, 2)\n",
    "plt.ylim(0, 1)\n",
    "plt.xticks([0, 1], [\"x=0\", \"x=1\"])\n",
    "plt.xlabel(\"표본값\")\n",
    "plt.ylabel(\"P(x)\")\n",
    "plt.title(\"베르누이 확률변수의 확률질량함수\")\n",
    "plt.show()"
   ]
  },
  {
   "cell_type": "code",
   "execution_count": 39,
   "id": "56e6c865-dc9d-4961-895e-3c53d080c506",
   "metadata": {},
   "outputs": [
    {
     "data": {
      "text/plain": [
       "array([1, 0, 1, 1, 1, 1, 1, 0, 0, 1, 0, 1, 1, 0, 1, 1, 1, 0, 0, 0, 0, 0,\n",
       "       1, 0, 1, 1, 1, 0, 1, 1, 1, 0, 1, 1, 1, 1, 1, 1, 0, 1, 1, 1, 1, 1,\n",
       "       1, 1, 1, 1, 1, 1, 1, 1, 0, 1, 1, 1, 1, 1, 1, 1, 1, 1, 1, 1, 1, 1,\n",
       "       0, 1, 0, 1, 0, 1, 0, 1, 0, 1, 1, 1, 1, 1, 1, 1, 1, 1, 1, 1, 1, 1,\n",
       "       1, 0, 1, 1, 1, 0, 1, 1, 1, 1, 0, 1])"
      ]
     },
     "execution_count": 39,
     "metadata": {},
     "output_type": "execute_result"
    }
   ],
   "source": [
    "#베르누이 검정을 위한 베르누이 샘플 100개 생성\n",
    "x_sample_bern = bern.rvs(100, random_state =0)\n",
    "x_sample_bern"
   ]
  },
  {
   "cell_type": "code",
   "execution_count": 40,
   "id": "22b2439e-1f67-41c8-a71d-62fbac0290e1",
   "metadata": {},
   "outputs": [
    {
     "data": {
      "text/html": [
       "<div>\n",
       "<style scoped>\n",
       "    .dataframe tbody tr th:only-of-type {\n",
       "        vertical-align: middle;\n",
       "    }\n",
       "\n",
       "    .dataframe tbody tr th {\n",
       "        vertical-align: top;\n",
       "    }\n",
       "\n",
       "    .dataframe thead th {\n",
       "        text-align: right;\n",
       "    }\n",
       "</style>\n",
       "<table border=\"1\" class=\"dataframe\">\n",
       "  <thead>\n",
       "    <tr style=\"text-align: right;\">\n",
       "      <th></th>\n",
       "      <th>결과</th>\n",
       "      <th>검증(시뮬레이션)</th>\n",
       "    </tr>\n",
       "  </thead>\n",
       "  <tbody>\n",
       "    <tr>\n",
       "      <th>0</th>\n",
       "      <td>0.3</td>\n",
       "      <td>0.23</td>\n",
       "    </tr>\n",
       "    <tr>\n",
       "      <th>1</th>\n",
       "      <td>0.7</td>\n",
       "      <td>0.77</td>\n",
       "    </tr>\n",
       "  </tbody>\n",
       "</table>\n",
       "</div>"
      ],
      "text/plain": [
       "    결과  검증(시뮬레이션)\n",
       "0  0.3       0.23\n",
       "1  0.7       0.77"
      ]
     },
     "execution_count": 40,
     "metadata": {},
     "output_type": "execute_result"
    }
   ],
   "source": [
    "#베르누이 시뮬레이션\n",
    "y_bern = np.bincount(x_sample_bern, minlength =2) / float(len(x_sample_bern))\n",
    "df_bern = pd.DataFrame({\"결과\": bern_pmf, \"검증(시뮬레이션)\" : y_bern})\n",
    "df_bern.index = [0, 1]\n",
    "df_bern"
   ]
  },
  {
   "cell_type": "code",
   "execution_count": 41,
   "id": "ec44b69c-f124-428e-a57c-7e547f4606ff",
   "metadata": {},
   "outputs": [
    {
     "name": "stdout",
     "output_type": "stream",
     "text": [
      "k=3, n=15, p=0.3의 PMF: 0.17004021326428484\n",
      "k=0~4, n=15, p=0.3의 PMF: 0.5154910592268434\n"
     ]
    }
   ],
   "source": [
    "#scipy 이항분포 확률질량함수 계산\n",
    "#0.3 확률 갖는 15회 실험에서 3회 성공할 확률\n",
    "print(\"k=3, n=15, p=0.3의 PMF:\", stats.binom.pmf(3, n=15, p=0.3))\n",
    "#0.3 확률 갖는 15회 실험에서 0~4회 성공할 확률의 누적값\n",
    "print(\"k=0~4, n=15, p=0.3의 PMF:\", stats.binom.cdf(4, n=15, p=0.3))"
   ]
  },
  {
   "cell_type": "code",
   "execution_count": 42,
   "id": "091a647f-2fb6-414e-9985-df9cab03fcc5",
   "metadata": {},
   "outputs": [],
   "source": [
    "#p의 확률을 갖는 n회 시행에서 k회 성공할 확률 반환 함수 생성\n",
    "def bion_dist(k, n, p):\n",
    "    pmf_bion = stats.binom.pmf(k, n=n, p=p)\n",
    "    return pmf_bion\n",
    "\n",
    "#0~15 범위 생성 : 성공 횟수\n",
    "x = np.arange(0, 16)\n",
    "\n",
    "#확률질량함수 값 array\n",
    "pdf_result = [bion_dist(k, 15, 0.3) for k in range (0, 16)]"
   ]
  },
  {
   "cell_type": "code",
   "execution_count": 43,
   "id": "78caa09f-98df-45bc-b5f5-206ccb9939a9",
   "metadata": {},
   "outputs": [
    {
     "data": {
      "image/png": "[encoded data removed]",
      "text/plain": [
       "<Figure size 432x288 with 1 Axes>"
      ]
     },
     "metadata": {},
     "output_type": "display_data"
    }
   ],
   "source": [
    "#시각화\n",
    "plt.title(\"확률질량함수\")\n",
    "plt.ylim(0, 0.3)\n",
    "plt.text(12.5, 0.28, 'n, p = 15, 0.3')\n",
    "plt.bar(x, pdf_result, color = 'mediumaquamarine')\n",
    "\n",
    "#plt.plot(x, pdf_result, color = 'lightcoral')\n",
    "plt.show()"
   ]
  },
  {
   "cell_type": "code",
   "execution_count": 44,
   "id": "c90a34fc-6e73-4853-9e5a-3b824da4b110",
   "metadata": {},
   "outputs": [
    {
     "data": {
      "text/plain": [
       "0.18044704431548356"
      ]
     },
     "execution_count": 44,
     "metadata": {},
     "output_type": "execute_result"
    }
   ],
   "source": [
    "#scipy 포아송 함수\n",
    "#3번 시행에서 평균 사건 수 (기대값 2)에 대한 발생 확률\n",
    "stats.poisson.pmf(3, 2, loc=0)"
   ]
  },
  {
   "cell_type": "code",
   "execution_count": 45,
   "id": "25fac291-28a6-4d2a-aa3b-25e9088f0778",
   "metadata": {},
   "outputs": [],
   "source": [
    "#n번 시행에서 평균 사건 수 (기대값, 람다)에 대한 발생 확률 함수\n",
    "def pois_dist(n, lamb):\n",
    "    pmf_poi = stats.poisson.pmf(n, lamb, loc=0)\n",
    "    return pmf_poi\n",
    "# 확률질량함수의 값 array\n",
    "x = np.arange(0, 41)\n",
    "poi_pdf_result = [pois_dist(n, 10) for n in range (0, 41)]"
   ]
  },
  {
   "cell_type": "code",
   "execution_count": 46,
   "id": "a476b7ea-8f50-4509-83bc-9f6927a67b53",
   "metadata": {},
   "outputs": [
    {
     "data": {
      "image/png": "[encoded data removed]",
      "text/plain": [
       "<Figure size 432x288 with 1 Axes>"
      ]
     },
     "metadata": {},
     "output_type": "display_data"
    }
   ],
   "source": [
    "plt.ylim(0, 0.15)\n",
    "plt.text(33.5, 0.14, '람다 = 10')\n",
    "plt.bar(x, poi_pdf_result, color = 'lightcoral')\n",
    "plt.show()"
   ]
  },
  {
   "cell_type": "code",
   "execution_count": 47,
   "id": "31c31990-1a6e-4ba6-b53a-0b1edbb6c60a",
   "metadata": {},
   "outputs": [
    {
     "data": {
      "image/png": "[encoded data removed]",
      "text/plain": [
       "<Figure size 720x720 with 3 Axes>"
      ]
     },
     "metadata": {},
     "output_type": "display_data"
    }
   ],
   "source": [
    "#기대값에 따른 포아송분포 차이 확인\n",
    "x = np.arange(0, 41)\n",
    "\n",
    "fig = plt.figure(figsize = (10, 10))\n",
    "\n",
    "fig.add_subplot(3, 1, 1)\n",
    "pmf_poin1 = np.array([pois_dist(n, 10) for n in range(0, 41)])\n",
    "plt.ylim(0, 0.15)\n",
    "plt.text(33.5, 0.12, '람다=10')\n",
    "plt.bar(x, pmf_poin1, color='lightcoral')\n",
    "\n",
    "fig.add_subplot(3, 1, 2)\n",
    "pmf_poin2 = np.array([pois_dist(n, 15) for n in range(0, 41)])\n",
    "plt.ylim(0, 0.15)\n",
    "plt.text(33.5, 0.12, '람다=15')\n",
    "plt.bar(x, pmf_poin2, color='mediumaquamarine')\n",
    "\n",
    "fig.add_subplot(3, 1, 3)\n",
    "pmf_poin3 = np.array([pois_dist(n, 20) for n in range(0, 41)])\n",
    "plt.ylim(0, 0.15)\n",
    "plt.text(33.5, 0.12, '람다=20')\n",
    "plt.bar(x, pmf_poin3, color='royalblue')\n",
    "\n",
    "plt.show()"
   ]
  }
 ],
 "metadata": {
  "kernelspec": {
   "display_name": "Python 3 (ipykernel)",
   "language": "python",
   "name": "python3"
  },
  "language_info": {
   "codemirror_mode": {
    "name": "ipython",
    "version": 3
   },
   "file_extension": ".py",
   "mimetype": "text/x-python",
   "name": "python",
   "nbconvert_exporter": "python",
   "pygments_lexer": "ipython3",
   "version": "3.9.12"
  }
 },
 "nbformat": 4,
 "nbformat_minor": 5
}
