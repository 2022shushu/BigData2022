{
 "cells": [
  {
   "cell_type": "code",
   "execution_count": 1,
   "id": "0c1a29bc-71d4-45b4-82b8-fbe103b27eac",
   "metadata": {},
   "outputs": [],
   "source": [
    "import csv"
   ]
  },
  {
   "cell_type": "code",
   "execution_count": 2,
   "id": "3f9e9335-b799-4de8-9904-ca5e01262c37",
   "metadata": {},
   "outputs": [],
   "source": [
    "with open('top_cities.csv', 'w', newline='') as f:\n",
    "    writer = csv.writer(f)\n",
    "    writer.writerow(['rank', 'city', 'population'])\n",
    "    writer.writerows([\n",
    "        [1, '상하이', 24150000],\n",
    "        [2, '카라치', 23500000],\n",
    "        [3, '베이징', 21516000],\n",
    "        [4, '텐진', 14722100],\n",
    "        [5, '이스탄불', 14160467],\n",
    "    ])"
   ]
  },
  {
   "cell_type": "code",
   "execution_count": 3,
   "id": "c0ddd3de-fbaa-4bba-a661-90fd0dee5b23",
   "metadata": {},
   "outputs": [],
   "source": [
    "with open('top_cities.csv', 'w', newline='') as f:\n",
    "    writer = csv.DictWriter(f, ['rank', 'city', 'population'])\n",
    "    writer.writeheader()\n",
    "    writer.writerows([\n",
    "        {'rank' : 1, 'city': '상하이', 'population' : 24150000},\n",
    "        {'rank' : 2, 'city': '카라치', 'population' : 23500000},\n",
    "        {'rank' : 3, 'city': '베이징', 'population' : 21516000},\n",
    "        {'rank' : 4, 'city': '텐진', 'population' : 14722100},\n",
    "        {'rank' : 5, 'city': '이스탄불', 'population' : 14160467},\n",
    "    ])\n",
    "        "
   ]
  },
  {
   "cell_type": "code",
   "execution_count": 4,
   "id": "86c4a830-b107-4078-955c-8fecdb00bbee",
   "metadata": {},
   "outputs": [],
   "source": [
    "with open('top_cities.csv', 'w', newline='', encoding='utf-8') as f:\n",
    "    writer = csv.DictWriter(f, ['rank', 'city', 'population'])\n",
    "    writer.writeheader()\n",
    "    writer.writerows([\n",
    "        {'rank' : 1, 'city': '상하이', 'population' : 24150000},\n",
    "        {'rank' : 2, 'city': '카라치', 'population' : 23500000},\n",
    "        {'rank' : 3, 'city': '베이징', 'population' : 21516000},\n",
    "        {'rank' : 4, 'city': '텐진', 'population' : 14722100},\n",
    "        {'rank' : 5, 'city': '이스탄불', 'population' : 14160467},\n",
    "    ])        "
   ]
  },
  {
   "cell_type": "code",
   "execution_count": 5,
   "id": "f638608a-5269-40f0-95b4-17aff3660dc5",
   "metadata": {},
   "outputs": [],
   "source": [
    "import chardet"
   ]
  },
  {
   "cell_type": "code",
   "execution_count": 6,
   "id": "3c5afafe-301b-4663-974a-f0d7cec995d1",
   "metadata": {},
   "outputs": [],
   "source": [
    "char_dic = chardet.detect(open('top_cities.csv', 'rb').read())"
   ]
  },
  {
   "cell_type": "code",
   "execution_count": 7,
   "id": "b75ae12d-6da5-4930-9213-6ab541c9e1a2",
   "metadata": {},
   "outputs": [
    {
     "data": {
      "text/plain": [
       "'utf-8'"
      ]
     },
     "execution_count": 7,
     "metadata": {},
     "output_type": "execute_result"
    }
   ],
   "source": [
    "char_dic['encoding']"
   ]
  },
  {
   "cell_type": "code",
   "execution_count": 8,
   "id": "5e4822e7-6c65-46c2-8c2a-6b349d680200",
   "metadata": {},
   "outputs": [],
   "source": [
    "import json"
   ]
  },
  {
   "cell_type": "code",
   "execution_count": 11,
   "id": "69a6222c-6a44-4a96-942e-86deef2c765e",
   "metadata": {},
   "outputs": [],
   "source": [
    "cities = [\n",
    "{'rank' : 1, 'city': '상하이', 'population' : 24150000},\n",
    "{'rank' : 2, 'city': '카라치', 'population' : 23500000},\n",
    "{'rank' : 3, 'city': '베이징', 'population' : 21516000},\n",
    "{'rank' : 4, 'city': '텐진', 'population' : 14722100},\n",
    "{'rank' : 5, 'city': '이스탄불', 'population' : 14160467},\n",
    "]"
   ]
  },
  {
   "cell_type": "code",
   "execution_count": 12,
   "id": "e373e4c3-6213-4bdd-a6e7-27b9174ebb61",
   "metadata": {},
   "outputs": [],
   "source": [
    "with open('top_cities.json', 'w') as fw:\n",
    "    json.dump(cities, fw)"
   ]
  },
  {
   "cell_type": "code",
   "execution_count": 13,
   "id": "f9d9d01a-8a70-4f98-90ee-99c157028607",
   "metadata": {},
   "outputs": [
    {
     "name": "stdout",
     "output_type": "stream",
     "text": [
      "[{'rank': 1, 'city': '상하이', 'population': 24150000}, {'rank': 2, 'city': '카라치', 'population': 23500000}, {'rank': 3, 'city': '베이징', 'population': 21516000}, {'rank': 4, 'city': '텐진', 'population': 14722100}, {'rank': 5, 'city': '이스탄불', 'population': 14160467}]\n"
     ]
    }
   ],
   "source": [
    "with open('top_cities.json', 'r') as fr:\n",
    "    json_file = json.load(fr)\n",
    "    print(json_file)"
   ]
  },
  {
   "cell_type": "code",
   "execution_count": 15,
   "id": "6d76d21f-b801-4162-b6a2-00ff794e9f80",
   "metadata": {},
   "outputs": [],
   "source": [
    "import pandas as pd\n",
    "import sqlite3\n",
    "from pandas.io import sql\n",
    "import os"
   ]
  },
  {
   "cell_type": "code",
   "execution_count": 16,
   "id": "531c90f6-e124-4801-8ddf-660215703cf9",
   "metadata": {},
   "outputs": [],
   "source": [
    "DB_NAME = 'top_cities.db'\n",
    "TABLE_NAME = 'TOP_CITIES'"
   ]
  },
  {
   "cell_type": "code",
   "execution_count": 19,
   "id": "01eb547e-373c-4220-8262-a9ae3f8b58a0",
   "metadata": {},
   "outputs": [],
   "source": [
    "def db_save(df, db_name, table_name):\n",
    "    with sqlite3.connect(db_name) as con:\n",
    "        try :\n",
    "            df.to_sql(name = table_name, con = con, index = False, if_exists='append')\n",
    "        except Exception as e:\n",
    "            print(str(e))\n",
    "        print(len(df), '건 저장완료..')"
   ]
  },
  {
   "cell_type": "code",
   "execution_count": 1,
   "id": "9bcb850c-8f2a-4422-a3d9-9d6e34372988",
   "metadata": {},
   "outputs": [],
   "source": [
    "def db_delete(df, db_name, table_name) :\n",
    "    with sqlite3.connect(db_name) as con :\n",
    "        try :\n",
    "            cur = con.cursor()\n",
    "            sql = 'DELETE FROM {}'.format(table_name)\n",
    "            cur.excute(sql)\n",
    "        except Excpetion as e :\n",
    "            print(str(e))"
   ]
  }
 ],
 "metadata": {
  "kernelspec": {
   "display_name": "Python 3 (ipykernel)",
   "language": "python",
   "name": "python3"
  },
  "language_info": {
   "codemirror_mode": {
    "name": "ipython",
    "version": 3
   },
   "file_extension": ".py",
   "mimetype": "text/x-python",
   "name": "python",
   "nbconvert_exporter": "python",
   "pygments_lexer": "ipython3",
   "version": "3.9.12"
  }
 },
 "nbformat": 4,
 "nbformat_minor": 5
}
