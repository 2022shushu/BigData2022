{
 "cells": [
  {
   "cell_type": "code",
   "execution_count": 32,
   "id": "23cb70df-0a30-4106-99be-da2ae1bccf5b",
   "metadata": {},
   "outputs": [],
   "source": [
    "import re"
   ]
  },
  {
   "cell_type": "code",
   "execution_count": 33,
   "id": "11d50546-5e68-43e3-af2d-f2b55d245fc9",
   "metadata": {},
   "outputs": [
    {
     "data": {
      "text/plain": [
       "<re.Match object; span=(0, 3), match='abc'>"
      ]
     },
     "execution_count": 33,
     "metadata": {},
     "output_type": "execute_result"
    }
   ],
   "source": [
    "re.search(r'a.*c', 'abc123DEF')"
   ]
  },
  {
   "cell_type": "code",
   "execution_count": 34,
   "id": "5e8e5616-6304-464e-bd6b-d09304b28937",
   "metadata": {},
   "outputs": [],
   "source": [
    "re.search(r'a.*d', 'abc123DEF')"
   ]
  },
  {
   "cell_type": "code",
   "execution_count": 35,
   "id": "b28e2511-26eb-4082-980d-15ac8f2e7b5d",
   "metadata": {},
   "outputs": [
    {
     "data": {
      "text/plain": [
       "<re.Match object; span=(0, 7), match='abc123D'>"
      ]
     },
     "execution_count": 35,
     "metadata": {},
     "output_type": "execute_result"
    }
   ],
   "source": [
    "re.search(r'a.*d', 'abc123DEF', re.IGNORECASE)"
   ]
  },
  {
   "cell_type": "code",
   "execution_count": 36,
   "id": "ff4b46a6-53f9-492b-9b1b-58aa42c9c859",
   "metadata": {},
   "outputs": [
    {
     "data": {
      "text/plain": [
       "'abc'"
      ]
     },
     "execution_count": 36,
     "metadata": {},
     "output_type": "execute_result"
    }
   ],
   "source": [
    "m = re.search(r'a(.*)c', 'abc123DEF')\n",
    "m.group(0)"
   ]
  },
  {
   "cell_type": "code",
   "execution_count": 37,
   "id": "83b46f2f-7e66-4157-85d8-b64fa6255ed8",
   "metadata": {},
   "outputs": [
    {
     "data": {
      "text/plain": [
       "'b'"
      ]
     },
     "execution_count": 37,
     "metadata": {},
     "output_type": "execute_result"
    }
   ],
   "source": [
    "m.group(1)"
   ]
  },
  {
   "cell_type": "code",
   "execution_count": 38,
   "id": "8d171ed9-18d9-40da-95d7-1891b5b0e689",
   "metadata": {},
   "outputs": [
    {
     "data": {
      "text/plain": [
       "['This', 'is', 'pen']"
      ]
     },
     "execution_count": 38,
     "metadata": {},
     "output_type": "execute_result"
    }
   ],
   "source": [
    "re.findall(r'\\w{2,}', 'This is a pen')"
   ]
  },
  {
   "cell_type": "code",
   "execution_count": 39,
   "id": "bef52110-0a11-4078-af47-c60489d8756c",
   "metadata": {},
   "outputs": [
    {
     "data": {
      "text/plain": [
       "'That That a That'"
      ]
     },
     "execution_count": 39,
     "metadata": {},
     "output_type": "execute_result"
    }
   ],
   "source": [
    "re.sub(r'\\w{2,}', 'That', 'This is a pen')"
   ]
  },
  {
   "cell_type": "code",
   "execution_count": 40,
   "id": "a4a8e692-6cbd-41d4-8886-7b3dfafb7a73",
   "metadata": {},
   "outputs": [
    {
     "data": {
      "text/plain": [
       "<re.Match object; span=(1, 4), match='abc'>"
      ]
     },
     "execution_count": 40,
     "metadata": {},
     "output_type": "execute_result"
    }
   ],
   "source": [
    "result = re.search(r'a.*c', ' abc123DEF')\n",
    "result"
   ]
  },
  {
   "cell_type": "code",
   "execution_count": 41,
   "id": "c6b342fe-9d88-4767-ae36-55e2a5a7defa",
   "metadata": {},
   "outputs": [],
   "source": [
    "result = re.match(r'a.*c', ' abc123DEF')\n",
    "result"
   ]
  },
  {
   "cell_type": "code",
   "execution_count": 42,
   "id": "0ccd3bda-ea4c-4c43-b9bf-e9dc41a3e846",
   "metadata": {},
   "outputs": [],
   "source": [
    "import re\n",
    "from html import unescape"
   ]
  },
  {
   "cell_type": "code",
   "execution_count": 43,
   "id": "b836e9c9-8ce0-4729-9978-78362d422de5",
   "metadata": {},
   "outputs": [],
   "source": [
    "with open('dp.html', encoding='utf-8') as f :\n",
    "    html = f.read()"
   ]
  },
  {
   "cell_type": "code",
   "execution_count": 44,
   "id": "66f8d933-d33c-4e20-b985-2c52f447a435",
   "metadata": {},
   "outputs": [],
   "source": [
    "for partial_html in re.findall(r'<td class = \"left\"><a.*?</td>', html, re.DOTALL) :\n",
    "    url = re.search(r'<a href=\"(.*?)\">', partial_html).group(1)\n",
    "    url = 'http://www.hanbit.co.kr' + url\n",
    "    title = re.sub(r'<.*?>', '', partial_html)\n",
    "    title = unescape(title)\n",
    "    print('url:', url)\n",
    "    print('title:', title)\n",
    "    print('---')"
   ]
  }
 ],
 "metadata": {
  "kernelspec": {
   "display_name": "Python 3 (ipykernel)",
   "language": "python",
   "name": "python3"
  },
  "language_info": {
   "codemirror_mode": {
    "name": "ipython",
    "version": 3
   },
   "file_extension": ".py",
   "mimetype": "text/x-python",
   "name": "python",
   "nbconvert_exporter": "python",
   "pygments_lexer": "ipython3",
   "version": "3.9.12"
  }
 },
 "nbformat": 4,
 "nbformat_minor": 5
}
