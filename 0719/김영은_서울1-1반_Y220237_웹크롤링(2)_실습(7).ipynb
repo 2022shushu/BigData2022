{
 "cells": [
  {
   "cell_type": "code",
   "execution_count": 19,
   "id": "bbac8d64-cc8b-419e-942d-aa8378233423",
   "metadata": {},
   "outputs": [
    {
     "name": "stdout",
     "output_type": "stream",
     "text": [
      "Requirement already satisfied: selenium in c:\\users\\user\\anaconda3\\lib\\site-packages (4.3.0)\n",
      "Requirement already satisfied: trio-websocket~=0.9 in c:\\users\\user\\anaconda3\\lib\\site-packages (from selenium) (0.9.2)\n",
      "Requirement already satisfied: trio~=0.17 in c:\\users\\user\\anaconda3\\lib\\site-packages (from selenium) (0.21.0)\n",
      "Requirement already satisfied: urllib3[secure,socks]~=1.26 in c:\\users\\user\\anaconda3\\lib\\site-packages (from selenium) (1.26.9)\n",
      "Requirement already satisfied: sortedcontainers in c:\\users\\user\\anaconda3\\lib\\site-packages (from trio~=0.17->selenium) (2.4.0)\n",
      "Requirement already satisfied: outcome in c:\\users\\user\\anaconda3\\lib\\site-packages (from trio~=0.17->selenium) (1.2.0)\n",
      "Requirement already satisfied: attrs>=19.2.0 in c:\\users\\user\\anaconda3\\lib\\site-packages (from trio~=0.17->selenium) (21.4.0)\n",
      "Requirement already satisfied: idna in c:\\users\\user\\anaconda3\\lib\\site-packages (from trio~=0.17->selenium) (3.3)\n",
      "Requirement already satisfied: sniffio in c:\\users\\user\\anaconda3\\lib\\site-packages (from trio~=0.17->selenium) (1.2.0)\n",
      "Requirement already satisfied: cffi>=1.14 in c:\\users\\user\\anaconda3\\lib\\site-packages (from trio~=0.17->selenium) (1.15.0)\n",
      "Requirement already satisfied: async-generator>=1.9 in c:\\users\\user\\anaconda3\\lib\\site-packages (from trio~=0.17->selenium) (1.10)\n",
      "Requirement already satisfied: pycparser in c:\\users\\user\\anaconda3\\lib\\site-packages (from cffi>=1.14->trio~=0.17->selenium) (2.21)\n",
      "Requirement already satisfied: wsproto>=0.14 in c:\\users\\user\\anaconda3\\lib\\site-packages (from trio-websocket~=0.9->selenium) (1.1.0)\n",
      "Requirement already satisfied: cryptography>=1.3.4 in c:\\users\\user\\anaconda3\\lib\\site-packages (from urllib3[secure,socks]~=1.26->selenium) (3.4.8)\n",
      "Requirement already satisfied: certifi in c:\\users\\user\\anaconda3\\lib\\site-packages (from urllib3[secure,socks]~=1.26->selenium) (2022.6.15)\n",
      "Requirement already satisfied: pyOpenSSL>=0.14 in c:\\users\\user\\anaconda3\\lib\\site-packages (from urllib3[secure,socks]~=1.26->selenium) (21.0.0)\n",
      "Requirement already satisfied: PySocks!=1.5.7,<2.0,>=1.5.6 in c:\\users\\user\\anaconda3\\lib\\site-packages (from urllib3[secure,socks]~=1.26->selenium) (1.7.1)\n",
      "Requirement already satisfied: six>=1.5.2 in c:\\users\\user\\anaconda3\\lib\\site-packages (from pyOpenSSL>=0.14->urllib3[secure,socks]~=1.26->selenium) (1.16.0)\n",
      "Requirement already satisfied: h11<1,>=0.9.0 in c:\\users\\user\\anaconda3\\lib\\site-packages (from wsproto>=0.14->trio-websocket~=0.9->selenium) (0.13.0)\n"
     ]
    }
   ],
   "source": [
    "!pip install selenium"
   ]
  },
  {
   "cell_type": "code",
   "execution_count": 20,
   "id": "efb943b1-d938-4ed9-bddb-cc607122c14f",
   "metadata": {},
   "outputs": [],
   "source": [
    "from selenium.webdriver import Chrome\n",
    "import time\n",
    "import sqlite3\n",
    "from pandas.io import sql\n",
    "import os\n",
    "import pandas as pd"
   ]
  },
  {
   "cell_type": "code",
   "execution_count": 22,
   "id": "46f8d0e2-5d58-4721-8e9e-bd81c1f5e6f4",
   "metadata": {},
   "outputs": [],
   "source": [
    "from selenium import webdriver\n",
    "\n",
    "options = webdriver.ChromeOptions()\n",
    "options.add_argument(\"--start-maximized\");\n",
    "\n",
    "browser = webdriver.Chrome('chromedriver', options=options)"
   ]
  },
  {
   "cell_type": "code",
   "execution_count": 23,
   "id": "c4d02aa6-58b7-44b7-8cd6-ac536f95bf64",
   "metadata": {},
   "outputs": [],
   "source": [
    "browser.get('https://www.data.go.kr/')\n",
    "browser.implicitly_wait(5)"
   ]
  },
  {
   "cell_type": "code",
   "execution_count": 24,
   "id": "4e420033-72b9-4785-b105-bfcacf3859ed",
   "metadata": {},
   "outputs": [],
   "source": [
    "browser.find_element(\"xpath\",'//*[@id=\"header\"]/div/div/div/div[2]/div/a[1]').click()\n",
    "browser.implicitly_wait(5)"
   ]
  },
  {
   "cell_type": "code",
   "execution_count": 26,
   "id": "f68fcaf2-e406-4379-8f45-33dbfa4f8092",
   "metadata": {},
   "outputs": [],
   "source": [
    "browser.find_element(\"xpath\",'//*[@id=\"mberId\"]').send_keys('아이디')"
   ]
  },
  {
   "cell_type": "code",
   "execution_count": 28,
   "id": "79c50aed-f0f2-4186-b9b2-147c8f0424c5",
   "metadata": {},
   "outputs": [],
   "source": [
    "browser.find_element(\"xpath\",'//*[@id=\"pswrd\"]').send_keys('비밀번호')"
   ]
  },
  {
   "cell_type": "code",
   "execution_count": 29,
   "id": "f2cefbbe-db04-49c4-95b9-1cd117f7bad0",
   "metadata": {},
   "outputs": [],
   "source": [
    "browser.find_element(\"xpath\",'//*[@id=\"loginVo\"]/div[2]/div[2]/div[2]/div/div[1]/button').click()\n",
    "browser.implicitly_wait(5)"
   ]
  },
  {
   "cell_type": "code",
   "execution_count": 31,
   "id": "59a5b14e-7a30-4237-b7c6-adbff2b33773",
   "metadata": {},
   "outputs": [],
   "source": [
    "browser.find_element(\"xpath\",'//*[@id=\"M000400_pc\"]/a').click()"
   ]
  },
  {
   "cell_type": "code",
   "execution_count": 32,
   "id": "39a14d11-a14c-46f8-8b5d-5293ca088120",
   "metadata": {},
   "outputs": [],
   "source": [
    "browser.find_element(\"xpath\",'//*[@id=\"M000402_pc\"]/a').click()"
   ]
  },
  {
   "cell_type": "code",
   "execution_count": 33,
   "id": "ca275859-064c-4e2f-8ae4-0aa9a51280e6",
   "metadata": {},
   "outputs": [],
   "source": [
    "def db_save(ARTICLE_LIST):\n",
    "    with sqlite3.connect(os.path.join('.','sqliteDB')) as con: # sqlite DB 파일이 존재하지 않는 경우 파일생성\n",
    "        try:\n",
    "            ARTICLE_LIST.to_sql(name = 'ARTICLE_LIST', con = con, index = False, if_exists='append') \n",
    "            #if_exists : {'fail', 'replace', 'append'} default : fail\n",
    "        except Exception as e:\n",
    "            print(str(e))\n",
    "        print(len(ARTICLE_LIST), '건 저장완료..')"
   ]
  },
  {
   "cell_type": "code",
   "execution_count": 38,
   "id": "3ed6c418-3e74-4ce4-a7b7-ffb433c69cf0",
   "metadata": {},
   "outputs": [
    {
     "name": "stdout",
     "output_type": "stream",
     "text": [
      "10 건 저장완료..\n"
     ]
    }
   ],
   "source": [
    "trs = browser.find_elements(\"xpath\",'//*[@id=\"searchVO\"]/div[5]/table/tbody/tr')\n",
    "df_list = []\n",
    "for tr in trs:\n",
    "    df = pd.DataFrame({\n",
    "            'NO': [tr.find_element(\"xpath\",'td[1]').text],\n",
    "            'TITLE': [tr.find_element(\"xpath\",'td[2]').text],\n",
    "            'IQRY': [tr.find_element(\"xpath\",'td[3]').text],\n",
    "            'REGDT': [tr.find_element(\"xpath\",'td[4]').text],\n",
    "            'CHGDT': [tr.find_element(\"xpath\",'td[5]').text],\n",
    "        })\n",
    "    df_list.append(df)\n",
    "    \n",
    "ARTICLE_LIST = pd.concat(df_list)\n",
    "db_save(ARTICLE_LIST)"
   ]
  },
  {
   "cell_type": "code",
   "execution_count": 39,
   "id": "b572f046-347c-486b-8c60-d03980888834",
   "metadata": {},
   "outputs": [],
   "source": [
    "browser.find_element(\"xpath\",'//*[@id=\"searchVO\"]/div[5]/table/tbody/tr[1]/td[2]/a').click()\n",
    "browser.implicitly_wait(3)"
   ]
  },
  {
   "cell_type": "code",
   "execution_count": 41,
   "id": "6a5446b0-87eb-4d71-8c2f-db73d26df080",
   "metadata": {},
   "outputs": [],
   "source": [
    "browser.find_element(\"xpath\",'//*[@id=\"recsroomDetail\"]/div[2]/div[4]/div/a').click()\n",
    "time.sleep(10)"
   ]
  },
  {
   "cell_type": "code",
   "execution_count": 42,
   "id": "6728e972-a3bd-4165-8260-81c7a271defe",
   "metadata": {},
   "outputs": [],
   "source": [
    "browser.quit()"
   ]
  },
  {
   "cell_type": "code",
   "execution_count": 43,
   "id": "6f3d9307-a5ea-46f1-9b0b-a35c43ec6fd6",
   "metadata": {},
   "outputs": [],
   "source": [
    "from selenium import webdriver\n",
    "\n",
    "options = webdriver.ChromeOptions()\n",
    "options.add_argument('--headless')\n",
    "options.add_argument('--disable-gpu')\n",
    "options.add_argument('--window-size=1280x1024')\n",
    "\n",
    "browser = webdriver.Chrome('chromedriver', options=options)"
   ]
  },
  {
   "cell_type": "code",
   "execution_count": 44,
   "id": "62e8d776-8f8f-49aa-957a-dd04cbec73ce",
   "metadata": {},
   "outputs": [],
   "source": [
    "browser.get('https://www.data.go.kr/')\n",
    "browser.implicitly_wait(5)"
   ]
  },
  {
   "cell_type": "code",
   "execution_count": 48,
   "id": "7c7e998c-91ef-47b4-b18b-b1c0bf8f1ff9",
   "metadata": {},
   "outputs": [],
   "source": [
    "browser.find_element(\"xpath\",'//*[@id=\"header\"]/div/div/div/div[2]/div/a[1]').click()\n",
    "browser.implicitly_wait(5)"
   ]
  },
  {
   "cell_type": "code",
   "execution_count": 49,
   "id": "bfd01dca-e83e-4af8-b831-ded0306072b2",
   "metadata": {},
   "outputs": [],
   "source": [
    "browser.find_element(\"xpath\",'//*[@id=\"mberId\"]').send_keys('아이디')"
   ]
  },
  {
   "cell_type": "code",
   "execution_count": 50,
   "id": "10631d30-de16-45e6-92f8-9b732420ce53",
   "metadata": {},
   "outputs": [],
   "source": [
    "browser.find_element(\"xpath\",'//*[@id=\"pswrd\"]').send_keys('비밀번호')"
   ]
  },
  {
   "cell_type": "code",
   "execution_count": 51,
   "id": "6ac179b0-04cb-4da4-afef-fee1a0c10056",
   "metadata": {},
   "outputs": [],
   "source": [
    "browser.find_element(\"xpath\",'//*[@id=\"loginVo\"]/div[2]/div[2]/div[2]/div/div[1]/button').click()\n",
    "browser.implicitly_wait(5)"
   ]
  },
  {
   "cell_type": "code",
   "execution_count": 52,
   "id": "bb2f46f8-7461-49fc-9a0d-8462b4170ce4",
   "metadata": {},
   "outputs": [],
   "source": [
    "browser.find_element(\"xpath\",'//*[@id=\"M000400_pc\"]/a').click()"
   ]
  },
  {
   "cell_type": "code",
   "execution_count": 53,
   "id": "08ac17db-3928-44bc-a774-4de0192df2b1",
   "metadata": {},
   "outputs": [],
   "source": [
    "browser.find_element(\"xpath\",'//*[@id=\"M000402_pc\"]/a').click()"
   ]
  },
  {
   "cell_type": "code",
   "execution_count": 54,
   "id": "6cdf14da-1c0e-40cf-aabe-0227456da093",
   "metadata": {},
   "outputs": [],
   "source": [
    "def db_save(ARTICLE_LIST):\n",
    "    with sqlite3.connect(os.path.join('.','sqliteDB')) as con: # sqlite DB 파일이 존재하지 않는 경우 파일생성\n",
    "        try:\n",
    "            ARTICLE_LIST.to_sql(name = 'ARTICLE_LIST', con = con, index = False, if_exists='append') \n",
    "            #if_exists : {'fail', 'replace', 'append'} default : fail\n",
    "        except Exception as e:\n",
    "            print(str(e))\n",
    "        print(len(ARTICLE_LIST), '건 저장완료..')"
   ]
  },
  {
   "cell_type": "code",
   "execution_count": 57,
   "id": "0f855c53-f6d3-423e-8680-58d42ac7ec21",
   "metadata": {},
   "outputs": [
    {
     "name": "stdout",
     "output_type": "stream",
     "text": [
      "10 건 저장완료..\n"
     ]
    }
   ],
   "source": [
    "trs = browser.find_elements(\"xpath\",'//*[@id=\"searchVO\"]/div[5]/table/tbody/tr')\n",
    "df_list = []\n",
    "for tr in trs:\n",
    "    df = pd.DataFrame({\n",
    "            'NO': [tr.find_element(\"xpath\",'td[1]').text],\n",
    "            'TITLE': [tr.find_element(\"xpath\",'td[2]').text],\n",
    "            'IQRY': [tr.find_element(\"xpath\",'td[3]').text],\n",
    "            'REGDT': [tr.find_element(\"xpath\",'td[4]').text],\n",
    "            'CHGDT': [tr.find_element(\"xpath\",'td[5]').text],\n",
    "        })\n",
    "    df_list.append(df)\n",
    "    \n",
    "ARTICLE_LIST = pd.concat(df_list)\n",
    "db_save(ARTICLE_LIST)"
   ]
  },
  {
   "cell_type": "code",
   "execution_count": 63,
   "id": "2db518c1-2c0b-43ff-bf50-17236195b4dc",
   "metadata": {},
   "outputs": [],
   "source": [
    "browser.find_element(\"xpath\",'//*[@id=\"searchVO\"]/div[5]/table/tbody/tr[1]/td[2]/a').click()\n",
    "browser.implicitly_wait(3)"
   ]
  },
  {
   "cell_type": "code",
   "execution_count": 64,
   "id": "6add45d8-4135-4606-8ac6-5a9a31e0e557",
   "metadata": {},
   "outputs": [],
   "source": [
    "browser.find_element(\"xpath\",'//*[@id=\"recsroomDetail\"]/div[2]/div[4]/div/a').click()\n",
    "time.sleep(10)"
   ]
  },
  {
   "cell_type": "code",
   "execution_count": 65,
   "id": "2696c253-b3a9-421d-9940-5792740c8968",
   "metadata": {},
   "outputs": [],
   "source": [
    "browser.quit()"
   ]
  }
 ],
 "metadata": {
  "kernelspec": {
   "display_name": "Python 3 (ipykernel)",
   "language": "python",
   "name": "python3"
  },
  "language_info": {
   "codemirror_mode": {
    "name": "ipython",
    "version": 3
   },
   "file_extension": ".py",
   "mimetype": "text/x-python",
   "name": "python",
   "nbconvert_exporter": "python",
   "pygments_lexer": "ipython3",
   "version": "3.9.12"
  }
 },
 "nbformat": 4,
 "nbformat_minor": 5
}
