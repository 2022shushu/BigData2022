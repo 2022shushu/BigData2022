{
 "cells": [
  {
   "cell_type": "code",
   "execution_count": 4,
   "id": "c86dcf68-6fe1-433c-b7cf-4103396fbc74",
   "metadata": {},
   "outputs": [],
   "source": [
    "import requests\n",
    "import lxml.html\n",
    "import pandas as pd\n",
    "import sqlite3\n",
    "from pandas.io import sql\n",
    "import os\n",
    "import time"
   ]
  },
  {
   "cell_type": "code",
   "execution_count": 5,
   "id": "8856bb6f-6fea-4c53-9320-fd27f8bc7dbf",
   "metadata": {},
   "outputs": [],
   "source": [
    "def db_save(NEWS_LIST) :\n",
    "    with sqlite3.connect(os.path.join('.','sqliteDB')) as con :\n",
    "        try :\n",
    "            NEWS_LIST.to_sql(name = 'NEWS_LIST', con = con, index = False, if_exists = 'append')\n",
    "        except Exception as e :\n",
    "            print(str(e))\n",
    "        print(len(NEWS_LIST), '건 저장완료..')"
   ]
  },
  {
   "cell_type": "code",
   "execution_count": 6,
   "id": "133a192a-465d-46fa-ac2f-a344b564c64d",
   "metadata": {},
   "outputs": [],
   "source": [
    "def db_delete() :\n",
    "    with sqlite3.connect(os.path.join('.', 'sqliteDB')) as con :\n",
    "        try :\n",
    "            cur = con.cursor()\n",
    "            sql = 'DELETE FROM NEWS_LIST'\n",
    "            cur.execute(sql)\n",
    "        except Exception as e :\n",
    "            print(str(e))"
   ]
  },
  {
   "cell_type": "code",
   "execution_count": 7,
   "id": "1a56eedb-9541-4071-93bb-904f499cfc2a",
   "metadata": {},
   "outputs": [],
   "source": [
    "def db_select() :\n",
    "    with sqlite3.connect(os.path.join('.', 'sqliteDB')) as con :\n",
    "        try :\n",
    "            query = 'SELECT * FROM NEWS_LIST'\n",
    "            NEWS_LIST = pd.read_sql(query, con = con)\n",
    "        except Exception as e :\n",
    "            print(str(e))\n",
    "        return NEWS_LIST"
   ]
  },
  {
   "cell_type": "code",
   "execution_count": 13,
   "id": "25cbf4ad-a156-4f73-be0a-e5c636262646",
   "metadata": {},
   "outputs": [],
   "source": [
    "import re\n",
    "import string\n",
    "\n",
    "def get_detail(url) :\n",
    "    body = []\n",
    "    punc = '[!\"#$%&\\'()*+,-./:;<=>?[\\]^_`{|}~“”·]'\n",
    "    response = requests.get(url)\n",
    "    root = lxml.html.fromstring(response.content)\n",
    "    for p in root.xpath('//*[@id=\"harmonyContainer\"]/section/p') :\n",
    "        if p.text :\n",
    "            body.append(re.sub(punc, '', p.text))\n",
    "    full_body = ' '.join(body)\n",
    "    \n",
    "    return full_body"
   ]
  },
  {
   "cell_type": "code",
   "execution_count": 20,
   "id": "439b0ee4-90bd-45d8-bad0-e32085bea003",
   "metadata": {},
   "outputs": [],
   "source": [
    "page = 58\n",
    "max_page = 0\n",
    "REG_DATE = '20220719'"
   ]
  },
  {
   "cell_type": "code",
   "execution_count": 21,
   "id": "64040317-7d59-446d-b591-71fc82faa850",
   "metadata": {},
   "outputs": [],
   "source": [
    "while(True) :\n",
    "    df_list = []\n",
    "    response = requests.get('http://news.daum.net/breakingnews/digital?page={}&regDate={}'\\\n",
    "                            .format(page, REG_DATE))\n",
    "    root = lxml.html.fromstring(response.content)\n",
    "    for li in root.xpath('//*[@id=\"mArticle\"]/div[3]/ul/li') :\n",
    "        a = li.xpath('div/strong/a')[0]\n",
    "        url = a.get('href')\n",
    "        article = get_detail(url)\n",
    "        df = pd.DataFrame({'URL' : [url],'TITLE':[a.text],'ARTICLE' : [article]})\n",
    "        df_list.append(df)   \n",
    "        \n",
    "    if df_list :   \n",
    "        df_10 = pd.concat(df_list)\n",
    "        db_save(df_10)\n",
    "\n",
    "    # 페이지 번호 중에서 max 페이지 가져오기    \n",
    "    for a in root.xpath('//*[@id=\"mArticle\"]/div[3]/div/span/a') :\n",
    "        try :\n",
    "            num = int(a.text)\n",
    "            if max_page < num:\n",
    "                max_page = num       \n",
    "        except :\n",
    "            pass\n",
    "\n",
    "    # 마지막 페이지 여부 확인     \n",
    "    span = root.xpath('//*[@id=\"mArticle\"]/div[3]/div/span/a[@class=\"btn_page btn_next\"]')\n",
    "\n",
    "    if (len(span) <= 0) & (page > max_page) :\n",
    "        break\n",
    "    else :\n",
    "        page = page + 1\n",
    "        \n",
    "    time.sleep(1)      "
   ]
  },
  {
   "cell_type": "code",
   "execution_count": 22,
   "id": "c00dbfce-1f43-4339-82af-d6939f791362",
   "metadata": {},
   "outputs": [
    {
     "name": "stdout",
     "output_type": "stream",
     "text": [
      "                                        URL  \\\n",
      "0    https://v.daum.net/v/20200819084702255   \n",
      "1    https://v.daum.net/v/20200819084617234   \n",
      "2    https://v.daum.net/v/20200819084529215   \n",
      "3    https://v.daum.net/v/20200819084517208   \n",
      "4    https://v.daum.net/v/20200819084251134   \n",
      "..                                      ...   \n",
      "111  https://v.daum.net/v/20200819030053787   \n",
      "112  https://v.daum.net/v/20200819021530691   \n",
      "113  https://v.daum.net/v/20200819010010384   \n",
      "114  https://v.daum.net/v/20200819004221292   \n",
      "115  https://v.daum.net/v/20200819000017909   \n",
      "\n",
      "                                                 TITLE  \\\n",
      "0                         에기평, 코로나19 확산 방지 투명칸막이 무상 제공   \n",
      "1                     중국 선전시, 전지역 커버하는 '5G SA' 네트워크 구축   \n",
      "2                    상반기 전세계 모바일게임 지출 42조 돌파..반기 기준 최고   \n",
      "3                5분 충전에 600km 주행 가능..전기車 리튬금속전지 개발 본격화   \n",
      "4                        배달의민족, 비 피해 소상공인에 10만원 포인트 지원   \n",
      "..                                                 ...   \n",
      "111                \"게임에 빠진 아이와 소통하려면..'게임의 룰'부터 파악하세요\"   \n",
      "112  \"재택근무부터 온라인 콘서트까지..코로나19로 모바일이 삶에 뿌리내렸다\"[신무경의 ...   \n",
      "113               보름 앞으로 다가온 반쪽 행사 'IFA 2020'..강행 배경은?   \n",
      "114                    방심위, 진공 청소기 흡입력 오인케한 공영쇼핑에 '주의'   \n",
      "115            [TF초점] 기대 높아진 갤노트20, 상반기 갤S20 부진까지 씻어낼까   \n",
      "\n",
      "                                               ARTICLE  \n",
      "0    한국에너지기술평가원은 생활방역 정착과 지역경제 활성화에 기여하기 위해 999 비말을...  \n",
      "1    지디넷코리아유효정 중국 전문기자중국 정부 주도로 다음달에서 전국 단위에서 5G 단독...  \n",
      "2    아시아경제 이진규 기자 신종 코로나바이러스감염증코로나19 확산 여파로 실내 활동이 ...  \n",
      "3    헤럴드경제구본혁 기자 약 5분 충전에 600km를 주행할 수 있는 전기차 배터리를 ...  \n",
      "4    지디넷코리아백봉삼 기자배달의민족이하 배민을 운영하는 우아한형제들은 집중호우 피해로 ...  \n",
      "..                                                 ...  \n",
      "111  방승호 서울시교육청 교육연구관59은 게임에 대한 오해가 크다고 말했다 서울 중구 충...  \n",
      "112  글로벌 앱 분석업체 앱애니는 17일미국 현지시간 ‘신종 코로나바이러스 감염증코로나1...  \n",
      "113  유럽 최대 가전ㆍ정보기술IT 전시회인 ‘IFA 2020’가 신종 코로나바이러스 감염...  \n",
      "114  지디넷코리아안희정 기자방송통신심의위원회는 19일 광고심의소위원회 회의를 열고 가정용...  \n",
      "115  더팩트│최수진 기자 신종 코로나바이러스 감염증코로나19 사태 이후 굳게 닫힌 소비자...  \n",
      "\n",
      "[116 rows x 3 columns]\n"
     ]
    }
   ],
   "source": [
    "print(db_select())"
   ]
  },
  {
   "cell_type": "code",
   "execution_count": null,
   "id": "e7629285-2da4-42bf-b4a9-530567dc7080",
   "metadata": {},
   "outputs": [],
   "source": []
  },
  {
   "cell_type": "code",
   "execution_count": null,
   "id": "38e2cb5f-d0f4-47dd-88c5-0b3218365840",
   "metadata": {},
   "outputs": [],
   "source": []
  }
 ],
 "metadata": {
  "kernelspec": {
   "display_name": "Python 3 (ipykernel)",
   "language": "python",
   "name": "python3"
  },
  "language_info": {
   "codemirror_mode": {
    "name": "ipython",
    "version": 3
   },
   "file_extension": ".py",
   "mimetype": "text/x-python",
   "name": "python",
   "nbconvert_exporter": "python",
   "pygments_lexer": "ipython3",
   "version": "3.9.12"
  }
 },
 "nbformat": 4,
 "nbformat_minor": 5
}
