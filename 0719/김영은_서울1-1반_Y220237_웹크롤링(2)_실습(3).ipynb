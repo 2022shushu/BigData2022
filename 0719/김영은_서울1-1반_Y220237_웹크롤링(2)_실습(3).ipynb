{
 "cells": [
  {
   "cell_type": "code",
   "execution_count": 1,
   "id": "6ad68f9e-c701-4979-a5ab-ee5ff1a3fc54",
   "metadata": {},
   "outputs": [],
   "source": [
    "import requests\n",
    "import lxml.html\n",
    "import pandas as pd\n",
    "import sqlite3\n",
    "from pandas.io import sql\n",
    "import os"
   ]
  },
  {
   "cell_type": "code",
   "execution_count": 6,
   "id": "3da10fae-e8ea-4460-a180-609d66352957",
   "metadata": {},
   "outputs": [],
   "source": [
    "REG_DATE = '20220719'"
   ]
  },
  {
   "cell_type": "code",
   "execution_count": 7,
   "id": "18f3dcda-b261-443e-a1a3-3075cc8b2797",
   "metadata": {},
   "outputs": [
    {
     "name": "stdout",
     "output_type": "stream",
     "text": [
      "https://v.daum.net/v/20220719100902398 컴프야V22, 메타 휴먼 기술로 구현한 최동원 홍보 영상 메이킹필름 공개\n",
      "https://v.daum.net/v/20220719100851387 각종 민원서류 한번에 척척 발급\n",
      "https://v.daum.net/v/20220719100821371 당근마켓 \"대량 구매, 배송비 부담되면 이웃과 같이사요\"\n",
      "https://v.daum.net/v/20220719100718350 정부세종청사→디지털청사..LG CNS, AI 통합 관제시스템 구축\n",
      "https://v.daum.net/v/20220719100704338 근로자 근무환경 원격관리 재해예방\n",
      "https://v.daum.net/v/20220719100638328 SK C&C, '멀티 하이브리드 클라우드 AM 플랫폼' 공개\n",
      "https://v.daum.net/v/20220719100633321 신세계아이앤씨, SW 청년인재 양성위해 '부산캠퍼스' 오픈\n",
      "https://v.daum.net/v/20220719100606301 셀트리온, '악템라 바이오시밀러' 유럽 3상 승인\n",
      "https://v.daum.net/v/20220719100602294 韓 게임 무덤된 中..내자판호 받은 '이터널 리턴' 어떨까\n",
      "https://v.daum.net/v/20220719100554280 마크애니, 화면보안 솔루션 '스크린세이퍼 v3.0' 나라장터 등록\n",
      "https://v.daum.net/v/20220719100511247 유비앤티스랩, 서울대 SSO 구축사업 계약..다수 교육기관 구축 경험 기여\n",
      "https://v.daum.net/v/20220719100507242 LGU+, '캐치 티니핑' 제작사에 지분 투자..콘텐츠 IP사업 본격화\n",
      "https://v.daum.net/v/20220719100507241 코드에프, 데이터 중개시장 독주\n",
      "https://v.daum.net/v/20220719100504238 유니닥스, 'ezPDF DRM 서비스' 올 상반기 이용률 150% 증가\n",
      "https://v.daum.net/v/20220719100503237 텐센트, 한국 게임산업협회 이사사로 가입 확정\n"
     ]
    }
   ],
   "source": [
    "response = requests.get('https://news.daum.net/breakingnews/digital?regDate={}'.format(REG_DATE))                   \n",
    "root = lxml.html.fromstring(response.content)\n",
    "for li in root.xpath('//*[@id=\"mArticle\"]/div[3]/ul/li') :\n",
    "    a = li.xpath('div/strong/a')[0]\n",
    "    url = a.get('href')\n",
    "    print(url, a.text)"
   ]
  }
 ],
 "metadata": {
  "kernelspec": {
   "display_name": "Python 3 (ipykernel)",
   "language": "python",
   "name": "python3"
  },
  "language_info": {
   "codemirror_mode": {
    "name": "ipython",
    "version": 3
   },
   "file_extension": ".py",
   "mimetype": "text/x-python",
   "name": "python",
   "nbconvert_exporter": "python",
   "pygments_lexer": "ipython3",
   "version": "3.9.12"
  }
 },
 "nbformat": 4,
 "nbformat_minor": 5
}
