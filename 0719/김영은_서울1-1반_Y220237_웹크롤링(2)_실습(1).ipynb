{
 "cells": [
  {
   "cell_type": "code",
   "execution_count": 1,
   "id": "590b1f07-67c9-4359-b692-9c54128c78b9",
   "metadata": {},
   "outputs": [],
   "source": [
    "import requests\n",
    "import lxml.html"
   ]
  },
  {
   "cell_type": "code",
   "execution_count": 3,
   "id": "54127fbc-b0de-47e7-8c84-88a302bf5284",
   "metadata": {},
   "outputs": [],
   "source": [
    "response = requests.get('http://www.hanbit.co.kr/stroe/books/new_book_list.html')\n",
    "root = lxml.html.fromstring(response.content)"
   ]
  },
  {
   "cell_type": "code",
   "execution_count": 4,
   "id": "9dc78b5f-fa1d-494f-bef6-27494df62bcf",
   "metadata": {},
   "outputs": [],
   "source": [
    "for a in root.cssselect('.view_box a'):\n",
    "    url = a.get('href')\n",
    "    print(url)"
   ]
  },
  {
   "cell_type": "code",
   "execution_count": 5,
   "id": "ebef1966-fd24-4109-9702-02ae56c44be6",
   "metadata": {},
   "outputs": [],
   "source": [
    "root.make_links_absolute(response.url)"
   ]
  },
  {
   "cell_type": "code",
   "execution_count": 6,
   "id": "d4de207d-0023-4e5c-b781-62e2369d4e12",
   "metadata": {},
   "outputs": [],
   "source": [
    "for a in root.cssselect('.view_book .book_tit a') :\n",
    "    url = a.get('href')\n",
    "    print(url)"
   ]
  }
 ],
 "metadata": {
  "kernelspec": {
   "display_name": "Python 3 (ipykernel)",
   "language": "python",
   "name": "python3"
  },
  "language_info": {
   "codemirror_mode": {
    "name": "ipython",
    "version": 3
   },
   "file_extension": ".py",
   "mimetype": "text/x-python",
   "name": "python",
   "nbconvert_exporter": "python",
   "pygments_lexer": "ipython3",
   "version": "3.9.12"
  }
 },
 "nbformat": 4,
 "nbformat_minor": 5
}
