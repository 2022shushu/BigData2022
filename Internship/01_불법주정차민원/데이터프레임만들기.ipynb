{
 "cells": [
  {
   "cell_type": "code",
   "execution_count": 1,
   "id": "bd62fa96-29a2-48eb-82f2-a175fed8f2fe",
   "metadata": {},
   "outputs": [],
   "source": [
    "import os\n",
    "import warnings\n",
    "warnings.simplefilter(action='ignore', category=FutureWarning)\n",
    "\n",
    "import pandas as pd\n",
    "import numpy as np\n",
    "import math\n",
    "import datetime\n",
    "\n",
    "import plotly.express as px\n",
    "\n",
    "from scipy import stats\n",
    "from scipy.stats import chisquare\n",
    "\n",
    "import matplotlib.pyplot as plt\n",
    "import seaborn as sns\n",
    "%matplotlib inline\n",
    "\n",
    "import os\n",
    "if os.name == 'nt' :\n",
    "    font_family = \"Malgun Gothic\"\n",
    "else :\n",
    "    font_family = \"AppleGothic\"\n",
    "\n",
    "sns.set(font=font_family, rc ={\"axes.unicode_minus\" : False})"
   ]
  },
  {
   "cell_type": "code",
   "execution_count": 2,
   "id": "dfe1f068-a67d-42c8-9ca1-8155905ef933",
   "metadata": {},
   "outputs": [],
   "source": [
    "data = pd.read_csv('C:/Users/user/Desktop/01불법주정차민원분석/안전신문고.csv', encoding = 'cp949')\n",
    "df = pd.DataFrame(data)"
   ]
  },
  {
   "cell_type": "code",
   "execution_count": 3,
   "id": "daaeb86e-eab2-4921-a696-4806ea6831f3",
   "metadata": {},
   "outputs": [],
   "source": [
    "df['일시'] = pd.to_datetime(df['일시'])\n",
    "df['연도'] = df['일시'].dt.year\n",
    "df['월'] = df['일시'].dt.month\n",
    "df['요일(번호)'] = df['일시'].dt.weekday # 요일 정보 숫자 추출\n",
    "daydict = ['월요일', '화요일', '수요일', '목요일', '금요일', '토요일', '일요일']\n",
    "df['요일'] = df.apply(lambda x : daydict[x['요일(번호)']], axis = 1)\n",
    "\n",
    "기타불법주정차 = df['신고유형'] == '기타불법주정차'\n",
    "장애인전용구역 = df['신고유형'] == '장애인전용구역'\n",
    "\n",
    "횡단보도 = df['신고유형'] == '횡단보도'\n",
    "버스정류소 = df['신고유형'] == '버스정류소'\n",
    "교차로모퉁이 = df['신고유형'] == '교차로 모퉁이'\n",
    "소화전 = df['신고유형'] == '소화전'\n",
    "어린이보호구역 = df['신고유형'] == '어린이보호구역'\n",
    "\n",
    "x = df['행정동명'].unique()"
   ]
  },
  {
   "cell_type": "code",
   "execution_count": 4,
   "id": "f48bd527-4054-4e23-abde-da9186c5bdd9",
   "metadata": {},
   "outputs": [],
   "source": [
    "# 몇년 몇월\n",
    "mon_list = []\n",
    "for z in range (2019, 2022) :\n",
    "        for j in range (1, 13) :\n",
    "            mon = (\"{0}년 {1}월\".format(z, j))\n",
    "            mon_list.append(mon)"
   ]
  },
  {
   "cell_type": "code",
   "execution_count": 26,
   "id": "57d76792-7bc9-4162-9788-5ab195eea44e",
   "metadata": {},
   "outputs": [],
   "source": [
    "# 몇년 몇월의 특정 행정동의 소화전 갯수\n",
    "cnt_list = []\n",
    "for z in range (2019, 2022) :\n",
    "    for i in range (len(x)) :\n",
    "        for j in range (1, 13) :\n",
    "            cnt = (len(df[소화전 & (df['행정동명'] == x[i]) & (df['연도'] == z) & (df['월'] == j)]))\n",
    "            cnt_list.append(cnt)"
   ]
  },
  {
   "cell_type": "code",
   "execution_count": 28,
   "id": "72c4681e-a52c-4970-90ba-6a43826841dc",
   "metadata": {},
   "outputs": [],
   "source": [
    "# 행정동 갯수만큼 분류하기 (몇년 몇월, 즉 36개를 만들어야하므로)\n",
    "n = 28 # 한 리스트에 28개씩 담기\n",
    "cnt_list = [cnt_list[i * n : (i + 1) * n] for i in range ((len(cnt_list) + n - 1) // n)]"
   ]
  },
  {
   "cell_type": "code",
   "execution_count": 29,
   "id": "ab961efe-d0cf-4c92-9f83-bedc80795eb4",
   "metadata": {},
   "outputs": [],
   "source": [
    "# 다시 리스트에 예쁘게 담기\n",
    "ncnt_list = []\n",
    "for i in range (len(cnt_list)) :\n",
    "    ncnt_list.append(cnt_list[i])"
   ]
  },
  {
   "cell_type": "code",
   "execution_count": 31,
   "id": "b32a2e48-cbdc-45a1-80fb-b53c542aafa1",
   "metadata": {},
   "outputs": [],
   "source": [
    "# 행정동 인덱스 처리하여 몇년 몇월별로 엑셀 표 만들기\n",
    "colname3 = [x]\n",
    "df3 = pd.DataFrame(ncnt_list, columns = colname3)\n",
    "df3 = df3.transpose() # 행/열 전환\n",
    "df3.columns = [mon_list] \n",
    "df3\n",
    "df3.to_excel('소화전연도월별.xlsx')"
   ]
  },
  {
   "cell_type": "code",
   "execution_count": 45,
   "id": "2352488b-7cf4-4afa-bbdc-74dc9ee1b420",
   "metadata": {},
   "outputs": [
    {
     "name": "stdout",
     "output_type": "stream",
     "text": [
      "['2019년 월요일', '2019년 화요일', '2019년 수요일', '2019년 목요일', '2019년 금요일', '2019년 토요일', '2019년 일요일', '2020년 월요일', '2020년 화요일', '2020년 수요일', '2020년 목요일', '2020년 금요일', '2020년 토요일', '2020년 일요일', '2021년 월요일', '2021년 화요일', '2021년 수요일', '2021년 목요일', '2021년 금요일', '2021년 토요일', '2021년 일요일']\n"
     ]
    }
   ],
   "source": [
    "# 몇년 몇요일 만들기\n",
    "# 몇년 몇요일 리스트\n",
    "요일 = [\"월\", \"화\", \"수\", \"목\", \"금\", \"토\", \"일\"]\n",
    "day_list = []\n",
    "for z in range (2019, 2022) :\n",
    "        for j in range (7) :\n",
    "            day = (\"{0}년 {1}요일\".format(z, 요일[j]))\n",
    "            day_list.append(day)\n",
    "print(day_list)"
   ]
  },
  {
   "cell_type": "code",
   "execution_count": 52,
   "id": "8bc57e3f-fc7b-49f0-9691-d40b3bd460ad",
   "metadata": {},
   "outputs": [],
   "source": [
    "# 몇년 몇요일의 특정 행정동의 버스정류장 갯수\n",
    "cnt_list = []\n",
    "for z in range (2019, 2022) :\n",
    "    for j in range (len(x)) :\n",
    "        for i in range (7) :\n",
    "            cnt = (len(df[버스정류소 & (df['요일(번호)'] == i) & (df['행정동명'] == x[j]) & (df['연도'] == z)]))\n",
    "            cnt_list.append(cnt)\n",
    "# 행정동 갯수만큼 분류하기 (몇년 몇월, 즉 36개를 만들어야하므로)\n",
    "n = 28 # 한 리스트에 28개씩 담기\n",
    "cnt_list = [cnt_list[i * n : (i + 1) * n] for i in range ((len(cnt_list) + n - 1) // n)]\n",
    "                                                          \n",
    "# 다시 리스트에 예쁘게 담기\n",
    "ncnt_list = []\n",
    "for i in range (len(cnt_list)) :\n",
    "    ncnt_list.append(cnt_list[i])\n",
    "    \n",
    "# 행정동 인덱스 처리하여 몇년 몇요일별로 엑셀 표 만들기\n",
    "colname3 = [x]\n",
    "df3 = pd.DataFrame(ncnt_list, columns = colname3)\n",
    "df3 = df3.transpose() # 행/열 전환\n",
    "df3.columns = [day_list] \n",
    "df3\n",
    "df3.to_excel('버스요일별.xlsx')"
   ]
  }
 ],
 "metadata": {
  "kernelspec": {
   "display_name": "Python 3 (ipykernel)",
   "language": "python",
   "name": "python3"
  },
  "language_info": {
   "codemirror_mode": {
    "name": "ipython",
    "version": 3
   },
   "file_extension": ".py",
   "mimetype": "text/x-python",
   "name": "python",
   "nbconvert_exporter": "python",
   "pygments_lexer": "ipython3",
   "version": "3.9.12"
  }
 },
 "nbformat": 4,
 "nbformat_minor": 5
}
