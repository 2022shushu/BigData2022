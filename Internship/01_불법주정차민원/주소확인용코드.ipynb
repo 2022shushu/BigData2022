{
 "cells": [
  {
   "cell_type": "code",
   "execution_count": 22,
   "id": "18aeb8a1-9a11-442b-bbef-ca4ee0338782",
   "metadata": {},
   "outputs": [],
   "source": [
    "import os\n",
    "import warnings\n",
    "warnings.simplefilter(action='ignore', category=FutureWarning)\n",
    "\n",
    "import pandas as pd\n",
    "import numpy as np\n",
    "import math\n",
    "import datetime\n",
    "\n",
    "import plotly.express as px\n",
    "\n",
    "from scipy import stats\n",
    "from scipy.stats import chisquare\n",
    "\n",
    "import matplotlib.pyplot as plt\n",
    "import seaborn as sns\n",
    "%matplotlib inline\n",
    "\n",
    "import os\n",
    "if os.name == 'nt' :\n",
    "    font_family = \"Malgun Gothic\"\n",
    "else :\n",
    "    font_family = \"AppleGothic\"\n",
    "\n",
    "sns.set(font=font_family, rc ={\"axes.unicode_minus\" : False})"
   ]
  },
  {
   "cell_type": "code",
   "execution_count": 23,
   "id": "2bded5bc-5a72-4e58-b4c4-b767a684007f",
   "metadata": {},
   "outputs": [],
   "source": [
    "data = pd.read_csv('C:/Users/user/Desktop/01불법주정차민원분석/안전신문고.csv', encoding = 'cp949')\n",
    "df = pd.DataFrame(data)"
   ]
  },
  {
   "cell_type": "code",
   "execution_count": 24,
   "id": "94e1c4de-8efb-4190-a4eb-5c946d26f6cb",
   "metadata": {},
   "outputs": [],
   "source": [
    "df['일시'] = pd.to_datetime(df['일시'])\n",
    "df['연도'] = df['일시'].dt.year\n",
    "df['월'] = df['일시'].dt.month\n",
    "df['요일(번호)'] = df['일시'].dt.weekday # 요일 정보 숫자 추출\n",
    "daydict = ['월요일', '화요일', '수요일', '목요일', '금요일', '토요일', '일요일']\n",
    "df['요일'] = df.apply(lambda x : daydict[x['요일(번호)']], axis = 1)\n",
    "\n",
    "기타불법주정차 = df['신고유형'] == '기타불법주정차'\n",
    "장애인전용구역 = df['신고유형'] == '장애인전용구역'\n",
    "\n",
    "횡단보도 = df['신고유형'] == '횡단보도'\n",
    "버스정류소 = df['신고유형'] == '버스정류소'\n",
    "교차로모퉁이 = df['신고유형'] == '교차로 모퉁이'\n",
    "소화전 = df['신고유형'] == '소화전'\n",
    "어린이보호구역 = df['신고유형'] == '어린이보호구역'\n",
    "\n",
    "x = df['행정동명'].unique()"
   ]
  },
  {
   "cell_type": "code",
   "execution_count": 101,
   "id": "bb47ac39-5940-4b3f-bfb1-1a49531aef22",
   "metadata": {},
   "outputs": [
    {
     "name": "stdout",
     "output_type": "stream",
     "text": [
      "4\n"
     ]
    },
    {
     "data": {
      "text/plain": [
       "발생주소\n",
       "광주광역시 북구 중흥동 378-1    3\n",
       "광주광역시 북구 중흥동 378-6    1\n",
       "dtype: int64"
      ]
     },
     "execution_count": 101,
     "metadata": {},
     "output_type": "execute_result"
    }
   ],
   "source": [
    "TYPE = \"자동차 안전신고\"\n",
    "YEAR = 2021\n",
    "DONG = \"중흥2동\"\n",
    "print(len(df[(df['신고유형'] == TYPE) & (df['연도'] == YEAR) & (df['행정동명'] == DONG)].value_counts('연번')))\n",
    "df[(df['신고유형'] == TYPE) & (df['연도'] == YEAR) & (df['행정동명'] == DONG)].value_counts('발생주소')"
   ]
  },
  {
   "cell_type": "code",
   "execution_count": 103,
   "id": "e72583c1-7ec6-4f36-89b9-03f7ab77a4a0",
   "metadata": {},
   "outputs": [
    {
     "name": "stdout",
     "output_type": "stream",
     "text": [
      "3\n"
     ]
    },
    {
     "data": {
      "text/plain": [
       "발생주소\n",
       "광주광역시 북구 용봉동 1114-33    1\n",
       "광주광역시 북구 용봉동 163        1\n",
       "광주광역시 북구 용봉동 606-2      1\n",
       "dtype: int64"
      ]
     },
     "execution_count": 103,
     "metadata": {},
     "output_type": "execute_result"
    }
   ],
   "source": [
    "TYPE = \"지하수 미등록 시설·방치공\"\n",
    "YEAR = 2021\n",
    "DONG = \"용봉동\"\n",
    "print(len(df[(df['신고유형'] == TYPE) & (df['연도'] == YEAR) & (df['행정동명'] == DONG)].value_counts('연번')))\n",
    "df[(df['신고유형'] == TYPE) & (df['연도'] == YEAR) & (df['행정동명'] == DONG)].value_counts('발생주소')"
   ]
  },
  {
   "cell_type": "code",
   "execution_count": null,
   "id": "68bc2f60-a1af-4142-be9d-c9127fa7c817",
   "metadata": {},
   "outputs": [],
   "source": []
  }
 ],
 "metadata": {
  "kernelspec": {
   "display_name": "Python 3 (ipykernel)",
   "language": "python",
   "name": "python3"
  },
  "language_info": {
   "codemirror_mode": {
    "name": "ipython",
    "version": 3
   },
   "file_extension": ".py",
   "mimetype": "text/x-python",
   "name": "python",
   "nbconvert_exporter": "python",
   "pygments_lexer": "ipython3",
   "version": "3.9.12"
  }
 },
 "nbformat": 4,
 "nbformat_minor": 5
}
