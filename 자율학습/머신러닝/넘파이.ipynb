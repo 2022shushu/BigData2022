{
 "cells": [
  {
   "cell_type": "code",
   "execution_count": 2,
   "id": "45cdbe25-e494-41a9-a1d9-2214c9c22263",
   "metadata": {},
   "outputs": [],
   "source": [
    "import numpy as np"
   ]
  },
  {
   "cell_type": "code",
   "execution_count": 3,
   "id": "c83106d2-ee1b-414c-97c6-d8d863ae6107",
   "metadata": {},
   "outputs": [
    {
     "name": "stdout",
     "output_type": "stream",
     "text": [
      "array1 type : <class 'numpy.ndarray'>\n",
      "array1 array 형태: (3,)\n",
      "array2 type : <class 'numpy.ndarray'>\n",
      "array2 array 형태: (2, 3)\n",
      "array3 type : <class 'numpy.ndarray'>\n",
      "array3 array 형태: (1, 3)\n"
     ]
    }
   ],
   "source": [
    "array1 = np.array([1, 2, 3])\n",
    "print('array1 type :', type(array1))\n",
    "print('array1 array 형태:', array1.shape)\n",
    "\n",
    "array2 = np.array([[1, 2, 3],\n",
    "                  [2, 3, 4]])\n",
    "print('array2 type :', type(array2))\n",
    "print('array2 array 형태:', array2.shape)\n",
    "\n",
    "array3 = np.array([[1, 2, 3]])\n",
    "print('array3 type :', type(array3))\n",
    "print('array3 array 형태:', array3.shape)"
   ]
  },
  {
   "cell_type": "code",
   "execution_count": 4,
   "id": "74934581-482e-412e-bec1-d186290b054e",
   "metadata": {},
   "outputs": [
    {
     "name": "stdout",
     "output_type": "stream",
     "text": [
      "array1:1차원, array2:2차원, array3: 2차원\n"
     ]
    }
   ],
   "source": [
    "print('array1:{:0}차원, array2:{:1}차원, array3:{:2}차원'.format(array1.ndim, array2.ndim, array3.ndim))"
   ]
  },
  {
   "cell_type": "code",
   "execution_count": 5,
   "id": "a649b28c-48db-406c-b461-fcfe1b702452",
   "metadata": {},
   "outputs": [
    {
     "name": "stdout",
     "output_type": "stream",
     "text": [
      "<class 'list'>\n",
      "<class 'numpy.ndarray'>\n",
      "[1 2 3] int32\n"
     ]
    }
   ],
   "source": [
    "list1 = [1, 2, 3]\n",
    "print(type(list1))\n",
    "array1 = np.array(list1)\n",
    "print(type(array1))\n",
    "print(array1, array1.dtype)"
   ]
  },
  {
   "cell_type": "code",
   "execution_count": 6,
   "id": "1556d240-b073-4e80-9c0a-3eae97ceff14",
   "metadata": {},
   "outputs": [
    {
     "name": "stdout",
     "output_type": "stream",
     "text": [
      "['1' '2' 'test'] <U11\n",
      "[1. 2. 3.] float64\n"
     ]
    }
   ],
   "source": [
    "list2 = [1, 2, 'test']\n",
    "array2 = np.array(list2)\n",
    "print(array2, array2.dtype)\n",
    "\n",
    "list3 = [1, 2, 3.0]\n",
    "array3 = np.array(list3)\n",
    "print(array3, array3.dtype)"
   ]
  },
  {
   "cell_type": "code",
   "execution_count": 7,
   "id": "6b1cba1c-aebe-4df7-8faf-c90beb3ceae9",
   "metadata": {},
   "outputs": [
    {
     "name": "stdout",
     "output_type": "stream",
     "text": [
      "[1. 2. 3.] float64\n",
      "[1 2 3] int32\n",
      "[1 2 3] int32\n"
     ]
    }
   ],
   "source": [
    "array_int = np.array([1, 2, 3])\n",
    "array_float = array_int.astype('float64')\n",
    "print(array_float, array_float.dtype)\n",
    "\n",
    "array_int1 = array_float.astype('int32')\n",
    "print(array_int1, array_int1.dtype)\n",
    "\n",
    "array_float1 = np.array([1.1, 2.1, 3.1])\n",
    "array_int2 = array_float1.astype('int32')\n",
    "print(array_int2, array_int2.dtype)"
   ]
  },
  {
   "cell_type": "code",
   "execution_count": 8,
   "id": "ae2f3c02-3918-41d5-afd6-e0e22163a731",
   "metadata": {},
   "outputs": [
    {
     "name": "stdout",
     "output_type": "stream",
     "text": [
      "[0 1 2 3 4 5 6 7 8 9]\n",
      "int32 (10,)\n"
     ]
    }
   ],
   "source": [
    "sequence_array = np.arange(10)\n",
    "print(sequence_array)\n",
    "print(sequence_array.dtype, sequence_array.shape)"
   ]
  },
  {
   "cell_type": "code",
   "execution_count": 9,
   "id": "1d8dea31-320e-4b0f-807d-c28460cf3470",
   "metadata": {},
   "outputs": [
    {
     "name": "stdout",
     "output_type": "stream",
     "text": [
      "[[0 0]\n",
      " [0 0]\n",
      " [0 0]]\n",
      "int32 (3, 2)\n",
      "[[1. 1.]\n",
      " [1. 1.]\n",
      " [1. 1.]]\n",
      "float64 (3, 2)\n"
     ]
    }
   ],
   "source": [
    "zero_array = np.zeros((3, 2), dtype = 'int32')\n",
    "print(zero_array)\n",
    "print(zero_array.dtype, zero_array.shape)\n",
    "\n",
    "one_array = np.ones((3, 2))\n",
    "print(one_array)\n",
    "print(one_array.dtype, one_array.shape)"
   ]
  },
  {
   "cell_type": "code",
   "execution_count": 10,
   "id": "99545d01-3cb0-44ca-8bc0-dbc2f1430a73",
   "metadata": {},
   "outputs": [
    {
     "name": "stdout",
     "output_type": "stream",
     "text": [
      "[0 1 2 3 4 5 6 7 8 9]\n",
      "int32 (10,)\n"
     ]
    }
   ],
   "source": [
    "squence_array = np.arange(10)\n",
    "print(sequence_array)\n",
    "print(sequence_array.dtype, sequence_array.shape)"
   ]
  },
  {
   "cell_type": "code",
   "execution_count": 11,
   "id": "cccca157-494c-45ff-9886-01168702b810",
   "metadata": {},
   "outputs": [
    {
     "name": "stdout",
     "output_type": "stream",
     "text": [
      "[[0 0]\n",
      " [0 0]\n",
      " [0 0]]\n",
      "int32 (3, 2)\n",
      "[[1. 1.]\n",
      " [1. 1.]\n",
      " [1. 1.]]\n",
      "float64 (3, 2)\n"
     ]
    }
   ],
   "source": [
    "zero_array = np.zeros((3, 2), dtype = 'int32')\n",
    "print(zero_array)\n",
    "print(zero_array.dtype, zero_array.shape)\n",
    "\n",
    "one_array = np.ones((3, 2))\n",
    "print(one_array)\n",
    "print(one_array.dtype, one_array.shape)"
   ]
  },
  {
   "cell_type": "code",
   "execution_count": 12,
   "id": "d5902e70-437f-4300-bace-c5c076578777",
   "metadata": {},
   "outputs": [
    {
     "name": "stdout",
     "output_type": "stream",
     "text": [
      "array1 : \n",
      " [0 1 2 3 4 5 6 7 8 9]\n",
      "array2 : \n",
      " [[0 1 2 3 4]\n",
      " [5 6 7 8 9]]\n",
      "array3 : \n",
      " [[0 1]\n",
      " [2 3]\n",
      " [4 5]\n",
      " [6 7]\n",
      " [8 9]]\n"
     ]
    }
   ],
   "source": [
    "array1 = np.arange(10)\n",
    "print('array1 : \\n', array1)\n",
    "\n",
    "array2 = array1.reshape(2, 5)\n",
    "print('array2 : \\n', array2)\n",
    "\n",
    "array3 = array1.reshape(5, 2)\n",
    "print('array3 : \\n', array3)"
   ]
  },
  {
   "cell_type": "code",
   "execution_count": 13,
   "id": "f8ec7555-c6af-4c08-adc6-2ec8f77e8413",
   "metadata": {},
   "outputs": [
    {
     "ename": "ValueError",
     "evalue": "cannot reshape array of size 10 into shape (4,3)",
     "output_type": "error",
     "traceback": [
      "\u001b[1;31m---------------------------------------------------------------------------\u001b[0m",
      "\u001b[1;31mValueError\u001b[0m                                Traceback (most recent call last)",
      "Input \u001b[1;32mIn [13]\u001b[0m, in \u001b[0;36m<cell line: 2>\u001b[1;34m()\u001b[0m\n\u001b[0;32m      1\u001b[0m \u001b[38;5;66;03m# 에러 발생\u001b[39;00m\n\u001b[1;32m----> 2\u001b[0m \u001b[43marray1\u001b[49m\u001b[38;5;241;43m.\u001b[39;49m\u001b[43mreshape\u001b[49m\u001b[43m(\u001b[49m\u001b[38;5;241;43m4\u001b[39;49m\u001b[43m,\u001b[49m\u001b[43m \u001b[49m\u001b[38;5;241;43m3\u001b[39;49m\u001b[43m)\u001b[49m\n",
      "\u001b[1;31mValueError\u001b[0m: cannot reshape array of size 10 into shape (4,3)"
     ]
    }
   ],
   "source": [
    "# 에러 발생\n",
    "array1.reshape(4, 3)"
   ]
  },
  {
   "cell_type": "code",
   "execution_count": 14,
   "id": "580cfc93-c799-400e-9ebf-84038e749ae5",
   "metadata": {},
   "outputs": [
    {
     "name": "stdout",
     "output_type": "stream",
     "text": [
      "[0 1 2 3 4 5 6 7 8 9]\n",
      "array2 shape : (2, 5)\n",
      "array3 shape : (5, 2)\n"
     ]
    }
   ],
   "source": [
    "array1 = np.arange(10)\n",
    "print(array1)\n",
    "\n",
    "array2 = array1.reshape(-1, 5)\n",
    "print('array2 shape :', array2.shape)\n",
    "\n",
    "array3 = array1.reshape(5, -1)\n",
    "print('array3 shape :', array3.shape)"
   ]
  },
  {
   "cell_type": "code",
   "execution_count": 15,
   "id": "22fda687-5832-4d6c-825f-540f7cf9cc39",
   "metadata": {},
   "outputs": [
    {
     "ename": "ValueError",
     "evalue": "cannot reshape array of size 10 into shape (4)",
     "output_type": "error",
     "traceback": [
      "\u001b[1;31m---------------------------------------------------------------------------\u001b[0m",
      "\u001b[1;31mValueError\u001b[0m                                Traceback (most recent call last)",
      "Input \u001b[1;32mIn [15]\u001b[0m, in \u001b[0;36m<cell line: 3>\u001b[1;34m()\u001b[0m\n\u001b[0;32m      1\u001b[0m \u001b[38;5;66;03m# 에러 발생\u001b[39;00m\n\u001b[0;32m      2\u001b[0m array1 \u001b[38;5;241m=\u001b[39m np\u001b[38;5;241m.\u001b[39marange(\u001b[38;5;241m10\u001b[39m)\n\u001b[1;32m----> 3\u001b[0m array4 \u001b[38;5;241m=\u001b[39m \u001b[43marray1\u001b[49m\u001b[38;5;241;43m.\u001b[39;49m\u001b[43mreshape\u001b[49m\u001b[43m(\u001b[49m\u001b[38;5;241;43m-\u001b[39;49m\u001b[38;5;241;43m1\u001b[39;49m\u001b[43m,\u001b[49m\u001b[43m \u001b[49m\u001b[38;5;241;43m4\u001b[39;49m\u001b[43m)\u001b[49m\n",
      "\u001b[1;31mValueError\u001b[0m: cannot reshape array of size 10 into shape (4)"
     ]
    }
   ],
   "source": [
    "# 에러 발생\n",
    "array1 = np.arange(10)\n",
    "array4 = array1.reshape(-1, 4)"
   ]
  },
  {
   "cell_type": "code",
   "execution_count": 16,
   "id": "c4a37f2c-b9dc-4deb-8b9f-c34421da2302",
   "metadata": {},
   "outputs": [
    {
     "name": "stdout",
     "output_type": "stream",
     "text": [
      "array3d:\n",
      " [[[0, 1], [2, 3]], [[4, 5], [6, 7]]]\n",
      "array5:\n",
      " [[0], [1], [2], [3], [4], [5], [6], [7]]\n",
      "array5 shape: (8, 1)\n",
      "array6:\n",
      " [[0], [1], [2], [3], [4], [5], [6], [7]]\n",
      "array6 shape: (8, 1)\n"
     ]
    }
   ],
   "source": [
    "array1 = np.arange(8)\n",
    "array3d = array1.reshape((2, 2, 2))\n",
    "print('array3d:\\n', array3d.tolist())\n",
    "\n",
    "# 3차원 ndarray를 2차원 ndarray로 변환\n",
    "array5 = array3d.reshape(-1, 1)\n",
    "print('array5:\\n', array5.tolist())\n",
    "print('array5 shape:', array5.shape)\n",
    "\n",
    "# 1차원 ndarray를 2차원 ndarray로 변환\n",
    "array6 = array1.reshape(-1, 1)\n",
    "print('array6:\\n', array6.tolist())\n",
    "print('array6 shape:', array6.shape)"
   ]
  },
  {
   "cell_type": "code",
   "execution_count": 17,
   "id": "bba002d9-4d9c-4db1-961d-c981fbc9b8da",
   "metadata": {},
   "outputs": [
    {
     "name": "stdout",
     "output_type": "stream",
     "text": [
      "array1: [1 2 3 4 5 6 7 8 9]\n",
      "value: 3\n",
      "<class 'numpy.int32'>\n"
     ]
    }
   ],
   "source": [
    "# 1부터 9까지의 1차원 ndarray 생성\n",
    "array1 = np.arange(start = 1, stop = 10)\n",
    "print('array1:', array1)\n",
    "\n",
    "# index는 0부터 시작하므로 array1[2]는 3번째 index 위치의 데이터값 의미\n",
    "value = array1[2]\n",
    "print('value:', value)\n",
    "print(type(value))"
   ]
  },
  {
   "cell_type": "code",
   "execution_count": 18,
   "id": "f407248c-3951-4042-b453-ea24e102abf6",
   "metadata": {},
   "outputs": [
    {
     "name": "stdout",
     "output_type": "stream",
     "text": [
      "맨 뒤의 값: 9 맨 뒤에서 두번째 값: 8\n"
     ]
    }
   ],
   "source": [
    "print('맨 뒤의 값:', array1[-1], '맨 뒤에서 두번째 값:', array1[-2])"
   ]
  },
  {
   "cell_type": "code",
   "execution_count": 19,
   "id": "ae158e11-a4a0-4f6b-8854-156f100c214f",
   "metadata": {},
   "outputs": [
    {
     "name": "stdout",
     "output_type": "stream",
     "text": [
      "array1: [9 2 3 4 5 6 7 8 0]\n"
     ]
    }
   ],
   "source": [
    "array1[0] = 9\n",
    "array1[8] = 0\n",
    "print('array1:', array1)"
   ]
  },
  {
   "cell_type": "code",
   "execution_count": 23,
   "id": "adfa9994-1c6c-4476-8129-42f8460080e7",
   "metadata": {},
   "outputs": [
    {
     "name": "stdout",
     "output_type": "stream",
     "text": [
      "[[1 2 3]\n",
      " [4 5 6]\n",
      " [7 8 9]]\n",
      "(row=0, col=0) index 가리키는 값: 1\n",
      "(row=0, col=1) index 가리키는 값: 2\n",
      "(row=1, col=0) index 가리키는 값: 4\n",
      "(row=2, col=2) index 가리키는 값: 9\n"
     ]
    }
   ],
   "source": [
    "array1d = np.arange(start = 1, stop = 10)\n",
    "array2d = array1d.reshape(3, 3)\n",
    "print(array2d)\n",
    "\n",
    "print('(row=0, col=0) index 가리키는 값:', array2d[0, 0])\n",
    "print('(row=0, col=1) index 가리키는 값:', array2d[0, 1])\n",
    "print('(row=1, col=0) index 가리키는 값:', array2d[1, 0])\n",
    "print('(row=2, col=2) index 가리키는 값:', array2d[2, 2])"
   ]
  },
  {
   "cell_type": "code",
   "execution_count": 24,
   "id": "21b3f204-e81e-4a3c-82f3-0719f41c628d",
   "metadata": {},
   "outputs": [
    {
     "name": "stdout",
     "output_type": "stream",
     "text": [
      "[1 2 3]\n",
      "<class 'numpy.ndarray'>\n"
     ]
    }
   ],
   "source": [
    "array1 = np.arange(start = 1, stop = 10)\n",
    "array3 = array1[0:3]\n",
    "print(array3)\n",
    "print(type(array3))"
   ]
  },
  {
   "cell_type": "code",
   "execution_count": 26,
   "id": "d61e0e50-c812-476a-9ade-9db817aec2bc",
   "metadata": {},
   "outputs": [
    {
     "name": "stdout",
     "output_type": "stream",
     "text": [
      "[1 2 3]\n",
      "[4 5 6 7 8 9]\n",
      "[1 2 3 4 5 6 7 8 9]\n"
     ]
    }
   ],
   "source": [
    "array1 = np.arange(start = 1, stop = 10)\n",
    "array4 = array1[:3]\n",
    "print(array4)\n",
    "\n",
    "array5 = array1[3:]\n",
    "print(array5)\n",
    "\n",
    "array6 = array1[:]\n",
    "print(array6)"
   ]
  },
  {
   "cell_type": "code",
   "execution_count": 34,
   "id": "f5cec105-0a9a-4721-9bf1-fc6a6e0bca96",
   "metadata": {},
   "outputs": [
    {
     "name": "stdout",
     "output_type": "stream",
     "text": [
      "array2d:\n",
      " [[1 2 3]\n",
      " [4 5 6]\n",
      " [7 8 9]]\n",
      "array2d[0:2, 0:2] \n",
      " [[1 2]\n",
      " [4 5]]\n",
      "array2d[1:3, 0:3] \n",
      " [[4 5 6]\n",
      " [7 8 9]]\n",
      "array2d[1:3, :] \n",
      " [[4 5 6]\n",
      " [7 8 9]]\n",
      "array2d[:, :] \n",
      " [[1 2 3]\n",
      " [4 5 6]\n",
      " [7 8 9]]\n",
      "array2d[:2, 1:] \n",
      " [[2 3]\n",
      " [5 6]]\n",
      "array2d[:2, 0] \n",
      " [1 4]\n"
     ]
    }
   ],
   "source": [
    "array1d = np.arange(start = 1, stop = 10)\n",
    "array2d = array1d.reshape(3, 3)\n",
    "print('array2d:\\n', array2d)\n",
    "\n",
    "print('array2d[0:2, 0:2] \\n', array2d[0:2, 0:2])\n",
    "print('array2d[1:3, 0:3] \\n', array2d[1:3, 0:3])\n",
    "print('array2d[1:3, :] \\n', array2d[1:3, :])\n",
    "print('array2d[:, :] \\n', array2d[:, :])\n",
    "print('array2d[:2, 1:] \\n', array2d[:2, 1:])\n",
    "print('array2d[:2, 0] \\n', array2d[:2, 0])"
   ]
  },
  {
   "cell_type": "code",
   "execution_count": 40,
   "id": "9aeddc3b-ca6b-49df-b7ba-febd0b8f4fe5",
   "metadata": {},
   "outputs": [
    {
     "name": "stdout",
     "output_type": "stream",
     "text": [
      "[1 2 3]\n",
      "[4 5 6]\n",
      "array2d[0] shape: (3,) array2d[1] shape: (3,)\n"
     ]
    }
   ],
   "source": [
    "print(array2d[0])\n",
    "print(array2d[1])\n",
    "print('array2d[0] shape:', array2d[0].shape, 'array2d[1] shape:', array2d[1].shape)"
   ]
  },
  {
   "cell_type": "code",
   "execution_count": 42,
   "id": "4d685fa8-bf56-4b14-ad22-31eda08220db",
   "metadata": {},
   "outputs": [
    {
     "name": "stdout",
     "output_type": "stream",
     "text": [
      "array2d[[0, 1], 2] =>  [2, 7]\n",
      "array2d[[0, 1], 0:2] =>  [[0, 1], [5, 6]]\n",
      "array2d[[0, 1]] =>  [[0, 1, 2, 3, 4], [5, 6, 7, 8, 9]]\n"
     ]
    }
   ],
   "source": [
    "array1d = np.arange(start = 1, stop = 10)\n",
    "array2d = array1d.reshape(3, 3)\n",
    "\n",
    "array3 = array2[[0, 1], 2]\n",
    "print('array2d[[0, 1], 2] => ', array3.tolist())\n",
    "array4 = array2[[0, 1], 0:2]\n",
    "print('array2d[[0, 1], 0:2] => ', array4.tolist())\n",
    "array5 = array2[[0, 1]]\n",
    "print('array2d[[0, 1]] => ', array5.tolist())"
   ]
  },
  {
   "cell_type": "code",
   "execution_count": 43,
   "id": "3b8082cf-05f6-49a5-9475-e992e66795a1",
   "metadata": {},
   "outputs": [
    {
     "name": "stdout",
     "output_type": "stream",
     "text": [
      "array1d > 5 불린 인덱싱 결과 값 : [6 7 8 9]\n"
     ]
    }
   ],
   "source": [
    "array1d = np.arange(start = 1, stop = 10)\n",
    "# []안에 array1d > 5 Boolean indexing 적용\n",
    "array3 = array1d[array1d > 5]\n",
    "print('array1d > 5 불린 인덱싱 결과 값 :', array3)"
   ]
  },
  {
   "cell_type": "code",
   "execution_count": 44,
   "id": "6dfb10be-e88a-4743-aa63-36e5665c5a14",
   "metadata": {},
   "outputs": [
    {
     "data": {
      "text/plain": [
       "array([False, False, False, False, False,  True,  True,  True,  True])"
      ]
     },
     "execution_count": 44,
     "metadata": {},
     "output_type": "execute_result"
    }
   ],
   "source": [
    "array1d > 5"
   ]
  },
  {
   "cell_type": "code",
   "execution_count": 46,
   "id": "aa23f052-6dcf-412a-b0c6-e27c44cf5cd2",
   "metadata": {},
   "outputs": [
    {
     "name": "stdout",
     "output_type": "stream",
     "text": [
      "불린 인덱스로 필터링 결과: [6 7 8 9]\n"
     ]
    }
   ],
   "source": [
    "boolean_indexes = np.array([False, False, False, False, False,  True,  True,  True,  True])\n",
    "array3 = array1d[boolean_indexes]\n",
    "print('불린 인덱스로 필터링 결과:', array3)"
   ]
  },
  {
   "cell_type": "code",
   "execution_count": 49,
   "id": "5eef0fda-90bc-4836-93ae-9dd4baa7226a",
   "metadata": {},
   "outputs": [
    {
     "name": "stdout",
     "output_type": "stream",
     "text": [
      "일반 인덱스로 필터링 결과 : [6 7 8 9]\n"
     ]
    }
   ],
   "source": [
    "indexes = np.array([5, 6, 7, 8])\n",
    "array4 = array1d[indexes]\n",
    "print('일반 인덱스로 필터링 결과 :', array4)"
   ]
  },
  {
   "cell_type": "code",
   "execution_count": 53,
   "id": "d7f7e00f-c555-4da6-9109-ea718e435303",
   "metadata": {},
   "outputs": [
    {
     "name": "stdout",
     "output_type": "stream",
     "text": [
      "원본 행렬: [3 1 9 5]\n",
      "np.sort() 호출 후 반환된 정렬 행렬: [1 3 5 9]\n",
      "np.sort() 호출 후 원본 행렬: [3 1 9 5]\n",
      "org_array.sort() 호출 후 반환된 행렬: None\n",
      "org_array.sort() 호출 후 원본 행렬: [1 3 5 9]\n"
     ]
    }
   ],
   "source": [
    "org_array = np.array([3, 1, 9, 5])\n",
    "print('원본 행렬:', org_array)\n",
    "\n",
    "# np.sort()로 정렬\n",
    "sort_array1 = np.sort(org_array)\n",
    "print('np.sort() 호출 후 반환된 정렬 행렬:', sort_array1)\n",
    "print('np.sort() 호출 후 원본 행렬:', org_array)\n",
    "\n",
    "# ndarray.sort()로 정렬\n",
    "sort_array2 = org_array.sort()\n",
    "print('org_array.sort() 호출 후 반환된 행렬:', sort_array2)\n",
    "print('org_array.sort() 호출 후 원본 행렬:', org_array)"
   ]
  },
  {
   "cell_type": "code",
   "execution_count": 54,
   "id": "a8aa32b4-cef5-4101-993f-8b0741248182",
   "metadata": {},
   "outputs": [
    {
     "name": "stdout",
     "output_type": "stream",
     "text": [
      "내림차순으로 정렬: [9 5 3 1]\n"
     ]
    }
   ],
   "source": [
    "sort_array1_desc = np.sort(org_array)[::-1]\n",
    "print('내림차순으로 정렬:', sort_array1_desc)"
   ]
  },
  {
   "cell_type": "code",
   "execution_count": 55,
   "id": "4a9d27dc-dd71-440c-a473-0350adef4176",
   "metadata": {},
   "outputs": [
    {
     "name": "stdout",
     "output_type": "stream",
     "text": [
      "로우 방향으로 정렬:\n",
      " [[ 7  1]\n",
      " [ 8 12]]\n",
      "칼럼 방향으로 정렬:\n",
      " [[ 8 12]\n",
      " [ 1  7]]\n"
     ]
    }
   ],
   "source": [
    "array2d = np.array([[8, 12],\n",
    "                    [7, 1]])\n",
    "sort_array2d_axis0 = np.sort(array2d, axis = 0)\n",
    "print('로우 방향으로 정렬:\\n', sort_array2d_axis0)\n",
    "\n",
    "sort_array2d_axis1 = np.sort(array2d, axis = 1)\n",
    "print('칼럼 방향으로 정렬:\\n', sort_array2d_axis1)"
   ]
  },
  {
   "cell_type": "code",
   "execution_count": 56,
   "id": "e17f6c65-85ec-47a8-8759-8ec728399842",
   "metadata": {},
   "outputs": [
    {
     "name": "stdout",
     "output_type": "stream",
     "text": [
      "<class 'numpy.ndarray'>\n",
      "행렬 정렬 시 원본 행렬의 인덱스: [1 0 3 2]\n"
     ]
    }
   ],
   "source": [
    "org_array = np.array([3, 1, 9, 5])\n",
    "sort_indices = np.argsort(org_array)\n",
    "print(type(sort_indices))\n",
    "print('행렬 정렬 시 원본 행렬의 인덱스:', sort_indices)"
   ]
  },
  {
   "cell_type": "code",
   "execution_count": 57,
   "id": "fe960078-c093-43a6-be9a-eb3cfd07d4b6",
   "metadata": {},
   "outputs": [
    {
     "name": "stdout",
     "output_type": "stream",
     "text": [
      "행렬 내림차순 정렬 시 원본 행렬의 인덱스: [2 3 0 1]\n"
     ]
    }
   ],
   "source": [
    "org_array = np.array([3, 1, 9, 5])\n",
    "sort_indices_desc = np.argsort(org_array)[::-1]\n",
    "print('행렬 내림차순 정렬 시 원본 행렬의 인덱스:', sort_indices_desc)"
   ]
  },
  {
   "cell_type": "code",
   "execution_count": 58,
   "id": "b2aba190-acdd-4f42-8230-2cf4df5105e9",
   "metadata": {},
   "outputs": [
    {
     "name": "stdout",
     "output_type": "stream",
     "text": [
      "성적 오름차순 정렬 시 score_array의 인덱스: [0 2 4 1 3]\n",
      "성적 오름차순으로 name_array의 이름 출력: ['John' 'Sarah' 'Samuel' 'Mike' 'Kate']\n"
     ]
    }
   ],
   "source": [
    "import numpy as np\n",
    "\n",
    "name_array = np.array(['John', 'Mike', 'Sarah', 'Kate', 'Samuel'])\n",
    "score_array = np.array([78, 95, 84, 98, 88])\n",
    "\n",
    "sort_indices_asc = np.argsort(score_array)\n",
    "print('성적 오름차순 정렬 시 score_array의 인덱스:', sort_indices_asc)\n",
    "print('성적 오름차순으로 name_array의 이름 출력:', name_array[sort_indices_asc])"
   ]
  },
  {
   "cell_type": "code",
   "execution_count": 59,
   "id": "3ad5d39b-0ab5-42b3-a607-d055268a5b4d",
   "metadata": {},
   "outputs": [],
   "source": [
    "A = np.array([[1, 2, 3],\n",
    "              [4, 5, 6]])\n",
    "B = np.array([[7, 8],\n",
    "              [9, 10],\n",
    "              [11, 12]])"
   ]
  },
  {
   "cell_type": "code",
   "execution_count": 60,
   "id": "72a6a0e5-367c-47f0-aa37-c38415efc683",
   "metadata": {},
   "outputs": [
    {
     "name": "stdout",
     "output_type": "stream",
     "text": [
      "행렬 내적 결과:\n",
      " [[ 58  64]\n",
      " [139 154]]\n"
     ]
    }
   ],
   "source": [
    "dot_product = np.dot(A, B)\n",
    "print('행렬 내적 결과:\\n', dot_product)"
   ]
  },
  {
   "cell_type": "code",
   "execution_count": 61,
   "id": "96fa6a10-7ec9-4d34-bf6b-f5a5638e3bd7",
   "metadata": {},
   "outputs": [
    {
     "name": "stdout",
     "output_type": "stream",
     "text": [
      "A의 전치 행렬:\n",
      " [[1 3]\n",
      " [2 4]]\n"
     ]
    }
   ],
   "source": [
    "A = np.array([[1, 2],\n",
    "              [3, 4]])\n",
    "transpose_mat = np.transpose(A)\n",
    "print('A의 전치 행렬:\\n', transpose_mat)"
   ]
  }
 ],
 "metadata": {
  "kernelspec": {
   "display_name": "Python 3 (ipykernel)",
   "language": "python",
   "name": "python3"
  },
  "language_info": {
   "codemirror_mode": {
    "name": "ipython",
    "version": 3
   },
   "file_extension": ".py",
   "mimetype": "text/x-python",
   "name": "python",
   "nbconvert_exporter": "python",
   "pygments_lexer": "ipython3",
   "version": "3.9.12"
  }
 },
 "nbformat": 4,
 "nbformat_minor": 5
}
