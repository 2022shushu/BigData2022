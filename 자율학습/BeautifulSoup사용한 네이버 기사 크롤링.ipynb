{
 "cells": [
  {
   "cell_type": "code",
   "execution_count": 14,
   "id": "a32215d9-8ea9-4ffe-a4d2-3349f56ea4f2",
   "metadata": {},
   "outputs": [],
   "source": [
    "from bs4 import BeautifulSoup\n",
    "import requests"
   ]
  },
  {
   "cell_type": "code",
   "execution_count": 16,
   "id": "c0956e00-0686-4984-97fd-37b4053a88e1",
   "metadata": {},
   "outputs": [
    {
     "name": "stdin",
     "output_type": "stream",
     "text": [
      "궁금한 단어를 입력하세요 :  NCT\n",
      "크롤링하고 싶은 페이지를 입력하세요 :  2\n"
     ]
    },
    {
     "name": "stdout",
     "output_type": "stream",
     "text": [
      "페이지 :  2\n"
     ]
    }
   ],
   "source": [
    "# 검색어 입력\n",
    "search = input(\"궁금한 단어를 입력하세요 : \")\n",
    "\n",
    "# 검색 페이지 입력\n",
    "page = int(input(\"크롤링하고 싶은 페이지를 입력하세요 : \"))\n",
    "print(\"페이지 : \", page)"
   ]
  },
  {
   "cell_type": "code",
   "execution_count": 17,
   "id": "fbe095be-4000-47f3-ab94-934f72182525",
   "metadata": {},
   "outputs": [],
   "source": [
    "# 페이지 링크 만드는 함수\n",
    "page_num = 0\n",
    "\n",
    "if page == 1 :\n",
    "    page_num = 1\n",
    "elif page == 0 :\n",
    "    page_num = 1\n",
    "else :\n",
    "    page_num = page + 9*(page-1)"
   ]
  },
  {
   "cell_type": "code",
   "execution_count": 18,
   "id": "b1812f56-0fc0-4a91-933e-bc274472a672",
   "metadata": {},
   "outputs": [
    {
     "name": "stdout",
     "output_type": "stream",
     "text": [
      "생성url :  https://search.naver.com/search.naver?where=news&sm=tab_pge&query=NCT&start=11\n"
     ]
    }
   ],
   "source": [
    "# url 생성\n",
    "url = \"https://search.naver.com/search.naver?where=news&sm=tab_pge&query=\" + search + \"&start=\" + str(page_num)\n",
    "print(\"생성url : \", url)"
   ]
  },
  {
   "cell_type": "code",
   "execution_count": 19,
   "id": "b32b6ff9-7f2e-4ebd-858e-f2a209f24b68",
   "metadata": {},
   "outputs": [],
   "source": [
    "# ConnectionError 방지\n",
    "headers = { \"User-Agent\": \"Mozilla/5.0 (Windows NT 10.0; Win64; x64) Chrome/100.0.48496.75\" }\n",
    "\n",
    "# html 불러오기\n",
    "original_html = requests.get(url, headers = headers)\n",
    "html = BeautifulSoup(original_html.text, \"html.parser\")"
   ]
  },
  {
   "cell_type": "code",
   "execution_count": 20,
   "id": "089d216e-5fd8-4884-9f6e-358f91204ec5",
   "metadata": {},
   "outputs": [
    {
     "name": "stdout",
     "output_type": "stream",
     "text": [
      "[<a class=\"news_tit\" href=\"http://www.joynews24.com/view/1499300\" onclick=\"return goOtherCR(this, 'a=nws*b.tit&amp;r=1&amp;i=8818b64c_000000000000000000140785&amp;g=5712.0000140785&amp;u='+urlencode(this.href));\" target=\"_blank\" title=\"'SM타운 LIVE', 동방신기→NCT·에스파 총출동…8월20일 개최\">'SM타운 LIVE', 동방신기→<mark>NCT</mark>·에스파 총출동…8월20일 개최</a>, <a class=\"news_tit\" href=\"http://star.mk.co.kr/new/view.php?mc=ST&amp;year=2022&amp;no=627034\" onclick=\"return goOtherCR(this, 'a=nws*a.tit&amp;r=6&amp;i=880000BC_000000000000000004992262&amp;g=009.0004992262&amp;u='+urlencode(this.href));\" target=\"_blank\" title=\"방탄소년단 지민, 7월 보이그룹 개인 브랜드평판 1위\">방탄소년단 지민, 7월 보이그룹 개인 브랜드평판 1위</a>, <a class=\"news_tit\" href=\"http://star.mt.co.kr/stview.php?no=2022071410490331781\" onclick=\"return goOtherCR(this, 'a=nws*a.tit&amp;r=8&amp;i=880000C3_000000000000000003070614&amp;g=108.0003070614&amp;u='+urlencode(this.href));\" target=\"_blank\" title=\"NCT 재현, 파격 복근 공개→김태리 올블랙 카리스마 [화보]\"><mark>NCT</mark> 재현, 파격 복근 공개→김태리 올블랙 카리스마 [화보]</a>, <a class=\"news_tit\" href=\"http://sports.khan.co.kr/news/sk_index.html?art_id=202207141135003&amp;sec_id=540301&amp;pt=nv\" onclick=\"return goOtherCR(this, 'a=nws*a.tit&amp;r=12&amp;i=8800006D_000000000000000000825483&amp;g=144.0000825483&amp;u='+urlencode(this.href));\" target=\"_blank\" title=\"BTS→NCT 드림, 뮤빗 ‘상반기 아이돌 대전’ 예고\">BTS→<mark>NCT</mark> 드림, 뮤빗 ‘상반기 아이돌 대전’ 예고</a>, <a class=\"news_tit\" href=\"https://news.jtbc.joins.com/article/article.aspx?news_id=NB12066351\" onclick=\"return goOtherCR(this, 'a=nws*a.tit&amp;r=14&amp;i=08138260_000000000000000000305673&amp;g=437.0000305673&amp;u='+urlencode(this.href));\" target=\"_blank\" title=\"NCT 도영 주연 '나를 사랑하지 않는 X에게' 첫 공개\"><mark>NCT</mark> 도영 주연 '나를 사랑하지 않는 X에게' 첫 공개</a>, <a class=\"news_tit\" href=\"https://star.ytn.co.kr/_sn/0117_202207121443080789\" onclick=\"return goOtherCR(this, 'a=nws*a.tit&amp;r=19&amp;i=880000AF_000000000000000001763023&amp;g=052.0001763023&amp;u='+urlencode(this.href));\" target=\"_blank\" title=\"NCT DREAM→르세라핌 등 '서울페스타 2022' 개막 공연 참여\"><mark>NCT</mark> DREAM→르세라핌 등 '서울페스타 2022' 개막 공연 참여</a>, <a class=\"news_tit\" href=\"http://www.fnnews.com/news/202207080946247794\" onclick=\"return goOtherCR(this, 'a=nws*a.tit&amp;r=21&amp;i=880000FF_000000000000000004864248&amp;g=014.0004864248&amp;u='+urlencode(this.href));\" target=\"_blank\" title=\"이랜드 스파오, NCT 성찬 모델 발탁\">이랜드 스파오, <mark>NCT</mark> 성찬 모델 발탁</a>, <a class=\"news_tit\" href=\"http://www.etnews.com/20220711000202\" onclick=\"return goOtherCR(this, 'a=nws*e.tit&amp;r=26&amp;i=880000EA_000000000000000003029536&amp;g=030.0003029536&amp;u='+urlencode(this.href));\" target=\"_blank\" title=\"엔하이픈·NCT DREAM, 7월2주 한터차트 정상\">엔하이픈·<mark>NCT</mark> DREAM, 7월2주 한터차트 정상</a>, <a class=\"news_tit\" href=\"http://www.fnnews.com/news/202207051422486112\" onclick=\"return goOtherCR(this, 'a=nws*a.tit&amp;r=27&amp;i=880000FF_000000000000000004862528&amp;g=014.0004862528&amp;u='+urlencode(this.href));\" target=\"_blank\" title=\"롯데시네마, NCT x 산리오 캐릭터 포토카드 출시\">롯데시네마, <mark>NCT</mark> x 산리오 캐릭터 포토카드 출시</a>, <a class=\"news_tit\" href=\"http://www.consumuch.com/news/articleView.html?idxno=55875\" onclick=\"return goOtherCR(this, 'a=nws*b.tit&amp;r=30&amp;i=8819angx_000000000000000000006785&amp;g=5777.0000006785&amp;u='+urlencode(this.href));\" target=\"_blank\" title=\"이랜드 스파오, NCT '성찬' 모델 발탁\">이랜드 스파오, <mark>NCT</mark> '성찬' 모델 발탁</a>]\n",
      "10 개의 기사가 검색되었네요.\n"
     ]
    }
   ],
   "source": [
    "# 검색결과\n",
    "articles = html.select(\"div.group_news > ul.list_news > li div.news_area > a\")\n",
    "print(articles)\n",
    "# 검색된 기사 갯수\n",
    "print(len(articles),\"개의 기사가 검색되었네요.\")"
   ]
  },
  {
   "cell_type": "code",
   "execution_count": 21,
   "id": "6366a104-ba55-4de4-9fbe-def26bd6f567",
   "metadata": {},
   "outputs": [
    {
     "data": {
      "text/plain": [
       "[\"'SM타운 LIVE', 동방신기→NCT·에스파 총출동…8월20일 개최\",\n",
       " '방탄소년단 지민, 7월 보이그룹 개인 브랜드평판 1위',\n",
       " 'NCT 재현, 파격 복근 공개→김태리 올블랙 카리스마 [화보]',\n",
       " 'BTS→NCT 드림, 뮤빗 ‘상반기 아이돌 대전’ 예고',\n",
       " \"NCT 도영 주연 '나를 사랑하지 않는 X에게' 첫 공개\",\n",
       " \"NCT DREAM→르세라핌 등 '서울페스타 2022' 개막 공연 참여\",\n",
       " '이랜드 스파오, NCT 성찬 모델 발탁',\n",
       " '엔하이픈·NCT DREAM, 7월2주 한터차트 정상',\n",
       " '롯데시네마, NCT x 산리오 캐릭터 포토카드 출시',\n",
       " \"이랜드 스파오, NCT '성찬' 모델 발탁\"]"
      ]
     },
     "execution_count": 21,
     "metadata": {},
     "output_type": "execute_result"
    }
   ],
   "source": [
    "# 제목 가져오기\n",
    "news_title = []\n",
    "for i in articles :\n",
    "    news_title.append(i.attrs['title'])\n",
    "news_title"
   ]
  },
  {
   "cell_type": "code",
   "execution_count": 22,
   "id": "34097a43-3f41-4ec9-ad6c-0d56c586ed73",
   "metadata": {},
   "outputs": [
    {
     "data": {
      "text/plain": [
       "['http://www.joynews24.com/view/1499300',\n",
       " 'http://star.mk.co.kr/new/view.php?mc=ST&year=2022&no=627034',\n",
       " 'http://star.mt.co.kr/stview.php?no=2022071410490331781',\n",
       " 'http://sports.khan.co.kr/news/sk_index.html?art_id=202207141135003&sec_id=540301&pt=nv',\n",
       " 'https://news.jtbc.joins.com/article/article.aspx?news_id=NB12066351',\n",
       " 'https://star.ytn.co.kr/_sn/0117_202207121443080789',\n",
       " 'http://www.fnnews.com/news/202207080946247794',\n",
       " 'http://www.etnews.com/20220711000202',\n",
       " 'http://www.fnnews.com/news/202207051422486112',\n",
       " 'http://www.consumuch.com/news/articleView.html?idxno=55875']"
      ]
     },
     "execution_count": 22,
     "metadata": {},
     "output_type": "execute_result"
    }
   ],
   "source": [
    "# URL 가져오기\n",
    "news_url = []\n",
    "for i in articles :\n",
    "    news_url.append(i.attrs['href'])\n",
    "news_url"
   ]
  },
  {
   "cell_type": "code",
   "execution_count": 23,
   "id": "bbd4d18e-5391-493d-9cb4-3d3a5ad93729",
   "metadata": {},
   "outputs": [
    {
     "data": {
      "text/plain": [
       "[[<p>[조이뉴스24 이미영 기자] 소녀시대와 슈퍼주니어, 엑소, NCT, 에스파 등이 'SMTOWN LIVE' 콘서트 무대에 총출동 한다.</p>,\n",
       "  <p>12일 'SMTOWN LIVE'의 아티스트 라인업이 SMTOWN 공식 SNS 계정을 통해 공개됐다.</p>,\n",
       "  <p>'SMTOWN LIVE 2022 : SMCU EXPRESS @HUMAN CITY_SUWON'(에스엠타운 라이브 2022 : 에스엠씨유 익스프레스 @휴먼 시티_수원)은 8월 20일 오후 6시 수원 월드컵경기장에서 개최되며, 2017년 이후 약 5년 만에 국내에서 펼쳐지는 'SMTOWN LIVE' 공연인 만큼 높은 관심을 얻고 있다.</p>,\n",
       "  <p></p>,\n",
       "  <p>이번 콘서트는 강타, 보아, 동방신기, 슈퍼주니어, 소녀시대, 태연, 효연, 샤이니 키, 민호, 엑소 수호, 시우민, 첸, 디오, 카이, 레드벨벳, NCT, 에스파, GOT the beat, 레이든, 긴조, 임레이 등 SM 소속 아티스트들이 출연, 다채로운 무대를 선사할 예정이다.</p>,\n",
       "  <p>또한 이번 콘서트의 티켓 예매는 인터넷 예매 사이트 예스24에서 가능하며, 7월 26일 오후 8시에는 팬클럽 선예매가, 7월 28일 오후 8시에는 일반 예매가 진행된다.</p>,\n",
       "  <p>더불어 전 세계 팬들을 위해 글로벌 플랫폼 Beyond LIVE와 일본 KNTV를 통해 공연 실황이 동시 생중계되며, Beyond LIVE 온라인 관람권은 8월 2일 오후 3시부터 Beyond LIVE 및 SMTOWN &amp;STORE 홈페이지에서 구매할 수 있다.</p>,\n",
       "  <p>SM엔터테인먼트의 글로벌 공연 브랜드 'SMTOWN LIVE'는 2008년부터 서울, 뉴욕, LA, 파리, 두바이, 칠레, 도쿄, 베이징, 상하이, 방콕, 싱가포르 등 전 세계 주요 도시에서 성황리에 개최된 바 있다. '한국 단일 브랜드 공연 최초 프랑스 파리 공연', '아시아 가수 최초 뉴욕 매디슨 스퀘어 가든 공연', '해외 가수 최초 중국 베이징올림픽주경기장 공연', '두바이 최초 대규모 K팝 공연 개최' 등 매 공연마다 다양한 기록을 쓰며 화제를 모았다.</p>],\n",
       " [<p class=\"txt\"><a href=\"https://www.mk.co.kr/sitemap/\">¼­ºñ½º ÀüÃ¼º¸±â</a></p>,\n",
       "  <p class=\"btn\"><img alt=\"´õº¸±â ´Ý±â\" height=\"13\" onclick=\"toggleMoreDiv()\" src=\"//img.mk.co.kr/news/2013/main/bt_sns_close.gif\" style=\"cursor:pointer;\" width=\"12\"/>\n",
       "  </p>,\n",
       "  <p style=\"margin-top:25px\">\n",
       "  <!-- ±¤°í Ãâ·Â //-->\n",
       "  <table border=\"0\" cellpadding=\"0\" cellspacing=\"0\" style=\"margin-bottom: 30px;\" width=\"657\">\n",
       "  <tr>\n",
       "  <td width=\"300\">\n",
       "  <!--Google DFP-->\n",
       "  <div id=\"google_dfp_BL_301x250\"><script type=\"text/javascript\">if(typeof(googletag)!='undefined'){googletag.display('google_dfp_BL_301x250');}</script></div>\n",
       "  </td>\n",
       "  <td width=\"10\"></td>\n",
       "  <td width=\"300\">\n",
       "  <!--Google DFP-->\n",
       "  <div id=\"google_dfp_BC_302x250\"><script type=\"text/javascript\">if(typeof(googletag)!='undefined'){googletag.display('google_dfp_BC_302x250');}</script></div>\n",
       "  </td>\n",
       "  </tr>\n",
       "  </table>\n",
       "  <!-- ±¤°í Ãâ·Â e //-->\n",
       "  <!-- Begin Dable Áß´Ü_±³Â÷B5_Title / For inquiries, visit http://dable.io -->\n",
       "  <div data-widget_id=\"y74wndoV\" id=\"dablewidget_y74wndoV\">\n",
       "  <script>\n",
       "                              (function(d,a){d[a]=d[a]||function(){(d[a].q=d[a].q||[]).push(arguments)};}(window,'dable'));\n",
       "                              dable('renderWidget', 'dablewidget_y74wndoV');\n",
       "                          </script>\n",
       "  </div>\n",
       "  <!-- End Áß´Ü_±³Â÷B5_Title / For inquiries, visit http://dable.io -->\n",
       "  <p style=\"margin-top:25px\">\n",
       "  <!------------------ ´ñ±Û Ãâ·Â ---------------------------->\n",
       "  <table border=\"0\" cellpadding=\"0\" cellspacing=\"0\" style=\"margin-top:20px;\" width=\"657\">\n",
       "  <tr>\n",
       "  <td valign=\"top\" width=\"100%\">\n",
       "  <p style=\"margin-top:25px\">\n",
       "  <script src=\"//file.mk.co.kr/js/jquery-1.11.3.min.js\" type=\"text/javascript\"></script>\n",
       "  <script language=\"JavaScript\">\n",
       "  \t\t\t\t\t\tdocument.write(\"<iframe src=\\\"\\/\\/www.facebook.com\\/plugins\\/like.php?href=\"+document.URL+\"&amp;send=false&amp;layout=standard&amp;width=510&amp;show_faces=true&amp;action=like&amp;colorscheme=light&amp;font&amp;height=68\\\" scrolling=\\\"no\\\" frameborder=\\\"0\\\" style=\\\"border:none; overflow:hidden; width:510px; height:68px\\\" allowTransparency=\\\"true\\\"><\\/iframe>\");\n",
       "  \t\t\t\t\t\t</script>\n",
       "  <script type=\"text/javascript\">\n",
       "  window.livereOptions = { \n",
       "  refer : 'star.mk.co.kr/v2/view.php?year=2022&no=627034',\n",
       "  site : 'https://www.mk.co.kr/star/hot-issues/view/2022/07/627034/'\n",
       "  };\n",
       "  </script>\n",
       "  <div data-id=\"mk\" data-uid=\"MjQvMzYvMjc=\" id=\"lv-container\">\n",
       "  <script type=\"text/javascript\">\n",
       "  (function(d, s) {\n",
       "  var j, e = d.getElementsByTagName(s)[0];\n",
       "  \n",
       "  if (typeof LivereTower === 'function') { return; }\n",
       "  \n",
       "  j = d.createElement(s);\n",
       "  j.src = 'https://cdn-city.livere.com/js/embed.dist.js';\n",
       "  j.async = false;\n",
       "  \n",
       "  e.parentNode.insertBefore(j, e);\n",
       "  })(document, 'script');\n",
       "  </script>\n",
       "  <noscript></noscript>\n",
       "  </div>\n",
       "  </p></td>\n",
       "  </tr>\n",
       "  </table>\n",
       "  <!------------------ ´ñ±Û Ãâ·Â ---------------------------->\n",
       "  </p></p>,\n",
       "  <p style=\"margin-top:25px\">\n",
       "  <!------------------ ´ñ±Û Ãâ·Â ---------------------------->\n",
       "  <table border=\"0\" cellpadding=\"0\" cellspacing=\"0\" style=\"margin-top:20px;\" width=\"657\">\n",
       "  <tr>\n",
       "  <td valign=\"top\" width=\"100%\">\n",
       "  <p style=\"margin-top:25px\">\n",
       "  <script src=\"//file.mk.co.kr/js/jquery-1.11.3.min.js\" type=\"text/javascript\"></script>\n",
       "  <script language=\"JavaScript\">\n",
       "  \t\t\t\t\t\tdocument.write(\"<iframe src=\\\"\\/\\/www.facebook.com\\/plugins\\/like.php?href=\"+document.URL+\"&amp;send=false&amp;layout=standard&amp;width=510&amp;show_faces=true&amp;action=like&amp;colorscheme=light&amp;font&amp;height=68\\\" scrolling=\\\"no\\\" frameborder=\\\"0\\\" style=\\\"border:none; overflow:hidden; width:510px; height:68px\\\" allowTransparency=\\\"true\\\"><\\/iframe>\");\n",
       "  \t\t\t\t\t\t</script>\n",
       "  <script type=\"text/javascript\">\n",
       "  window.livereOptions = { \n",
       "  refer : 'star.mk.co.kr/v2/view.php?year=2022&no=627034',\n",
       "  site : 'https://www.mk.co.kr/star/hot-issues/view/2022/07/627034/'\n",
       "  };\n",
       "  </script>\n",
       "  <div data-id=\"mk\" data-uid=\"MjQvMzYvMjc=\" id=\"lv-container\">\n",
       "  <script type=\"text/javascript\">\n",
       "  (function(d, s) {\n",
       "  var j, e = d.getElementsByTagName(s)[0];\n",
       "  \n",
       "  if (typeof LivereTower === 'function') { return; }\n",
       "  \n",
       "  j = d.createElement(s);\n",
       "  j.src = 'https://cdn-city.livere.com/js/embed.dist.js';\n",
       "  j.async = false;\n",
       "  \n",
       "  e.parentNode.insertBefore(j, e);\n",
       "  })(document, 'script');\n",
       "  </script>\n",
       "  <noscript></noscript>\n",
       "  </div>\n",
       "  </p></td>\n",
       "  </tr>\n",
       "  </table>\n",
       "  <!------------------ ´ñ±Û Ãâ·Â ---------------------------->\n",
       "  </p>,\n",
       "  <p style=\"margin-top:25px\">\n",
       "  <script src=\"//file.mk.co.kr/js/jquery-1.11.3.min.js\" type=\"text/javascript\"></script>\n",
       "  <script language=\"JavaScript\">\n",
       "  \t\t\t\t\t\tdocument.write(\"<iframe src=\\\"\\/\\/www.facebook.com\\/plugins\\/like.php?href=\"+document.URL+\"&amp;send=false&amp;layout=standard&amp;width=510&amp;show_faces=true&amp;action=like&amp;colorscheme=light&amp;font&amp;height=68\\\" scrolling=\\\"no\\\" frameborder=\\\"0\\\" style=\\\"border:none; overflow:hidden; width:510px; height:68px\\\" allowTransparency=\\\"true\\\"><\\/iframe>\");\n",
       "  \t\t\t\t\t\t</script>\n",
       "  <script type=\"text/javascript\">\n",
       "  window.livereOptions = { \n",
       "  refer : 'star.mk.co.kr/v2/view.php?year=2022&no=627034',\n",
       "  site : 'https://www.mk.co.kr/star/hot-issues/view/2022/07/627034/'\n",
       "  };\n",
       "  </script>\n",
       "  <div data-id=\"mk\" data-uid=\"MjQvMzYvMjc=\" id=\"lv-container\">\n",
       "  <script type=\"text/javascript\">\n",
       "  (function(d, s) {\n",
       "  var j, e = d.getElementsByTagName(s)[0];\n",
       "  \n",
       "  if (typeof LivereTower === 'function') { return; }\n",
       "  \n",
       "  j = d.createElement(s);\n",
       "  j.src = 'https://cdn-city.livere.com/js/embed.dist.js';\n",
       "  j.async = false;\n",
       "  \n",
       "  e.parentNode.insertBefore(j, e);\n",
       "  })(document, 'script');\n",
       "  </script>\n",
       "  <noscript></noscript>\n",
       "  </div>\n",
       "  </p>,\n",
       "  <p> <a href=\"https://www.mk.co.kr/star/hot-issues/view/2022/07/633508/\" onclick=\"ga('send', 'event', 'hot', 'click', '2022/633508');\">'Á¾ÀÌÀÇ Áý' ±èÁöÈÆ \"ÀÌÁÖºó°ú ÆÄ°Ý º£µå½Å, ºÎ´ã ÀÖ¾úÁö¸¸¡¦\"</a></p>,\n",
       "  <p style=\"margin-top: 3px;\"> <span class=\"important\"><img alt=\"ÇÊ¼ö ÀÔ·Â\" src=\"//img.mk.co.kr/mkde/epaper/bu_important.gif\"/></span> <span class=\"etc\">200ÀÚ\tÀÌ³»·Î Àû¾îÁÖ¼¼¿ä</span> </p>],\n",
       " [<p class=\"txt\"></p>,\n",
       "  <p class=\"copyright mgt15\">&lt;저작권자 © ‘리얼타임 연예스포츠 속보,스타의 모든 것’ 스타뉴스, 무단전재 및 재배포 금지&gt;</p>],\n",
       " [<p>You don't have permission to access /entertainment/sk_index.html\n",
       "  on this server.<br/>\n",
       "  </p>],\n",
       " [],\n",
       " [<p>Copyright (c) YTN. All rights reserved. 모든 컨텐츠(기사)는 저작권법의 보호를 받은바, 무단 전재·복사·배포를 금합니다.</p>],\n",
       " [<p class=\"art_copyright\">※  저작권자 ⓒ 파이낸셜뉴스, 무단전재-재배포 금지</p>,\n",
       "  <p>Copyright ⓒ파이낸셜뉴스. All rights reserved.</p>,\n",
       "  <p>Copyright ⓒ파이낸셜뉴스. All rights reserved.</p>],\n",
       " [<p>엔하이픈(ENHYPEN)과 NCT DREAM(엔시티 드림)이 7월 둘째주 K팝팬들의 원픽 앨범주자였던 것으로 나타났다.<br/>\n",
       "  <br/>\n",
       "  11일 한터차트 측은 공식채널을 통해 2022년 7월2주차(7월4~10일) 차트 결과를 공개했다.<br/>\n",
       "  <br/>\n",
       "  음반·글로벌 등 2개 부문으로 나뉘어 공개된 차트 정상의 주인공은 엔하이픈과 NCT DREAM이었다.\n",
       "  </p>,\n",
       "  <p>\n",
       "  우선 엔하이픈은 새 앨범 'MANIFESTO : DAY 1'으로  앨범부문에서 정상을 차지했다.<br/>\n",
       "  <br/>\n",
       "  이들은  초동집계 하루 만에 자체 신기록과 함께 데뷔 첫 밀리언셀러인 124만1112장의 판매고를 기록, △2위 에스파 Girls △3위 영탁 MMM △4위 우주소녀 Sequence △5위 위너 HOLIDAY △6위 방탄소년단 'MAP OF THE SOUL : PERSONA' △7위 방탄소년단 'LOVE YOURSELF 承 'Her'' △8위 박창근 'Re:born' △9위 비비지 'Summer Vibe' △10위 방탄소년단의 'LOVE YOURSELF 轉 'Tear'' 등 쟁쟁한 경쟁자들 가운데서도 뚜렷한 상승세를 드러냈다.\n",
       "  </p>,\n",
       "  <p>\n",
       "  NCT DREAM은 리패키지 'Beatbox'으로 글로벌 차트 1위를 거머쥐었다.<br/>\n",
       "  <br/>\n",
       "  △2위 TNX 'WAY UP' △3위 나연 (TWICE) 'IM NAYEON' △4위 세븐틴 'Face the Sun' △5위 원호 'Facade' △6위 이달의 소녀 'Flip That' △7위 방탄소년단 'Proof' △8위 프로미스나인 'from our Memento Box' △9위 드림캐쳐 'Apocalypse : Save us' △10위 엔하이픈 'MANIFESTO : DAY 1' 등 최근 글로벌 화제 속에서 활발히 활동 중인 주자들 가운데서도 2연속 '트리플 밀리언셀러'를 달성할 정도로 '4세대 대표그룹'으로서 인정받는 바가 앨범결과로도 고스란히 이어진 것으로 보인다.<br/>\n",
       "  <br/>\n",
       "  이렇듯 한터차트 7월2주차는 쟁쟁한 글로벌 주자들 틈 속에서 엔하이픈·NCT DREAM 등 4세대 대표 주자들이 두각을 나타낸 모습으로 마무리 됐다.<br/>\n",
       "  <br/>\n",
       "  각 앨범 차트 성적 및 판매량에 대한 더 자세한 내용은 모바일 '후즈팬(Whosfan)' 앱과 한터차트 홈페이지를 통해 확인할 수 있다.<br/>\n",
       "  <br/>\n",
       "  전자신문인터넷 박동선 기자 (dspark@etnews.com)\n",
       "  </p>,\n",
       "  <p class=\"article_txt\"><a href=\"https://www.etnews.com/tools/redirect_log.html?mc=ev_104_00001&amp;url=https%3A%2F%2Fwww.etnews.com%2F20220705000083\">스타팅하우스, \"노제 광고계 갑질 NO, 당사 불찰 따른 계약·노출 차질 죄송\"</a></p>,\n",
       "  <p class=\"article_txt\"><a href=\"https://www.etnews.com/tools/redirect_log.html?mc=ev_104_00002&amp;url=https%3A%2F%2Fwww.etnews.com%2F20220718000080\">임영웅, 'IM HERO' 인천공연 성료…'세대통합 하늘빛 물결'</a></p>,\n",
       "  <p class=\"article_txt\"><a href=\"https://www.etnews.com/tools/redirect_log.html?mc=ev_104_00003&amp;url=https%3A%2F%2Fwww.etnews.com%2F20220713000049\">[엔터테인&amp;]김호중, '다시 빛나는 트바로티'</a></p>,\n",
       "  <p class=\"article_txt\"><a href=\"https://www.etnews.com/tools/redirect_log.html?mc=ev_104_00004&amp;url=https%3A%2F%2Fwww.etnews.com%2F20220708000055\">에스파, 새 앨범 ‘Girls’ 금일 발표…선주문 161만장 기록</a></p>,\n",
       "  <p class=\"article_txt\"><a href=\"https://www.etnews.com/tools/redirect_log.html?mc=ev_104_00005&amp;url=https%3A%2F%2Fwww.etnews.com%2F20220704000292\">에이프릴 출신 멤버들, 개별 공식행보 속속…복귀각 잡았나?</a></p>,\n",
       "  <p class=\"copyright\"><span>Copyright © Electronic Times Internet. All Rights Reserved.</span> <a class=\"btn_rss\" href=\"https://www.etnews.com/rss/\"><img src=\"https://img.etnews.com/2013/et/images/bg/rss.jpg\"/></a></p>],\n",
       " [<p class=\"art_copyright\">※  저작권자 ⓒ 파이낸셜뉴스, 무단전재-재배포 금지</p>,\n",
       "  <p>Copyright ⓒ파이낸셜뉴스. All rights reserved.</p>,\n",
       "  <p>Copyright ⓒ파이낸셜뉴스. All rights reserved.</p>],\n",
       " [<p>이랜드가 운영하는 SPA 브랜드 스파오(SPAO)가 아이돌 그룹 NCT의 멤버 ‘성찬’을 브랜드 모델로 발탁했다.</p>,\n",
       "  <p>스파오는 대중에게 호감을 주는 깨끗한 이미지와 MZ 세대를 대표하는 트렌디한 무드를 동시에 가지고 있는 NCT의 ‘성찬’이 베이직한 아이템과 트렌드에 맞는 새로운 패션을 동시에 선보이는 ‘스파오’의 이미지와 부합해 새 모델로 선정했다.</p>,\n",
       "  <p>성찬은 8일부터 시작되는 스파오의 겨울 아우터 캠페인 ‘푸퍼 유니버스’의 엠버서더로 첫 활동을 시작한다. 스파오의 푸퍼패딩 컬렉션은 어떤 코디에도 잘 어울리는 베이직하고 미니멀한 디자인과 컬러로 작년 한 해 30만 장 이상 판매된 베스트 아이템이다.</p>,\n",
       "  <p>올해 스파오의 푸퍼 컬렉션은 겉감과 충전재 사이 보온성과 형태를 잡아주는 3layer 다운백 구조 설계로 충전재를 10% 늘리고도 작년보다 30g 가벼워진 무게로 더 가볍고 따뜻하게 업그레이드 됐다.</p>,\n",
       "  <p>이랜드 스파오 관계자는 “쇼케이스 속 성찬이 우월한 비율로 다양한 콘셉트의 스파오 아우터를 훌륭하게 소화했다”라고 말하면서 “무신사에서 진행되는 쇼케이스는 스파오의 신상 아우터를 30% 할인된 가격으로 가장 먼저 만나볼 수 있는 특별한 기회”라고 말했다.</p>,\n",
       "  <p>한편 스파오는 매년 가장 빠르게 겨울 아우터 시장에 발을 내딛고 있다. </p>,\n",
       "  <p>지난해 8월에는 1000명 규모의 푸퍼 패딩 체험단을 모집해 고객들이 직접 상품을 경험해 보고 후기를 공유할 수 있는 프로모션을 진행하기도 했다. 동물 털을 대신하는 윤리적인 패딩 충전재 ‘3-MIX SOFT’를 사용해 가치소비도 이끌어내고 있다.</p>,\n",
       "  <p>[컨슈머치 = 전정미 기자]</p>]]"
      ]
     },
     "execution_count": 23,
     "metadata": {},
     "output_type": "execute_result"
    }
   ],
   "source": [
    "# 내용 크롤링하기\n",
    "contents = []\n",
    "for i in news_url :\n",
    "    # 각 기사 html get\n",
    "    news = requests.get(i)\n",
    "    news_html = BeautifulSoup(news.text,\"html.parser\")\n",
    "    # 기사 내용 가져오기 (p태그 내용)\n",
    "    contents.append(news_html.find_all('p'))\n",
    "contents"
   ]
  }
 ],
 "metadata": {
  "kernelspec": {
   "display_name": "Python 3 (ipykernel)",
   "language": "python",
   "name": "python3"
  },
  "language_info": {
   "codemirror_mode": {
    "name": "ipython",
    "version": 3
   },
   "file_extension": ".py",
   "mimetype": "text/x-python",
   "name": "python",
   "nbconvert_exporter": "python",
   "pygments_lexer": "ipython3",
   "version": "3.9.12"
  }
 },
 "nbformat": 4,
 "nbformat_minor": 5
}
