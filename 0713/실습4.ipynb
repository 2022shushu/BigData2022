{
 "cells": [
  {
   "cell_type": "code",
   "execution_count": 2,
   "id": "17935284-7f1e-45ca-a8ea-64beba286fd9",
   "metadata": {},
   "outputs": [],
   "source": [
    "import os \n",
    "import warnings\n",
    "warnings.simplefilter(action='ignore',category=FutureWarning)\n",
    "import pandas as pd\n",
    "import numpy as np\n",
    "import math\n",
    "from scipy import stats\n",
    "import pandas as pd\n",
    "import matplotlib.pyplot as plt\n",
    "%matplotlib inline\n",
    "import seaborn as sns\n",
    "import os\n",
    "if os.name =='nt' :\n",
    "    font_family= 'Malgun Gothic'\n",
    "sns.set(font=font_family, rc= {'axes.unicode_minus': False})"
   ]
  },
  {
   "cell_type": "code",
   "execution_count": 3,
   "id": "32109b68-53de-4a1b-8097-45bbd10de759",
   "metadata": {},
   "outputs": [
    {
     "name": "stdout",
     "output_type": "stream",
     "text": [
      "a 평균 : 79.0\n",
      "b 평균 : 65.375\n",
      "c 평균 : 67.125\n",
      "d 평균 : 69.5\n"
     ]
    }
   ],
   "source": [
    "#데이터 셋 \n",
    "a = [66,74,82,75,73,97,87,78]\n",
    "b = [72,51,59,62,74,64,78,63]\n",
    "c = [61,60,57,60,81,77,70,71]\n",
    "d = [63,61,76,84,58,65,69,80]\n",
    "print(\"a 평균 :\", np.mean(a))\n",
    "print(\"b 평균 :\", np.mean(b))\n",
    "print(\"c 평균 :\", np.mean(c))\n",
    "print(\"d 평균 :\", np.mean(d))"
   ]
  },
  {
   "cell_type": "code",
   "execution_count": 4,
   "id": "377de7d5-d6e1-43da-9b53-2a8c9b343c61",
   "metadata": {},
   "outputs": [
    {
     "data": {
      "image/png": "[encoded data removed]",
      "text/plain": [
       "<Figure size 432x288 with 1 Axes>"
      ]
     },
     "metadata": {},
     "output_type": "display_data"
    }
   ],
   "source": [
    "#이상값 확인\n",
    "plot_data = [a, b, c, d]\n",
    "plt.boxplot(plot_data)\n",
    "plt.xticks([1, 2, 3, 4], ['a', 'b', 'c', 'd'])\n",
    "plt.grid(True)\n",
    "plt.show()"
   ]
  },
  {
   "cell_type": "code",
   "execution_count": 5,
   "id": "e4bd3ca7-ab34-4662-bd82-91cfd122d580",
   "metadata": {},
   "outputs": [
    {
     "data": {
      "text/html": [
       "<div>\n",
       "<style scoped>\n",
       "    .dataframe tbody tr th:only-of-type {\n",
       "        vertical-align: middle;\n",
       "    }\n",
       "\n",
       "    .dataframe tbody tr th {\n",
       "        vertical-align: top;\n",
       "    }\n",
       "\n",
       "    .dataframe thead th {\n",
       "        text-align: right;\n",
       "    }\n",
       "</style>\n",
       "<table border=\"1\" class=\"dataframe\">\n",
       "  <thead>\n",
       "    <tr style=\"text-align: right;\">\n",
       "      <th></th>\n",
       "      <th>점수</th>\n",
       "      <th>교육기관</th>\n",
       "    </tr>\n",
       "  </thead>\n",
       "  <tbody>\n",
       "    <tr>\n",
       "      <th>0</th>\n",
       "      <td>66</td>\n",
       "      <td>a</td>\n",
       "    </tr>\n",
       "    <tr>\n",
       "      <th>1</th>\n",
       "      <td>74</td>\n",
       "      <td>a</td>\n",
       "    </tr>\n",
       "    <tr>\n",
       "      <th>2</th>\n",
       "      <td>82</td>\n",
       "      <td>a</td>\n",
       "    </tr>\n",
       "    <tr>\n",
       "      <th>3</th>\n",
       "      <td>75</td>\n",
       "      <td>a</td>\n",
       "    </tr>\n",
       "  </tbody>\n",
       "</table>\n",
       "</div>"
      ],
      "text/plain": [
       "   점수 교육기관\n",
       "0  66    a\n",
       "1  74    a\n",
       "2  82    a\n",
       "3  75    a"
      ]
     },
     "execution_count": 5,
     "metadata": {},
     "output_type": "execute_result"
    }
   ],
   "source": [
    "#데이터프레임 변환\n",
    "check = ['a', 'b', 'c', 'd']\n",
    "check = [check[j] for j in range(4) for i in range(8)]\n",
    "data = pd.DataFrame({'점수':a+b+c+d, '교육기관':check})\n",
    "data.head(4)"
   ]
  },
  {
   "cell_type": "code",
   "execution_count": 6,
   "id": "4b4b2706-ac2c-448b-9d2a-0ec45aa23ab1",
   "metadata": {},
   "outputs": [
    {
     "name": "stdout",
     "output_type": "stream",
     "text": [
      "KstestResult(statistic=0.625, pvalue=0.08702408702408701)\n",
      "KstestResult(statistic=0.625, pvalue=0.08702408702408701)\n",
      "KstestResult(statistic=0.5, pvalue=0.2826728826728826)\n",
      "KstestResult(statistic=0.25, pvalue=0.98010878010878)\n",
      "KstestResult(statistic=0.25, pvalue=0.98010878010878)\n",
      "KstestResult(statistic=0.25, pvalue=0.98010878010878)\n",
      "등분산성 검정\n",
      "LeveneResult(statistic=0.07560756075607561, pvalue=0.972627101462453)\n",
      "BartlettResult(statistic=0.07373983712569482, pvalue=0.9947906337756077)\n"
     ]
    }
   ],
   "source": [
    "print(stats.ks_2samp(a, b), stats.ks_2samp(a, c), stats.ks_2samp(a, d),\n",
    "      stats.ks_2samp(b, c), stats.ks_2samp(b, d),\n",
    "      stats.ks_2samp(c, d), sep=\"\\n\")\n",
    "#등분산성 검정 : 모든 집단의 모분산은 동일함\n",
    "print('등분산성 검정')\n",
    "from scipy.stats import levene\n",
    "print(levene(a, b, c, d))\n",
    "\n",
    "from scipy.stats import bartlett\n",
    "print(bartlett(a, b, c, d))"
   ]
  },
  {
   "cell_type": "code",
   "execution_count": 7,
   "id": "657d870c-0745-4907-ba09-919a8642ca27",
   "metadata": {},
   "outputs": [
    {
     "name": "stdout",
     "output_type": "stream",
     "text": [
      "F=(0:.1f), p=0.029\n",
      "귀무가설 기각, 4개의 교육훈련 기법간이 차이가 있다.\n"
     ]
    }
   ],
   "source": [
    "#F통계량을 이용한 가설 검정\n",
    "f_statistic, pval = stats.f_oneway(a, b, c, d)\n",
    "print('F=(0:.1f), p={1:.3f}'.format(f_statistic, pval))\n",
    "\n",
    "if pval < 0.05 :\n",
    "    print(\"귀무가설 기각, 4개의 교육훈련 기법간이 차이가 있다.\")\n",
    "else :\n",
    "    print(\"귀무가설 채택, 4개의 교육훈련 기법간이 차이가 없다.\")"
   ]
  },
  {
   "cell_type": "code",
   "execution_count": 8,
   "id": "ca0d5011-b580-497d-aae8-fc4433b9ac19",
   "metadata": {},
   "outputs": [],
   "source": [
    "#Statsmodel을 사용한 일원분산분석\n",
    "from statsmodels. formula.api import ols\n",
    "from statsmodels. stats.anova import anova_lm"
   ]
  },
  {
   "cell_type": "code",
   "execution_count": 59,
   "id": "d5f892be-c119-4b4c-973f-0b989b7301f3",
   "metadata": {},
   "outputs": [
    {
     "data": {
      "text/html": [
       "<div>\n",
       "<style scoped>\n",
       "    .dataframe tbody tr th:only-of-type {\n",
       "        vertical-align: middle;\n",
       "    }\n",
       "\n",
       "    .dataframe tbody tr th {\n",
       "        vertical-align: top;\n",
       "    }\n",
       "\n",
       "    .dataframe thead th {\n",
       "        text-align: right;\n",
       "    }\n",
       "</style>\n",
       "<table border=\"1\" class=\"dataframe\">\n",
       "  <thead>\n",
       "    <tr style=\"text-align: right;\">\n",
       "      <th></th>\n",
       "      <th>df</th>\n",
       "      <th>sum_sq</th>\n",
       "      <th>mean_sq</th>\n",
       "      <th>F</th>\n",
       "      <th>PR(&gt;F)</th>\n",
       "    </tr>\n",
       "  </thead>\n",
       "  <tbody>\n",
       "    <tr>\n",
       "      <th>C(교육기관)</th>\n",
       "      <td>3.0</td>\n",
       "      <td>885.25</td>\n",
       "      <td>295.083333</td>\n",
       "      <td>3.482176</td>\n",
       "      <td>0.028897</td>\n",
       "    </tr>\n",
       "    <tr>\n",
       "      <th>Residual</th>\n",
       "      <td>28.0</td>\n",
       "      <td>2372.75</td>\n",
       "      <td>84.741071</td>\n",
       "      <td>NaN</td>\n",
       "      <td>NaN</td>\n",
       "    </tr>\n",
       "  </tbody>\n",
       "</table>\n",
       "</div>"
      ],
      "text/plain": [
       "            df   sum_sq     mean_sq         F    PR(>F)\n",
       "C(교육기관)    3.0   885.25  295.083333  3.482176  0.028897\n",
       "Residual  28.0  2372.75   84.741071       NaN       NaN"
      ]
     },
     "execution_count": 59,
     "metadata": {},
     "output_type": "execute_result"
    }
   ],
   "source": [
    "model_1A = ols('점수 ~C(교육기관)', data).fit()\n",
    "anova_lm_result = anova_lm(model_1A)\n",
    "anova_lm_result"
   ]
  },
  {
   "cell_type": "code",
   "execution_count": 60,
   "id": "5fd4d3a5-875c-43d4-86f2-131578a53b61",
   "metadata": {},
   "outputs": [
    {
     "data": {
      "text/html": [
       "<table class=\"simpletable\">\n",
       "<caption>Multiple Comparison of Means - Tukey HSD, FWER=0.05</caption>\n",
       "<tr>\n",
       "  <th>group1</th> <th>group2</th> <th>meandiff</th>  <th>p-adj</th>   <th>lower</th>   <th>upper</th>  <th>reject</th>\n",
       "</tr>\n",
       "<tr>\n",
       "     <td>a</td>      <td>b</td>    <td>-13.625</td> <td>0.0298</td> <td>-26.1919</td> <td>-1.0581</td>  <td>True</td> \n",
       "</tr>\n",
       "<tr>\n",
       "     <td>a</td>      <td>c</td>    <td>-11.875</td> <td>0.0692</td> <td>-24.4419</td> <td>0.6919</td>   <td>False</td>\n",
       "</tr>\n",
       "<tr>\n",
       "     <td>a</td>      <td>d</td>     <td>-9.5</td>   <td>0.1896</td> <td>-22.0669</td> <td>3.0669</td>   <td>False</td>\n",
       "</tr>\n",
       "<tr>\n",
       "     <td>b</td>      <td>c</td>     <td>1.75</td>   <td>0.9809</td> <td>-10.8169</td> <td>14.3169</td>  <td>False</td>\n",
       "</tr>\n",
       "<tr>\n",
       "     <td>b</td>      <td>d</td>     <td>4.125</td>  <td>0.8068</td>  <td>-8.4419</td> <td>16.6919</td>  <td>False</td>\n",
       "</tr>\n",
       "<tr>\n",
       "     <td>c</td>      <td>d</td>     <td>2.375</td>  <td>0.9546</td> <td>-10.1919</td> <td>14.9419</td>  <td>False</td>\n",
       "</tr>\n",
       "</table>"
      ],
      "text/plain": [
       "<class 'statsmodels.iolib.table.SimpleTable'>"
      ]
     },
     "execution_count": 60,
     "metadata": {},
     "output_type": "execute_result"
    }
   ],
   "source": [
    "#사후분석\n",
    "from statsmodels.stats.multicomp import pairwise_tukeyhsd\n",
    "\n",
    "HSD = pairwise_tukeyhsd(data['점수'], data['교육기관'], alpha = 0.05)\n",
    "HSD.summary()"
   ]
  },
  {
   "cell_type": "code",
   "execution_count": 61,
   "id": "2e896f42-ca16-4847-a315-76a693a50ef6",
   "metadata": {},
   "outputs": [],
   "source": [
    "#종속변수\n",
    "dat = pd.DataFrame({'판유리':['유리1', '유리1', '유리1', '유리2', '유리2',\n",
    "                           '유리2', '유리3', '유리3', '유리3', '유리1',\n",
    "                           '유리1', '유리1', '유리2', '유리2', '유리2',\n",
    "                           '유리3', '유리3', '유리3', '유리1', '유리1',\n",
    "                           '유리1', '유리2', '유리2', '유리2', '유리3',\n",
    "                           '유리3', '유리3'],\n",
    "                    '온도' : [100, 100, 100, 100, 100, 100, 100, 100, 100,\n",
    "                            125, 125, 125, 125, 125, 125, 125, 125, 125,\n",
    "                            150, 150, 150, 150, 150, 150, 150, 150, 150],\n",
    "                    '강도' : [500, 568, 570, 550, 530, 579, 546, 575, 599,\n",
    "                            1000, 1087, 1085, 1070, 1035, 1000, 1045, 1053,\n",
    "                            1066, 1392, 1380, 1386, 1328, 1312, 1299, 867,\n",
    "                            984, 889]})"
   ]
  },
  {
   "cell_type": "code",
   "execution_count": 62,
   "id": "b467aaa5-b3e8-4f7c-9da9-7e6ec262f5c7",
   "metadata": {},
   "outputs": [
    {
     "data": {
      "text/html": [
       "<div>\n",
       "<style scoped>\n",
       "    .dataframe tbody tr th:only-of-type {\n",
       "        vertical-align: middle;\n",
       "    }\n",
       "\n",
       "    .dataframe tbody tr th {\n",
       "        vertical-align: top;\n",
       "    }\n",
       "\n",
       "    .dataframe thead th {\n",
       "        text-align: right;\n",
       "    }\n",
       "</style>\n",
       "<table border=\"1\" class=\"dataframe\">\n",
       "  <thead>\n",
       "    <tr style=\"text-align: right;\">\n",
       "      <th></th>\n",
       "      <th>판유리</th>\n",
       "      <th>온도</th>\n",
       "      <th>강도</th>\n",
       "    </tr>\n",
       "  </thead>\n",
       "  <tbody>\n",
       "    <tr>\n",
       "      <th>0</th>\n",
       "      <td>유리1</td>\n",
       "      <td>100</td>\n",
       "      <td>500</td>\n",
       "    </tr>\n",
       "    <tr>\n",
       "      <th>1</th>\n",
       "      <td>유리1</td>\n",
       "      <td>100</td>\n",
       "      <td>568</td>\n",
       "    </tr>\n",
       "    <tr>\n",
       "      <th>2</th>\n",
       "      <td>유리1</td>\n",
       "      <td>100</td>\n",
       "      <td>570</td>\n",
       "    </tr>\n",
       "    <tr>\n",
       "      <th>3</th>\n",
       "      <td>유리2</td>\n",
       "      <td>100</td>\n",
       "      <td>550</td>\n",
       "    </tr>\n",
       "    <tr>\n",
       "      <th>4</th>\n",
       "      <td>유리2</td>\n",
       "      <td>100</td>\n",
       "      <td>530</td>\n",
       "    </tr>\n",
       "  </tbody>\n",
       "</table>\n",
       "</div>"
      ],
      "text/plain": [
       "   판유리   온도   강도\n",
       "0  유리1  100  500\n",
       "1  유리1  100  568\n",
       "2  유리1  100  570\n",
       "3  유리2  100  550\n",
       "4  유리2  100  530"
      ]
     },
     "execution_count": 62,
     "metadata": {},
     "output_type": "execute_result"
    }
   ],
   "source": [
    "dat.head()"
   ]
  },
  {
   "cell_type": "code",
   "execution_count": 63,
   "id": "eff17279-d77c-4b31-b3d0-77ffa877c1fa",
   "metadata": {},
   "outputs": [
    {
     "data": {
      "text/html": [
       "<div>\n",
       "<style scoped>\n",
       "    .dataframe tbody tr th:only-of-type {\n",
       "        vertical-align: middle;\n",
       "    }\n",
       "\n",
       "    .dataframe tbody tr th {\n",
       "        vertical-align: top;\n",
       "    }\n",
       "\n",
       "    .dataframe thead th {\n",
       "        text-align: right;\n",
       "    }\n",
       "</style>\n",
       "<table border=\"1\" class=\"dataframe\">\n",
       "  <thead>\n",
       "    <tr style=\"text-align: right;\">\n",
       "      <th></th>\n",
       "      <th></th>\n",
       "      <th>강도</th>\n",
       "    </tr>\n",
       "    <tr>\n",
       "      <th>판유리</th>\n",
       "      <th>온도</th>\n",
       "      <th></th>\n",
       "    </tr>\n",
       "  </thead>\n",
       "  <tbody>\n",
       "    <tr>\n",
       "      <th rowspan=\"3\" valign=\"top\">유리1</th>\n",
       "      <th>100</th>\n",
       "      <td>3</td>\n",
       "    </tr>\n",
       "    <tr>\n",
       "      <th>125</th>\n",
       "      <td>3</td>\n",
       "    </tr>\n",
       "    <tr>\n",
       "      <th>150</th>\n",
       "      <td>3</td>\n",
       "    </tr>\n",
       "    <tr>\n",
       "      <th rowspan=\"3\" valign=\"top\">유리2</th>\n",
       "      <th>100</th>\n",
       "      <td>3</td>\n",
       "    </tr>\n",
       "    <tr>\n",
       "      <th>125</th>\n",
       "      <td>3</td>\n",
       "    </tr>\n",
       "    <tr>\n",
       "      <th>150</th>\n",
       "      <td>3</td>\n",
       "    </tr>\n",
       "    <tr>\n",
       "      <th rowspan=\"3\" valign=\"top\">유리3</th>\n",
       "      <th>100</th>\n",
       "      <td>3</td>\n",
       "    </tr>\n",
       "    <tr>\n",
       "      <th>125</th>\n",
       "      <td>3</td>\n",
       "    </tr>\n",
       "    <tr>\n",
       "      <th>150</th>\n",
       "      <td>3</td>\n",
       "    </tr>\n",
       "  </tbody>\n",
       "</table>\n",
       "</div>"
      ],
      "text/plain": [
       "         강도\n",
       "판유리 온도     \n",
       "유리1 100   3\n",
       "    125   3\n",
       "    150   3\n",
       "유리2 100   3\n",
       "    125   3\n",
       "    150   3\n",
       "유리3 100   3\n",
       "    125   3\n",
       "    150   3"
      ]
     },
     "execution_count": 63,
     "metadata": {},
     "output_type": "execute_result"
    }
   ],
   "source": [
    "dat.groupby(['판유리', '온도']).agg(len)"
   ]
  },
  {
   "cell_type": "code",
   "execution_count": 64,
   "id": "7fb7413f-4236-4d5b-99b0-c0693de573cd",
   "metadata": {},
   "outputs": [
    {
     "data": {
      "text/html": [
       "<div>\n",
       "<style scoped>\n",
       "    .dataframe tbody tr th:only-of-type {\n",
       "        vertical-align: middle;\n",
       "    }\n",
       "\n",
       "    .dataframe tbody tr th {\n",
       "        vertical-align: top;\n",
       "    }\n",
       "\n",
       "    .dataframe thead th {\n",
       "        text-align: right;\n",
       "    }\n",
       "</style>\n",
       "<table border=\"1\" class=\"dataframe\">\n",
       "  <thead>\n",
       "    <tr style=\"text-align: right;\">\n",
       "      <th></th>\n",
       "      <th>df</th>\n",
       "      <th>sum_sq</th>\n",
       "      <th>mean_sq</th>\n",
       "      <th>F</th>\n",
       "      <th>PR(&gt;F)</th>\n",
       "    </tr>\n",
       "  </thead>\n",
       "  <tbody>\n",
       "    <tr>\n",
       "      <th>C(판유리)</th>\n",
       "      <td>2.0</td>\n",
       "      <td>1.126223e+05</td>\n",
       "      <td>5.631115e+04</td>\n",
       "      <td>46.855096</td>\n",
       "      <td>7.321792e-08</td>\n",
       "    </tr>\n",
       "    <tr>\n",
       "      <th>C(온도)</th>\n",
       "      <td>2.0</td>\n",
       "      <td>2.051592e+06</td>\n",
       "      <td>1.025796e+06</td>\n",
       "      <td>853.539277</td>\n",
       "      <td>1.466131e-18</td>\n",
       "    </tr>\n",
       "    <tr>\n",
       "      <th>C(판유리):C(온도)</th>\n",
       "      <td>4.0</td>\n",
       "      <td>2.779561e+05</td>\n",
       "      <td>6.948904e+04</td>\n",
       "      <td>57.820087</td>\n",
       "      <td>4.989739e-10</td>\n",
       "    </tr>\n",
       "    <tr>\n",
       "      <th>Residual</th>\n",
       "      <td>18.0</td>\n",
       "      <td>2.163267e+04</td>\n",
       "      <td>1.201815e+03</td>\n",
       "      <td>NaN</td>\n",
       "      <td>NaN</td>\n",
       "    </tr>\n",
       "  </tbody>\n",
       "</table>\n",
       "</div>"
      ],
      "text/plain": [
       "                df        sum_sq       mean_sq           F        PR(>F)\n",
       "C(판유리)         2.0  1.126223e+05  5.631115e+04   46.855096  7.321792e-08\n",
       "C(온도)          2.0  2.051592e+06  1.025796e+06  853.539277  1.466131e-18\n",
       "C(판유리):C(온도)   4.0  2.779561e+05  6.948904e+04   57.820087  4.989739e-10\n",
       "Residual      18.0  2.163267e+04  1.201815e+03         NaN           NaN"
      ]
     },
     "execution_count": 64,
     "metadata": {},
     "output_type": "execute_result"
    }
   ],
   "source": [
    "#이원분산분석\n",
    "from statsmodels. formula.api import ols\n",
    "from statsmodels. stats.anova import anova_lm\n",
    "\n",
    "model = ols('강도 ~ C(판유리) * C(온도)', dat).fit()\n",
    "anova_result = pd.DataFrame(anova_lm(model))\n",
    "anova_result"
   ]
  },
  {
   "cell_type": "code",
   "execution_count": 65,
   "id": "64bb7346-bd21-4487-aa96-1539c44ecaa9",
   "metadata": {},
   "outputs": [
    {
     "name": "stdout",
     "output_type": "stream",
     "text": [
      "    Multiple Comparison of Means - Tukey HSD, FWER=0.05    \n",
      "===========================================================\n",
      " group1  group2  meandiff p-adj    lower     upper   reject\n",
      "-----------------------------------------------------------\n",
      "유리1/100 유리1/125  511.3333    0.0  412.1542  610.5124   True\n",
      "유리1/100 유리1/150     840.0    0.0  740.8209  939.1791   True\n",
      "유리1/100 유리2/100       7.0    1.0  -92.1791  106.1791  False\n",
      "유리1/100 유리2/125     489.0    0.0  389.8209  588.1791   True\n",
      "유리1/100 유리2/150     767.0    0.0  667.8209  866.1791   True\n",
      "유리1/100 유리3/100   27.3333 0.9846  -71.8458  126.5124  False\n",
      "유리1/100 유리3/125  508.6667    0.0  409.4876  607.8458   True\n",
      "유리1/100 유리3/150  367.3333    0.0  268.1542  466.5124   True\n",
      "유리1/125 유리1/150  328.6667    0.0  229.4876  427.8458   True\n",
      "유리1/125 유리2/100 -504.3333    0.0 -603.5124 -405.1542   True\n",
      "유리1/125 유리2/125  -22.3333 0.9958 -121.5124   76.8458  False\n",
      "유리1/125 유리2/150  255.6667    0.0  156.4876  354.8458   True\n",
      "유리1/125 유리3/100    -484.0    0.0 -583.1791 -384.8209   True\n",
      "유리1/125 유리3/125   -2.6667    1.0 -101.8458   96.5124  False\n",
      "유리1/125 유리3/150    -144.0  0.002 -243.1791  -44.8209   True\n",
      "유리1/150 유리2/100    -833.0    0.0 -932.1791 -733.8209   True\n",
      "유리1/150 유리2/125    -351.0    0.0 -450.1791 -251.8209   True\n",
      "유리1/150 유리2/150     -73.0 0.2605 -172.1791   26.1791  False\n",
      "유리1/150 유리3/100 -812.6667    0.0 -911.8458 -713.4876   True\n",
      "유리1/150 유리3/125 -331.3333    0.0 -430.5124 -232.1542   True\n",
      "유리1/150 유리3/150 -472.6667    0.0 -571.8458 -373.4876   True\n",
      "유리2/100 유리2/125     482.0    0.0  382.8209  581.1791   True\n",
      "유리2/100 유리2/150     760.0    0.0  660.8209  859.1791   True\n",
      "유리2/100 유리3/100   20.3333 0.9978  -78.8458  119.5124  False\n",
      "유리2/100 유리3/125  501.6667    0.0  402.4876  600.8458   True\n",
      "유리2/100 유리3/150  360.3333    0.0  261.1542  459.5124   True\n",
      "유리2/125 유리2/150     278.0    0.0  178.8209  377.1791   True\n",
      "유리2/125 유리3/100 -461.6667    0.0 -560.8458 -362.4876   True\n",
      "유리2/125 유리3/125   19.6667 0.9982  -79.5124  118.8458  False\n",
      "유리2/125 유리3/150 -121.6667   0.01 -220.8458  -22.4876   True\n",
      "유리2/150 유리3/100 -739.6667    0.0 -838.8458 -640.4876   True\n",
      "유리2/150 유리3/125 -258.3333    0.0 -357.5124 -159.1542   True\n",
      "유리2/150 유리3/150 -399.6667    0.0 -498.8458 -300.4876   True\n",
      "유리3/100 유리3/125  481.3333    0.0  382.1542  580.5124   True\n",
      "유리3/100 유리3/150     340.0    0.0  240.8209  439.1791   True\n",
      "유리3/125 유리3/150 -141.3333 0.0024 -240.5124  -42.1542   True\n",
      "-----------------------------------------------------------\n"
     ]
    }
   ],
   "source": [
    "dat['온도'] = dat['온도'].astype('str')\n",
    "dat['combi'] = dat.판유리 + \"/\" + dat.온도\n",
    "print(pairwise_tukeyhsd(dat['강도'], dat['combi']))"
   ]
  }
 ],
 "metadata": {
  "kernelspec": {
   "display_name": "Python 3 (ipykernel)",
   "language": "python",
   "name": "python3"
  },
  "language_info": {
   "codemirror_mode": {
    "name": "ipython",
    "version": 3
   },
   "file_extension": ".py",
   "mimetype": "text/x-python",
   "name": "python",
   "nbconvert_exporter": "python",
   "pygments_lexer": "ipython3",
   "version": "3.9.12"
  }
 },
 "nbformat": 4,
 "nbformat_minor": 5
}
