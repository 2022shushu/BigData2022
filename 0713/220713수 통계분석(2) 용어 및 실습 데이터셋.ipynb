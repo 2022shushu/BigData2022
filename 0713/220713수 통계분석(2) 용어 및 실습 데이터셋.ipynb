{
 "cells": [
  {
   "cell_type": "markdown",
   "id": "b3c395bb",
   "metadata": {},
   "source": [
    "## statsmodels 패키지\n",
    "- statsmodel 패키지는 추정 및 검정, 회귀분석, 시계열분석 등의 기능을 제공하는 파이썬 패키지\n",
    "- 예제 데이터셋\n",
    "- 검정 및 모수추정\n",
    "- 회귀분석\n",
    "- 선형회귀\n",
    "- 강건회귀\n",
    "- 일반화 선형모형\n",
    "- 혼합효과모형\n",
    "- 이산종속변수\n",
    "- 시계열 분석\n",
    "- ... \n",
    "- 요인분석\n",
    "\n",
    "### StatsModels에서 제공하는 정규성검정 명령어\n",
    "\n",
    "- 콜모고로프-스미르노프 검정(Kolmogorov-Smirnov test) : statsmodels.stats.diagnostic.kstest_normal\n",
    "- 옴니버스 검정(Omnibus Normality test) : statsmodels.stats.stattools.omni_normtest\n",
    "- 자크-베라 검정(Jarque–Bera test) : statsmodels.stats.stattools.jarque_bera\n",
    "- 릴리포스 검정(Lilliefors test) : statsmodels.stats.diagnostic.lillifors\n",
    "\n",
    "### 사이파이 에서 제공하는 정규성검정 명령어\n",
    "\n",
    "- 콜모고로프-스미르노프 검정(Kolmogorov-Smirnov test) : scipy.stats.ks_2samp\n",
    "- 샤피로-윌크 검정(Shapiro–Wilk test) : scipy.stats.shapiro\n",
    "- 앤더스-달링 검정(Anderson–Darling test) : scipy.stats.anderson\n",
    "- 다고스티노 K-제곱 검정(D'Agostino's K-squared test) : scipy.stats.mstats.normaltest\n"
   ]
  },
  {
   "cell_type": "markdown",
   "id": "8388100f",
   "metadata": {},
   "source": [
    "# 추론통계 - 가설검정\n"
   ]
  },
  {
   "cell_type": "code",
   "execution_count": 8,
   "id": "971b51c5",
   "metadata": {},
   "outputs": [],
   "source": [
    "# 패키지 임포트 \n",
    "import os \n",
    "import warnings\n",
    "warnings.simplefilter(action='ignore', category=FutureWarning) # FutureWarning 제거\n",
    "\n",
    "import pandas as pd # pandas package\n",
    "import numpy as np  # numpy package  \n",
    "import math\n",
    "from scipy import stats  # Scipy Package \n",
    "\n",
    "# 시각화 패키지 \n",
    "import matplotlib.pyplot as plt #  matplotlib 시각화 패키지 \n",
    "import seaborn as sns\n",
    "%matplotlib inline\n",
    "\n",
    "\n",
    "# os에 따른 Font 깨짐 제거를 위해 Font 지정 \n",
    "import os \n",
    "if os.name == 'nt' :  # Windows OS \n",
    "    font_family = \"Malgun Gothic\"\n",
    "else: # MAC OS \n",
    "    font_family = \"AppleGothic\"\n",
    "    \n",
    "# - 값이 깨지는 문제 해결을 위해 파라미터 값 설정 \n",
    "sns.set(font=font_family, rc ={\"axes.unicode_minus\" : False})  "
   ]
  },
  {
   "cell_type": "markdown",
   "id": "d83e2d4a",
   "metadata": {},
   "source": [
    "###  Scipy 확률 분포 클래스 \n",
    "\n",
    "| 종류 | 명령 | 확률분포 |\n",
    "|-|-|-|\n",
    "| 이산 | `bernoulli` | 베르누이분포 |\n",
    "| 이산 | `binom` |  이항분포 |\n",
    "| 이산 | `multinomial` |  다항분포 |\n",
    "| 연속 | `uniform` | 균일분포 |\n",
    "| 연속 | `norm` | 정규분포 |\n",
    "| 연속 | `beta` | 베타분포 |\n",
    "| 연속 | `gamma` | 감마분포 |\n",
    "| 연속 | `t` | 스튜던트 t분포 |\n",
    "| 연속 | `chi2` | 카이 제곱분포 |\n",
    "| 연속 | `f` | F분포 |\n",
    "| 연속 | `dirichlet` | 디리클리분포 |\n",
    "| 연속 | `multivariate_normal` | 다변수 정규분포 |\n",
    "\n",
    "### 확률 분포 매소드 \n",
    "\n",
    "| 메서드 | 기능 |\n",
    "|-|-|\n",
    "| `pmf` | 확률질량함수(probability mass function) |\n",
    "| `pdf` | 확률밀도함수(probability density function) |\n",
    "| `cdf` | 누적분포함수(cumulative distribution function)  |\n",
    "| `ppf` | 누적분포함수의 역함수(inverse cumulative distribution function)  |\n",
    "| `sf` | 생존함수(survival function) = 1 - 누적분포함수  |\n",
    "| `isf` | 생존함수의 역함수(inverse survival function)  |\n",
    "| `rvs` | 랜덤 표본 생성(random variable sampling)    |"
   ]
  },
  {
   "cell_type": "markdown",
   "id": "46dba0e6",
   "metadata": {},
   "source": [
    "## 검정 통계량 \n",
    "\n",
    "### 1. 모분산을 알고 있는 경우 모평균의 가설 검정 = $Z$ 검정(단일 표본) \n",
    "\n",
    "#### Scipy 패키지의 확률 분포 클래스 stats.norm() 사용 \n",
    "\n",
    "#### 사례) \n",
    "- 사람의 평균수명을 알아보기 위해 사망자 100명을 표본으로 추출하여 조사하였더니 평균 71.798년으로 나타났다. 모표준편차를 8.9년으로 가정할 때, 현재의 평균수명은 70년보다 길다고 할 수 있는가를 검정하라(유의수준 α=0.05) \n",
    "\n",
    "####  (1) 가설 설정 "
   ]
  },
  {
   "cell_type": "markdown",
   "id": "8ef9b5a6",
   "metadata": {},
   "source": [
    "- 귀무가설 $𝐻_0:𝜇=70년$\n",
    "- 대립가설 $𝐻_1:𝜇>70년$ (우측 검정)\n",
    "- 유의수준 $α=0.05$ "
   ]
  },
  {
   "cell_type": "markdown",
   "id": "3664ada9",
   "metadata": {},
   "source": [
    "# 통계적 검정 방법 "
   ]
  },
  {
   "cell_type": "code",
   "execution_count": 9,
   "id": "486edca3",
   "metadata": {},
   "outputs": [],
   "source": [
    "# 패키지 임포트 \n",
    "import os \n",
    "import warnings\n",
    "warnings.simplefilter(action='ignore', category=FutureWarning) # FutureWarning 제거\n",
    "\n",
    "import pandas as pd # pandas package\n",
    "import numpy as np  # numpy package  \n",
    "import math\n",
    "from scipy import stats  # Scipy Package \n",
    "\n",
    "# 시각화 패키지 \n",
    "import matplotlib.pyplot as plt #  matplotlib 시각화 패키지 \n",
    "import seaborn as sns\n",
    "%matplotlib inline\n",
    "\n",
    "\n",
    "# os에 따른 Font 깨짐 제거를 위해 Font 지정 \n",
    "import os \n",
    "if os.name == 'nt' :  # Windows OS \n",
    "    font_family = \"Malgun Gothic\"\n",
    "else: # MAC OS \n",
    "    font_family = \"AppleGothic\"\n",
    "    \n",
    "# - 값이 깨지는 문제 해결을 위해 파라미터 값 설정 \n",
    "sns.set(font=font_family, rc ={\"axes.unicode_minus\" : False})  "
   ]
  },
  {
   "cell_type": "markdown",
   "id": "47252061",
   "metadata": {},
   "source": [
    "## statsmodels 패키지\n",
    "- statsmodel 패키지는 추정 및 검정, 회귀분석, 시계열분석 등의 기능을 제공하는 파이썬 패키지\n",
    "- 예제 데이터셋\n",
    "- 검정 및 모수추정\n",
    "- 회귀분석\n",
    "- 선형회귀\n",
    "- 강건회귀\n",
    "- 일반화 선형모형\n",
    "- 혼합효과모형\n",
    "- 이산종속변수\n",
    "- 시계열 분석\n",
    "- ... \n",
    "- 요인분석\n",
    "\n",
    "### StatsModels에서 제공하는 정규성검정 명령어\n",
    "\n",
    "- 콜모고로프-스미르노프 검정(Kolmogorov-Smirnov test) : statsmodels.stats.diagnostic.kstest_normal\n",
    "- 옴니버스 검정(Omnibus Normality test) : statsmodels.stats.stattools.omni_normtest\n",
    "- 자크-베라 검정(Jarque–Bera test) : statsmodels.stats.stattools.jarque_bera\n",
    "- 릴리포스 검정(Lilliefors test) : statsmodels.stats.diagnostic.lillifors\n",
    "\n",
    "### 사이파이 에서 제공하는 정규성검정 명령어\n",
    "\n",
    "- 콜모고로프-스미르노프 검정(Kolmogorov-Smirnov test) : scipy.stats.ks_2samp\n",
    "- 샤피로-윌크 검정(Shapiro–Wilk test) : scipy.stats.shapiro\n",
    "- 앤더스-달링 검정(Anderson–Darling test) : scipy.stats.anderson\n",
    "- 다고스티노 K-제곱 검정(D'Agostino's K-squared test) : scipy.stats.mstats.normaltest\n"
   ]
  },
  {
   "cell_type": "markdown",
   "id": "57db3fb8",
   "metadata": {},
   "source": [
    "## 1. t검정\n",
    "### 1) 일표본 t-검정 (one sample t-test)\n",
    "- stats.ttest_1samp() 이용(alternative :{‘two-sided’, ‘less’, ‘greater’})\n",
    "- stats.shapiro 정규성 검정\n",
    "- numpy의 std는 모표준편차(ddof=0)이 기본값  \n",
    "- pandas의 std는 표본표준편차(ddof=1)이 기본값 \n",
    "\n",
    "#### 증명하고자 하는 가설 \n",
    "아이리포 중학교 1학년의 평균키는 175cm로 알려져있다. 실제로도 그러한지 알아보기 위해 학새 14명을 임의로 뽑아서 키를 측정 하였다. \n",
    "해당 데이터를 가지고 아이리포 중학교 1학년 학생의 평균 키는 175cm와 같다고 할 수 있는지 검정해보자\n",
    "- 귀무가설 : 아이리포 중학교 1학년의 평균키는 175cm이다. \n",
    "- 대립가설 : 아이리포 중학교 1학년의 평균키는 175cm가 아니다. "
   ]
  },
  {
   "cell_type": "code",
   "execution_count": 10,
   "id": "32542188",
   "metadata": {},
   "outputs": [],
   "source": [
    "# 모집단 데이터 \n",
    "data = [177.3, 182.7, 169.6, 160, 180.3, 179.4, 178.5, 177.2, 181.8, 176.5, 190, 185, 167, 171]"
   ]
  },
  {
   "cell_type": "markdown",
   "id": "9251b5f1",
   "metadata": {},
   "source": [
    "### 2) 대응표본 t-검정 (paired sample t-test) \n",
    " - stats.ttest_rel(before_data, after_data) \n",
    "\n",
    "#### 증명하고자 하는 가설 \n",
    "10명의 환자를 대상으로 비타민을 복용하기 전과 후의 수면시간을 측정하여 비타민의 효과가 있는지를 판단하고자 한다. \n",
    "표본이 정규성을 만족한다는 가정하에 수면시간의 차이가 줄어 들었는지 검정 \n",
    "- 귀무가설 : 수면영양제를 복용하기 전과 후의 평균 수면시간에는 차이가 없다.(D=0)\n",
    "- 대립가설 : 수면영양제를 복용하기 전과 후의 평균 수면시간 차이는 0보다 작다.(D<0)"
   ]
  },
  {
   "cell_type": "code",
   "execution_count": 11,
   "id": "f8adb373",
   "metadata": {},
   "outputs": [],
   "source": [
    "# 검정 데이터 관측치 \n",
    "before_data = [7,3,4,5,2,1,6,6,5,4]\n",
    "after_data = [8,4,5,6,2,3,6,8,6,5]"
   ]
  },
  {
   "cell_type": "markdown",
   "id": "67bc9788",
   "metadata": {},
   "source": [
    "### 3) 독립표본 t-검정 (Independent Sample t-Test)\n",
    "\n",
    " - 등분산성 만족 : stats.ttest_ind(x,y,  equal_var=True)\n",
    " - 등분산성 불만족 : stats.ttest_ind(x,y,  equal_var=False)\n",
    "\n",
    "#### 증명하고자 하는 가설 \n",
    "서울과 구미, 두 지역의 겨울 낮 최고기온에 차이가 있는지를 알아보기 위해 12일동안 두 지역의 낮 최고기온을 측정한 데이터로 독립표본 t검정을 수행해보자. (표본이 정규성을 만족한다는 가정,양측검정 수행)\n",
    "- 귀무가설 : a,b 두 지역에 따른 겨울 낮 최고기온은 차이가 없다.\n",
    "- 대립가설 : a,b 두 지역에 따른 겨울 낮 최고기온은 차이가 있다."
   ]
  },
  {
   "cell_type": "code",
   "execution_count": 12,
   "id": "56519eeb",
   "metadata": {},
   "outputs": [],
   "source": [
    "# 데이터 프레임 \n",
    "seoul = [-1,0,3,4,1,3,3,1,1,3,2,4]\n",
    "daegu = [6,6,8,8,11,11,10,8,8,9,7,10]\n",
    "region = ['seoul']*12 + ['daegu']*12\n",
    "data = pd.DataFrame({'region':region, 'temp':seoul+daegu})"
   ]
  },
  {
   "cell_type": "markdown",
   "id": "702fef1c",
   "metadata": {},
   "source": [
    "## 2. 분산분석(ANOVA)\n",
    "\n",
    "### 1) 일원분산분석(One-way ANOVA)\n",
    "- 3개 이상의 범주를 갖는 하나의 실험 요인(독립변수)에 대한 하나의 종속 변수의 평균 차이를 검정 하는 분석\n",
    "- stats.f_oneway() : scipy f통계량\n",
    "- statsmodels.stats.anova() : stats모델 anova \n",
    "\n",
    "#### 증명하고자 하는 가설\n",
    "\n",
    "4개의 각기 다른 신입사원 교육훈련 기법의 효과성을 평가하고자 한다. 새로 입사한 32명의 신입사원에게 4개의 교육 기관에서 다른 학습 방법을 적용 시켰다. 한 달간의 훈련기간이 끝난 후 시험을 쳤는데 그 점수는 아래와 같다. 4개의 교육훈련 기법간 차이가 있는가? 만약 있다면 어떻게 다른가?\n",
    "\n",
    "-> 4개 이상의 대응표본을 비교해야 하므로 일원배치 분산분석 기법을 사용해야 한다. \n",
    "\n",
    "- 귀무가설 : 4개의 교육훈련 기법간의 차이가 없다.\n",
    "- 대립가설 : 4개의 교육훈련 기법간이 차이가 있다.\n",
    "\n"
   ]
  },
  {
   "cell_type": "code",
   "execution_count": 13,
   "id": "921139ee",
   "metadata": {},
   "outputs": [],
   "source": [
    "# 데이터 셋 \n",
    "a = [66,74,82,75,73,97,87,78]\n",
    "b = [72,51,59,62,74,64,78,63]\n",
    "c = [61,60,57,60,81,77,70,71]\n",
    "d = [63,61,76,84,58,65,69,80]"
   ]
  },
  {
   "cell_type": "markdown",
   "id": "3273bf0e",
   "metadata": {},
   "source": [
    "### 2) 이원분산분석(Two-way ANOVA)\n",
    "#### 종속변수가 1개, 독립변수가 2개이면서 독립변수 각각이 factor(요인)로서 factor내에 level(수준)을 가지고 있을 때,각 집단의 평균의 유의미한 차이가 있는지 유무를 확인\n",
    "\n",
    "#### 증명하고자 하는 가설\n",
    "- 귀무가설 : 강도에 대한 각 판유리와 온도간에는 상호작용효과가 없다 \n",
    "- 대립가설 : 강도에 대한 각 판유리와 온도간에는 상호작용효과가 없다 "
   ]
  },
  {
   "cell_type": "markdown",
   "id": "f2bddc9f",
   "metadata": {},
   "source": [
    "### 2) 이원분산분석(Two-way ANOVA)\n",
    "#### 종속변수가 1개, 독립변수가 2개이면서 독립변수 각각이 factor(요인)로서 factor내에 level(수준)을 가지고 있을 때,각 집단의 평균의 유의미한 차이가 있는지 유무를 확인\n",
    "\n",
    "#### 증명하고자 하는 가설\n",
    "- 귀무가설 : 강도에 대한 각 판유리와 온도간에는 상호작용효과가 없다 \n",
    "- 대립가설 : 강도에 대한 각 판유리와 온도간에는 상호작용효과가 없다 "
   ]
  },
  {
   "cell_type": "markdown",
   "id": "78cf9ba9",
   "metadata": {},
   "source": [
    "## 2. 카이제곱 검정 \n",
    "\n",
    "### 1)적합도 검정(Goodness of Fit)\n",
    "- k개의 범주 (혹은 계급)을 가지는 한 개의 요인(factor)에 대해서 어떤 이론적 분포를 따르고 있는지를 검정하는 방법\n",
    "#### stats.chisquare()\n",
    "- 귀무가설 : 실제분포와 이론적 분포 간에는 차이가 없다. (두 분포가 일치한다.)\n",
    "- 대립가설 : 실제분포와 이론적 분포 간에는 차이가 있다. (두 분포가 일치하지 않는다.)"
   ]
  },
  {
   "cell_type": "markdown",
   "id": "484bc1e9",
   "metadata": {},
   "source": [
    "### 2)독립성검정(Test of Independence) \n",
    "\n",
    "- 모집단을 범주화하는 기준이 되는 두 변수 A,B가 서로 독립적으로 관측값에 영향을 미치는지의 여부를 검정하는 것\n",
    "\n",
    "#### crosstab() : 교차표 생성 함수 \n",
    "#### scipy 모듈의 chi2_contingency() : 2개의 범주형 변수에 대한 카이제곱 통계량 계산 \n",
    "\n",
    "- 귀무가설 : 두 변수 사이에는 연관이 없다. (독립이다.)\n",
    "- 대립가설 : 두 변수 사이에는 연관이 있다. (종속이다.)"
   ]
  },
  {
   "cell_type": "code",
   "execution_count": 15,
   "id": "65ca1782",
   "metadata": {},
   "outputs": [
    {
     "data": {
      "text/html": [
       "<div>\n",
       "<style scoped>\n",
       "    .dataframe tbody tr th:only-of-type {\n",
       "        vertical-align: middle;\n",
       "    }\n",
       "\n",
       "    .dataframe tbody tr th {\n",
       "        vertical-align: top;\n",
       "    }\n",
       "\n",
       "    .dataframe thead th {\n",
       "        text-align: right;\n",
       "    }\n",
       "</style>\n",
       "<table border=\"1\" class=\"dataframe\">\n",
       "  <thead>\n",
       "    <tr style=\"text-align: right;\">\n",
       "      <th></th>\n",
       "      <th>영양제</th>\n",
       "      <th>감기여부</th>\n",
       "    </tr>\n",
       "  </thead>\n",
       "  <tbody>\n",
       "    <tr>\n",
       "      <th>0</th>\n",
       "      <td>복용</td>\n",
       "      <td>유</td>\n",
       "    </tr>\n",
       "    <tr>\n",
       "      <th>1</th>\n",
       "      <td>복용</td>\n",
       "      <td>유</td>\n",
       "    </tr>\n",
       "    <tr>\n",
       "      <th>2</th>\n",
       "      <td>복용</td>\n",
       "      <td>유</td>\n",
       "    </tr>\n",
       "    <tr>\n",
       "      <th>3</th>\n",
       "      <td>복용</td>\n",
       "      <td>유</td>\n",
       "    </tr>\n",
       "    <tr>\n",
       "      <th>4</th>\n",
       "      <td>복용</td>\n",
       "      <td>유</td>\n",
       "    </tr>\n",
       "  </tbody>\n",
       "</table>\n",
       "</div>"
      ],
      "text/plain": [
       "  영양제 감기여부\n",
       "0  복용    유\n",
       "1  복용    유\n",
       "2  복용    유\n",
       "3  복용    유\n",
       "4  복용    유"
      ]
     },
     "execution_count": 15,
     "metadata": {},
     "output_type": "execute_result"
    }
   ],
   "source": [
    "#교차분석 하기 위한 범주형 데이터 정의\n",
    "cross_data = pd.DataFrame(\n",
    "                {\"영양제\":['복용','복용','복용','복용','복용','복용','복용','복용',\n",
    "                         '복용','복용','복용','복용','복용','복용','복용','복용',\n",
    "                         '복용','복용','복용','복용',\n",
    "                         '미복용','미복용','미복용','미복용','미복용','미복용','미복용','미복용',\n",
    "                         '미복용','미복용','미복용','미복용','미복용','미복용','미복용','미복용',\n",
    "                         '미복용','미복용','미복용','미복용'], \n",
    "                 \n",
    "                 \"감기여부\":['유','유','유','유','유','무','무','무','무','무',\n",
    "                             '무','무','무','무','무','무','무','무','무','무',\n",
    "                             '유','유','유','유','유','유','유','유','유','유',\n",
    "                             '유','유','무','무','무','무','무','무','무','무']\n",
    "                }\n",
    ")\n",
    "\n",
    "cross_data.head(5)"
   ]
  }
 ],
 "metadata": {
  "kernelspec": {
   "display_name": "Python 3 (ipykernel)",
   "language": "python",
   "name": "python3"
  },
  "language_info": {
   "codemirror_mode": {
    "name": "ipython",
    "version": 3
   },
   "file_extension": ".py",
   "mimetype": "text/x-python",
   "name": "python",
   "nbconvert_exporter": "python",
   "pygments_lexer": "ipython3",
   "version": "3.9.12"
  }
 },
 "nbformat": 4,
 "nbformat_minor": 5
}
